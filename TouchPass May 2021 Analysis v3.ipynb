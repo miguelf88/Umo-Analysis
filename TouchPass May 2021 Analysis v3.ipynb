{
 "cells": [
  {
   "cell_type": "markdown",
   "id": "8886ad26",
   "metadata": {},
   "source": [
    "# TouchPass Analysis"
   ]
  },
  {
   "cell_type": "markdown",
   "id": "4ce6ee13",
   "metadata": {},
   "source": [
    "The data for this analysis is from May 2021 and comes from the TouchPass API. The first half of the analysis will be a basic exploratory analysis and will generate some statistics and figures for the overall usage of the TouchPass system. The second half of the analysis will look at the utilization of the daily fare capping feature that is possible through the TouchPass system. Fare capping is an equitable practice in public transit whereby passengers who pay their fares using 'stored value' will ride for free once their usage reaches the amount spent for a daily or monthly pass. For example, a daily pass is \\\\$5.00. Once a passenger pays \\\\$5.00 in a day using stored value, whatever trips they take beyond that are free for the rest of the day."
   ]
  },
  {
   "cell_type": "code",
   "execution_count": 60,
   "id": "045899b8",
   "metadata": {},
   "outputs": [],
   "source": [
    "# Import libraries\n",
    "import os\n",
    "import json\n",
    "import requests\n",
    "import numpy as np\n",
    "import pandas as pd\n",
    "import geopandas as gpd\n",
    "import movingpandas as mpd\n",
    "\n",
    "import datetime as dt\n",
    "import seaborn as sns\n",
    "import matplotlib.pyplot as plt\n",
    "\n",
    "from shapely.geometry import Point\n",
    "\n",
    "import warnings\n",
    "warnings.simplefilter(\"ignore\")\n",
    "\n",
    "pd.options.display.max_columns = 999"
   ]
  },
  {
   "cell_type": "markdown",
   "id": "9a9391b5",
   "metadata": {},
   "source": [
    "Next, we'll pass in the parameters to the TouchPass API and then make the call to the API."
   ]
  },
  {
   "cell_type": "code",
   "execution_count": 2,
   "id": "7a8ba25e",
   "metadata": {},
   "outputs": [],
   "source": [
    "# define parameters\n",
    "url = 'https://touchpass.com/ams/rest/v1/reporting/faretx/'\n",
    "api_key = os.environ.get('TOUCHPASS_API_KEY')\n",
    "\n",
    "start = '2021-05-01T10:00:00Z'\n",
    "end = '2021-06-01T04:00:00Z'\n",
    "\n",
    "headers = {\n",
    "    'accept': 'application/json',\n",
    "    'Api-Token': api_key,\n",
    "    'Agency-ID': '9K7A4H9JHRVQ'\n",
    "}"
   ]
  },
  {
   "cell_type": "code",
   "execution_count": 3,
   "id": "99c108cc",
   "metadata": {
    "scrolled": true
   },
   "outputs": [
    {
     "name": "stdout",
     "output_type": "stream",
     "text": [
      "Finished reading 8,643 transactions\n",
      "Wall time: 2.59 s\n"
     ]
    }
   ],
   "source": [
    "%%time\n",
    "\n",
    "# call api and save to variable\n",
    "response = requests.get(url + start + '/' + end, headers=headers).json()\n",
    "\n",
    "# write response to dataframe\n",
    "df = pd.DataFrame(response)\n",
    "\n",
    "print('Finished reading {:,} transactions'.format(len(df)))"
   ]
  },
  {
   "cell_type": "code",
   "execution_count": 4,
   "id": "41d8bd87",
   "metadata": {},
   "outputs": [
    {
     "data": {
      "text/html": [
       "<div>\n",
       "<style scoped>\n",
       "    .dataframe tbody tr th:only-of-type {\n",
       "        vertical-align: middle;\n",
       "    }\n",
       "\n",
       "    .dataframe tbody tr th {\n",
       "        vertical-align: top;\n",
       "    }\n",
       "\n",
       "    .dataframe thead th {\n",
       "        text-align: right;\n",
       "    }\n",
       "</style>\n",
       "<table border=\"1\" class=\"dataframe\">\n",
       "  <thead>\n",
       "    <tr style=\"text-align: right;\">\n",
       "      <th></th>\n",
       "      <th>txId</th>\n",
       "      <th>ts</th>\n",
       "      <th>type</th>\n",
       "      <th>mediaUsed</th>\n",
       "      <th>mediaType</th>\n",
       "      <th>cardNumber</th>\n",
       "      <th>fareType</th>\n",
       "      <th>accountId</th>\n",
       "      <th>routeName</th>\n",
       "      <th>latitude</th>\n",
       "      <th>longitude</th>\n",
       "      <th>reader</th>\n",
       "      <th>readerPosition</th>\n",
       "      <th>fare</th>\n",
       "      <th>stopName</th>\n",
       "      <th>stopId</th>\n",
       "      <th>passUsed</th>\n",
       "      <th>vehicle</th>\n",
       "    </tr>\n",
       "  </thead>\n",
       "  <tbody>\n",
       "    <tr>\n",
       "      <th>0</th>\n",
       "      <td>4900000000007651</td>\n",
       "      <td>2021-05-01T10:27:12.607Z</td>\n",
       "      <td>MONTHLY_CAP_REACHED</td>\n",
       "      <td>HOUSE</td>\n",
       "      <td>HOUSE_CARD</td>\n",
       "      <td>8028816339076671</td>\n",
       "      <td>Employee</td>\n",
       "      <td>3164081</td>\n",
       "      <td>DEFAULT</td>\n",
       "      <td>36.093978</td>\n",
       "      <td>-79.959275</td>\n",
       "      <td>H2R217</td>\n",
       "      <td>0</td>\n",
       "      <td>0</td>\n",
       "      <td>NaN</td>\n",
       "      <td>NaN</td>\n",
       "      <td>NaN</td>\n",
       "      <td>NaN</td>\n",
       "    </tr>\n",
       "    <tr>\n",
       "      <th>1</th>\n",
       "      <td>4990000000004544</td>\n",
       "      <td>2021-05-01T10:57:07.240Z</td>\n",
       "      <td>TRIP_PASS</td>\n",
       "      <td>HOUSE</td>\n",
       "      <td>HOUSE_CARD</td>\n",
       "      <td>8002762949719302</td>\n",
       "      <td>Full Fare</td>\n",
       "      <td>3175928</td>\n",
       "      <td>2</td>\n",
       "      <td>36.069205</td>\n",
       "      <td>-79.786919</td>\n",
       "      <td>H2R252</td>\n",
       "      <td>0</td>\n",
       "      <td>0</td>\n",
       "      <td>Greensboro Depot</td>\n",
       "      <td>142</td>\n",
       "      <td>Full Fare 10 Ride</td>\n",
       "      <td>NaN</td>\n",
       "    </tr>\n",
       "    <tr>\n",
       "      <th>2</th>\n",
       "      <td>5230000000005269</td>\n",
       "      <td>2021-05-01T10:57:55.861Z</td>\n",
       "      <td>TRIP_PASS</td>\n",
       "      <td>HOUSE</td>\n",
       "      <td>HOUSE_CARD</td>\n",
       "      <td>8084343859045235</td>\n",
       "      <td>Half Priced</td>\n",
       "      <td>3142217</td>\n",
       "      <td>3</td>\n",
       "      <td>35.957476</td>\n",
       "      <td>-80.007037</td>\n",
       "      <td>H2R263</td>\n",
       "      <td>0</td>\n",
       "      <td>0</td>\n",
       "      <td>High Point Terminal (Outer Slip)</td>\n",
       "      <td>225</td>\n",
       "      <td>Half Fare 10 Ride</td>\n",
       "      <td>NaN</td>\n",
       "    </tr>\n",
       "  </tbody>\n",
       "</table>\n",
       "</div>"
      ],
      "text/plain": [
       "               txId                        ts                 type mediaUsed  \\\n",
       "0  4900000000007651  2021-05-01T10:27:12.607Z  MONTHLY_CAP_REACHED     HOUSE   \n",
       "1  4990000000004544  2021-05-01T10:57:07.240Z            TRIP_PASS     HOUSE   \n",
       "2  5230000000005269  2021-05-01T10:57:55.861Z            TRIP_PASS     HOUSE   \n",
       "\n",
       "    mediaType        cardNumber     fareType  accountId routeName   latitude  \\\n",
       "0  HOUSE_CARD  8028816339076671     Employee    3164081   DEFAULT  36.093978   \n",
       "1  HOUSE_CARD  8002762949719302    Full Fare    3175928         2  36.069205   \n",
       "2  HOUSE_CARD  8084343859045235  Half Priced    3142217         3  35.957476   \n",
       "\n",
       "   longitude  reader  readerPosition  fare                          stopName  \\\n",
       "0 -79.959275  H2R217               0     0                               NaN   \n",
       "1 -79.786919  H2R252               0     0                  Greensboro Depot   \n",
       "2 -80.007037  H2R263               0     0  High Point Terminal (Outer Slip)   \n",
       "\n",
       "  stopId           passUsed vehicle  \n",
       "0    NaN                NaN     NaN  \n",
       "1    142  Full Fare 10 Ride     NaN  \n",
       "2    225  Half Fare 10 Ride     NaN  "
      ]
     },
     "execution_count": 4,
     "metadata": {},
     "output_type": "execute_result"
    }
   ],
   "source": [
    "# preview data\n",
    "df.head(3)"
   ]
  },
  {
   "cell_type": "markdown",
   "id": "acdb4432",
   "metadata": {},
   "source": [
    "The dataframe above gives us a preview of what the data looks like. Let's take another look at it before we start to process it."
   ]
  },
  {
   "cell_type": "code",
   "execution_count": 5,
   "id": "befb0806",
   "metadata": {},
   "outputs": [
    {
     "name": "stdout",
     "output_type": "stream",
     "text": [
      "<class 'pandas.core.frame.DataFrame'>\n",
      "RangeIndex: 8643 entries, 0 to 8642\n",
      "Data columns (total 18 columns):\n",
      " #   Column          Non-Null Count  Dtype  \n",
      "---  ------          --------------  -----  \n",
      " 0   txId            8643 non-null   int64  \n",
      " 1   ts              8643 non-null   object \n",
      " 2   type            8643 non-null   object \n",
      " 3   mediaUsed       8643 non-null   object \n",
      " 4   mediaType       8643 non-null   object \n",
      " 5   cardNumber      8643 non-null   object \n",
      " 6   fareType        8643 non-null   object \n",
      " 7   accountId       8643 non-null   int64  \n",
      " 8   routeName       8643 non-null   object \n",
      " 9   latitude        8643 non-null   float64\n",
      " 10  longitude       8643 non-null   float64\n",
      " 11  reader          8643 non-null   object \n",
      " 12  readerPosition  8643 non-null   int64  \n",
      " 13  fare            8643 non-null   int64  \n",
      " 14  stopName        7829 non-null   object \n",
      " 15  stopId          7829 non-null   object \n",
      " 16  passUsed        3377 non-null   object \n",
      " 17  vehicle         1059 non-null   object \n",
      "dtypes: float64(2), int64(4), object(12)\n",
      "memory usage: 1.2+ MB\n"
     ]
    }
   ],
   "source": [
    "df.info()"
   ]
  },
  {
   "cell_type": "markdown",
   "id": "f3ca0a20",
   "metadata": {},
   "source": [
    "We need to convert `ts` or timestamp to a datetime object. We'll also convert the time to Eastern Standard time and create a few attributes for date and time. Then we'll drop a few columns that are of no interest to the analysis."
   ]
  },
  {
   "cell_type": "code",
   "execution_count": 6,
   "id": "ce461395",
   "metadata": {},
   "outputs": [],
   "source": [
    "# Convert ts to a datetime object\n",
    "df['ts'] = pd.to_datetime(df['ts'])\n",
    "# Create new Date field and convert ts from UTC to local time\n",
    "df['date'] = df['ts'].dt.tz_convert('US/Eastern')\n",
    "# Create date only field\n",
    "df['date_only'] = df['date'].dt.date\n",
    "df['time_only'] = [dt.datetime.time(d) for d in df['date']]"
   ]
  },
  {
   "cell_type": "code",
   "execution_count": 7,
   "id": "8af08537",
   "metadata": {},
   "outputs": [],
   "source": [
    "sdf = gpd.GeoDataFrame(df, geometry=gpd.points_from_xy(df['longitude'], df['latitude']))"
   ]
  },
  {
   "cell_type": "code",
   "execution_count": 8,
   "id": "30e0146e",
   "metadata": {},
   "outputs": [],
   "source": [
    "cols_to_drop = ['txId', 'ts', 'mediaUsed', 'accountId', 'reader', 'readerPosition', 'vehicle', 'latitude', 'longitude']"
   ]
  },
  {
   "cell_type": "code",
   "execution_count": 9,
   "id": "5a62f5bf",
   "metadata": {},
   "outputs": [],
   "source": [
    "sdf.drop(cols_to_drop, axis=1, inplace=True)"
   ]
  },
  {
   "cell_type": "markdown",
   "id": "2221a0c2",
   "metadata": {},
   "source": [
    "With our data set converted, we will visualize any missing data."
   ]
  },
  {
   "cell_type": "code",
   "execution_count": 10,
   "id": "e445998d",
   "metadata": {},
   "outputs": [
    {
     "data": {
      "image/png": "[encoded data removed]",
      "text/plain": [
       "<Figure size 1080x576 with 1 Axes>"
      ]
     },
     "metadata": {
      "needs_background": "light"
     },
     "output_type": "display_data"
    }
   ],
   "source": [
    "plt.figure(figsize=(15,8))\n",
    "ax = sns.heatmap(sdf.isnull(), cbar=False, cmap='magma')\n",
    "plt.yticks([])\n",
    "plt.title('Missing data by attribute', fontsize=15)\n",
    "plt.show()"
   ]
  },
  {
   "cell_type": "markdown",
   "id": "b4add4df",
   "metadata": {},
   "source": [
    "We can see that there are a few missing values in the `stopName` and `stopId` attributes. There are even more missing values in the `passUsed` attributes. What this tells us is that most transactions have been completed using stored value which acts as cash and there is no pass used.\n",
    "\n",
    "Let's learn a little more about which passes have been used."
   ]
  },
  {
   "cell_type": "code",
   "execution_count": 11,
   "id": "c33c0f1f",
   "metadata": {},
   "outputs": [
    {
     "data": {
      "text/html": [
       "<div>\n",
       "<style scoped>\n",
       "    .dataframe tbody tr th:only-of-type {\n",
       "        vertical-align: middle;\n",
       "    }\n",
       "\n",
       "    .dataframe tbody tr th {\n",
       "        vertical-align: top;\n",
       "    }\n",
       "\n",
       "    .dataframe thead th {\n",
       "        text-align: right;\n",
       "    }\n",
       "</style>\n",
       "<table border=\"1\" class=\"dataframe\">\n",
       "  <thead>\n",
       "    <tr style=\"text-align: right;\">\n",
       "      <th></th>\n",
       "      <th>passUsed</th>\n",
       "    </tr>\n",
       "  </thead>\n",
       "  <tbody>\n",
       "    <tr>\n",
       "      <th>Full Fare 10 Ride</th>\n",
       "      <td>1060</td>\n",
       "    </tr>\n",
       "    <tr>\n",
       "      <th>UNC XPass 2020-21</th>\n",
       "      <td>673</td>\n",
       "    </tr>\n",
       "    <tr>\n",
       "      <th>Half Fare 10 Ride</th>\n",
       "      <td>647</td>\n",
       "    </tr>\n",
       "    <tr>\n",
       "      <th>Half Fare 31 Day</th>\n",
       "      <td>215</td>\n",
       "    </tr>\n",
       "    <tr>\n",
       "      <th>Student 31 Day</th>\n",
       "      <td>169</td>\n",
       "    </tr>\n",
       "    <tr>\n",
       "      <th>Free One Way PT</th>\n",
       "      <td>139</td>\n",
       "    </tr>\n",
       "    <tr>\n",
       "      <th>One Way PT</th>\n",
       "      <td>135</td>\n",
       "    </tr>\n",
       "    <tr>\n",
       "      <th>Triad XPass 10 Ride</th>\n",
       "      <td>114</td>\n",
       "    </tr>\n",
       "    <tr>\n",
       "      <th>Full Fare 31 Day</th>\n",
       "      <td>83</td>\n",
       "    </tr>\n",
       "    <tr>\n",
       "      <th>Student 10 Ride</th>\n",
       "      <td>57</td>\n",
       "    </tr>\n",
       "    <tr>\n",
       "      <th>10-Ride Accomm</th>\n",
       "      <td>28</td>\n",
       "    </tr>\n",
       "    <tr>\n",
       "      <th>XPass 31 Day</th>\n",
       "      <td>20</td>\n",
       "    </tr>\n",
       "    <tr>\n",
       "      <th>Free One Way Accom</th>\n",
       "      <td>18</td>\n",
       "    </tr>\n",
       "    <tr>\n",
       "      <th>PTI Airport Connector</th>\n",
       "      <td>12</td>\n",
       "    </tr>\n",
       "    <tr>\n",
       "      <th>Free Round-Trip</th>\n",
       "      <td>4</td>\n",
       "    </tr>\n",
       "    <tr>\n",
       "      <th>Triad XPass 31 Day</th>\n",
       "      <td>3</td>\n",
       "    </tr>\n",
       "  </tbody>\n",
       "</table>\n",
       "</div>"
      ],
      "text/plain": [
       "                       passUsed\n",
       "Full Fare 10 Ride          1060\n",
       "UNC XPass 2020-21           673\n",
       "Half Fare 10 Ride           647\n",
       "Half Fare 31 Day            215\n",
       "Student 31 Day              169\n",
       "Free One Way PT             139\n",
       "One Way PT                  135\n",
       "Triad XPass 10 Ride         114\n",
       "Full Fare 31 Day             83\n",
       "Student 10 Ride              57\n",
       "10-Ride Accomm               28\n",
       "XPass 31 Day                 20\n",
       "Free One Way Accom           18\n",
       "PTI Airport Connector        12\n",
       "Free Round-Trip               4\n",
       "Triad XPass 31 Day            3"
      ]
     },
     "execution_count": 11,
     "metadata": {},
     "output_type": "execute_result"
    }
   ],
   "source": [
    "sdf['passUsed'].value_counts().to_frame()"
   ]
  },
  {
   "cell_type": "markdown",
   "id": "9522c169",
   "metadata": {},
   "source": [
    "We can see that there are a variety of passes used on PART Express but the most common pass is the `Full Fare 10 Ride`. There also appears to be an equal number of `UNC XPass` and `Half Fare 10 Ride` passes used in the month of May. We also see that the `Triad XPass 10 Ride` is more popular than the `XPass 31 Day` pass."
   ]
  },
  {
   "cell_type": "markdown",
   "id": "05a42f83",
   "metadata": {},
   "source": [
    "Let's see how many unique `cardNumber`s there are in the data set. We might assume this number represents the unique passengers in the system."
   ]
  },
  {
   "cell_type": "code",
   "execution_count": 12,
   "id": "8a082a3f",
   "metadata": {},
   "outputs": [
    {
     "data": {
      "text/plain": [
       "836"
      ]
     },
     "execution_count": 12,
     "metadata": {},
     "output_type": "execute_result"
    }
   ],
   "source": [
    "# unique users in data set\n",
    "len(sdf['cardNumber'].unique())"
   ]
  },
  {
   "cell_type": "markdown",
   "id": "730e2a6c",
   "metadata": {},
   "source": [
    "We can see that there are 836 unique card numbers in the data set. \n",
    "\n",
    "Let's look at the types of transactions..."
   ]
  },
  {
   "cell_type": "code",
   "execution_count": 13,
   "id": "4a2889e8",
   "metadata": {},
   "outputs": [
    {
     "data": {
      "text/html": [
       "<div>\n",
       "<style scoped>\n",
       "    .dataframe tbody tr th:only-of-type {\n",
       "        vertical-align: middle;\n",
       "    }\n",
       "\n",
       "    .dataframe tbody tr th {\n",
       "        vertical-align: top;\n",
       "    }\n",
       "\n",
       "    .dataframe thead th {\n",
       "        text-align: right;\n",
       "    }\n",
       "</style>\n",
       "<table border=\"1\" class=\"dataframe\">\n",
       "  <thead>\n",
       "    <tr style=\"text-align: right;\">\n",
       "      <th></th>\n",
       "      <th>type</th>\n",
       "    </tr>\n",
       "  </thead>\n",
       "  <tbody>\n",
       "    <tr>\n",
       "      <th>TRANSFER</th>\n",
       "      <td>2378</td>\n",
       "    </tr>\n",
       "    <tr>\n",
       "      <th>TRIP_PASS</th>\n",
       "      <td>2206</td>\n",
       "    </tr>\n",
       "    <tr>\n",
       "      <th>STORED_VALUE</th>\n",
       "      <td>1238</td>\n",
       "    </tr>\n",
       "    <tr>\n",
       "      <th>DAILY_CAP_REACHED</th>\n",
       "      <td>959</td>\n",
       "    </tr>\n",
       "    <tr>\n",
       "      <th>MONTHLY_CAP_REACHED</th>\n",
       "      <td>699</td>\n",
       "    </tr>\n",
       "    <tr>\n",
       "      <th>CALENDAR_PASS</th>\n",
       "      <td>673</td>\n",
       "    </tr>\n",
       "    <tr>\n",
       "      <th>TIME_PASS</th>\n",
       "      <td>490</td>\n",
       "    </tr>\n",
       "  </tbody>\n",
       "</table>\n",
       "</div>"
      ],
      "text/plain": [
       "                     type\n",
       "TRANSFER             2378\n",
       "TRIP_PASS            2206\n",
       "STORED_VALUE         1238\n",
       "DAILY_CAP_REACHED     959\n",
       "MONTHLY_CAP_REACHED   699\n",
       "CALENDAR_PASS         673\n",
       "TIME_PASS             490"
      ]
     },
     "execution_count": 13,
     "metadata": {},
     "output_type": "execute_result"
    }
   ],
   "source": [
    "sdf['type'].value_counts().to_frame()"
   ]
  },
  {
   "cell_type": "code",
   "execution_count": 14,
   "id": "20402e21",
   "metadata": {},
   "outputs": [
    {
     "data": {
      "text/html": [
       "<div>\n",
       "<style scoped>\n",
       "    .dataframe tbody tr th:only-of-type {\n",
       "        vertical-align: middle;\n",
       "    }\n",
       "\n",
       "    .dataframe tbody tr th {\n",
       "        vertical-align: top;\n",
       "    }\n",
       "\n",
       "    .dataframe thead th {\n",
       "        text-align: right;\n",
       "    }\n",
       "</style>\n",
       "<table border=\"1\" class=\"dataframe\">\n",
       "  <thead>\n",
       "    <tr style=\"text-align: right;\">\n",
       "      <th></th>\n",
       "      <th>type</th>\n",
       "    </tr>\n",
       "  </thead>\n",
       "  <tbody>\n",
       "    <tr>\n",
       "      <th>TRANSFER</th>\n",
       "      <td>27.513595</td>\n",
       "    </tr>\n",
       "    <tr>\n",
       "      <th>TRIP_PASS</th>\n",
       "      <td>25.523545</td>\n",
       "    </tr>\n",
       "    <tr>\n",
       "      <th>STORED_VALUE</th>\n",
       "      <td>14.323730</td>\n",
       "    </tr>\n",
       "    <tr>\n",
       "      <th>DAILY_CAP_REACHED</th>\n",
       "      <td>11.095684</td>\n",
       "    </tr>\n",
       "    <tr>\n",
       "      <th>MONTHLY_CAP_REACHED</th>\n",
       "      <td>8.087470</td>\n",
       "    </tr>\n",
       "    <tr>\n",
       "      <th>CALENDAR_PASS</th>\n",
       "      <td>7.786648</td>\n",
       "    </tr>\n",
       "    <tr>\n",
       "      <th>TIME_PASS</th>\n",
       "      <td>5.669328</td>\n",
       "    </tr>\n",
       "  </tbody>\n",
       "</table>\n",
       "</div>"
      ],
      "text/plain": [
       "                          type\n",
       "TRANSFER             27.513595\n",
       "TRIP_PASS            25.523545\n",
       "STORED_VALUE         14.323730\n",
       "DAILY_CAP_REACHED    11.095684\n",
       "MONTHLY_CAP_REACHED   8.087470\n",
       "CALENDAR_PASS         7.786648\n",
       "TIME_PASS             5.669328"
      ]
     },
     "execution_count": 14,
     "metadata": {},
     "output_type": "execute_result"
    }
   ],
   "source": [
    "sdf['type'].value_counts(normalize=True).to_frame()*100"
   ]
  },
  {
   "cell_type": "markdown",
   "id": "0132d42d",
   "metadata": {},
   "source": [
    "Looking at the types of transactions, we can see that `TRANSFER` is the most common. The second table shows that transfers account for about 27% of transactions in May in the TouchPass system. Only about 14% or 1,238 transactions used `STORED VALUE`."
   ]
  },
  {
   "cell_type": "code",
   "execution_count": 15,
   "id": "4018dd0d",
   "metadata": {},
   "outputs": [],
   "source": [
    "# group by cardNumber and date\n",
    "all_cards_by_date = sdf.groupby(['cardNumber', 'date_only']).size().to_frame()\n",
    "\n",
    "# rename column\n",
    "all_cards_by_date.rename(columns={0: 'Count'}, inplace=True)"
   ]
  },
  {
   "cell_type": "code",
   "execution_count": 16,
   "id": "2dc6bf7d",
   "metadata": {},
   "outputs": [
    {
     "data": {
      "text/html": [
       "<div>\n",
       "<style scoped>\n",
       "    .dataframe tbody tr th:only-of-type {\n",
       "        vertical-align: middle;\n",
       "    }\n",
       "\n",
       "    .dataframe tbody tr th {\n",
       "        vertical-align: top;\n",
       "    }\n",
       "\n",
       "    .dataframe thead th {\n",
       "        text-align: right;\n",
       "    }\n",
       "</style>\n",
       "<table border=\"1\" class=\"dataframe\">\n",
       "  <thead>\n",
       "    <tr style=\"text-align: right;\">\n",
       "      <th></th>\n",
       "      <th>Count</th>\n",
       "    </tr>\n",
       "    <tr>\n",
       "      <th>cardNumber</th>\n",
       "      <th></th>\n",
       "    </tr>\n",
       "  </thead>\n",
       "  <tbody>\n",
       "    <tr>\n",
       "      <th>8043099273812846</th>\n",
       "      <td>94</td>\n",
       "    </tr>\n",
       "    <tr>\n",
       "      <th>8002762949719302</th>\n",
       "      <td>86</td>\n",
       "    </tr>\n",
       "    <tr>\n",
       "      <th>7836721698662976</th>\n",
       "      <td>81</td>\n",
       "    </tr>\n",
       "    <tr>\n",
       "      <th>8084965856722984</th>\n",
       "      <td>80</td>\n",
       "    </tr>\n",
       "    <tr>\n",
       "      <th>8040448200289326</th>\n",
       "      <td>78</td>\n",
       "    </tr>\n",
       "  </tbody>\n",
       "</table>\n",
       "</div>"
      ],
      "text/plain": [
       "                  Count\n",
       "cardNumber             \n",
       "8043099273812846     94\n",
       "8002762949719302     86\n",
       "7836721698662976     81\n",
       "8084965856722984     80\n",
       "8040448200289326     78"
      ]
     },
     "execution_count": 16,
     "metadata": {},
     "output_type": "execute_result"
    }
   ],
   "source": [
    "all_cards_by_date.sum(level='cardNumber').sort_values(by='Count', ascending=False)[0:5]"
   ]
  },
  {
   "cell_type": "markdown",
   "id": "7f1ecfba",
   "metadata": {},
   "source": [
    "The table above shows the top 5 card numbers by number of transactions. We can see that one passenger had 94 transactions in the month of May. Let's take a look at the average number of transactions by card number."
   ]
  },
  {
   "cell_type": "code",
   "execution_count": 17,
   "id": "6be0030f",
   "metadata": {},
   "outputs": [
    {
     "data": {
      "text/html": [
       "<div>\n",
       "<style scoped>\n",
       "    .dataframe tbody tr th:only-of-type {\n",
       "        vertical-align: middle;\n",
       "    }\n",
       "\n",
       "    .dataframe tbody tr th {\n",
       "        vertical-align: top;\n",
       "    }\n",
       "\n",
       "    .dataframe thead th {\n",
       "        text-align: right;\n",
       "    }\n",
       "</style>\n",
       "<table border=\"1\" class=\"dataframe\">\n",
       "  <thead>\n",
       "    <tr style=\"text-align: right;\">\n",
       "      <th></th>\n",
       "      <th>Count</th>\n",
       "    </tr>\n",
       "    <tr>\n",
       "      <th>cardNumber</th>\n",
       "      <th></th>\n",
       "    </tr>\n",
       "  </thead>\n",
       "  <tbody>\n",
       "    <tr>\n",
       "      <th>8085476407283467</th>\n",
       "      <td>6.000000</td>\n",
       "    </tr>\n",
       "    <tr>\n",
       "      <th>7096424500002979</th>\n",
       "      <td>5.916667</td>\n",
       "    </tr>\n",
       "    <tr>\n",
       "      <th>8005074717035789</th>\n",
       "      <td>5.428571</td>\n",
       "    </tr>\n",
       "    <tr>\n",
       "      <th>8079064859863347</th>\n",
       "      <td>5.000000</td>\n",
       "    </tr>\n",
       "    <tr>\n",
       "      <th>8059132773694942</th>\n",
       "      <td>5.000000</td>\n",
       "    </tr>\n",
       "  </tbody>\n",
       "</table>\n",
       "</div>"
      ],
      "text/plain": [
       "                     Count\n",
       "cardNumber                \n",
       "8085476407283467  6.000000\n",
       "7096424500002979  5.916667\n",
       "8005074717035789  5.428571\n",
       "8079064859863347  5.000000\n",
       "8059132773694942  5.000000"
      ]
     },
     "execution_count": 17,
     "metadata": {},
     "output_type": "execute_result"
    }
   ],
   "source": [
    "all_cards_by_date.mean(level='cardNumber').sort_values(by='Count', ascending=False)[0:5]"
   ]
  },
  {
   "cell_type": "markdown",
   "id": "ba5732b3",
   "metadata": {},
   "source": [
    "We can see that the highest daily average is 6.0 transactions. \n",
    "\n",
    "Let's see how many stops passengers utilize."
   ]
  },
  {
   "cell_type": "code",
   "execution_count": 18,
   "id": "cfeb2dce",
   "metadata": {},
   "outputs": [],
   "source": [
    "all_cards_by_stop = sdf.groupby('cardNumber')['stopName'].nunique().sort_values(ascending=False)"
   ]
  },
  {
   "cell_type": "code",
   "execution_count": 19,
   "id": "d6159250",
   "metadata": {},
   "outputs": [
    {
     "data": {
      "text/html": [
       "<div>\n",
       "<style scoped>\n",
       "    .dataframe tbody tr th:only-of-type {\n",
       "        vertical-align: middle;\n",
       "    }\n",
       "\n",
       "    .dataframe tbody tr th {\n",
       "        vertical-align: top;\n",
       "    }\n",
       "\n",
       "    .dataframe thead th {\n",
       "        text-align: right;\n",
       "    }\n",
       "</style>\n",
       "<table border=\"1\" class=\"dataframe\">\n",
       "  <thead>\n",
       "    <tr style=\"text-align: right;\">\n",
       "      <th></th>\n",
       "      <th>stopName</th>\n",
       "    </tr>\n",
       "    <tr>\n",
       "      <th>cardNumber</th>\n",
       "      <th></th>\n",
       "    </tr>\n",
       "  </thead>\n",
       "  <tbody>\n",
       "    <tr>\n",
       "      <th>8052921885342607</th>\n",
       "      <td>8</td>\n",
       "    </tr>\n",
       "    <tr>\n",
       "      <th>8015331484731141</th>\n",
       "      <td>8</td>\n",
       "    </tr>\n",
       "    <tr>\n",
       "      <th>8002150993129240</th>\n",
       "      <td>8</td>\n",
       "    </tr>\n",
       "    <tr>\n",
       "      <th>8084182476520810</th>\n",
       "      <td>7</td>\n",
       "    </tr>\n",
       "    <tr>\n",
       "      <th>8066038346750072</th>\n",
       "      <td>7</td>\n",
       "    </tr>\n",
       "  </tbody>\n",
       "</table>\n",
       "</div>"
      ],
      "text/plain": [
       "                  stopName\n",
       "cardNumber                \n",
       "8052921885342607         8\n",
       "8015331484731141         8\n",
       "8002150993129240         8\n",
       "8084182476520810         7\n",
       "8066038346750072         7"
      ]
     },
     "execution_count": 19,
     "metadata": {},
     "output_type": "execute_result"
    }
   ],
   "source": [
    "all_cards_by_stop.to_frame()[0:5]"
   ]
  },
  {
   "cell_type": "markdown",
   "id": "f2577bf7",
   "metadata": {},
   "source": [
    "The table shows the top five card numbers with the most unique stop activity. We can see that three passengers utilized as many as 8 stops while at least two passengers accessed the system from 7 different stops in the month of May."
   ]
  },
  {
   "cell_type": "code",
   "execution_count": 20,
   "id": "539fdb28",
   "metadata": {},
   "outputs": [],
   "source": [
    "bar_order = [\n",
    "    '1', '2', '3', '4', '5', '6', '9', '10', '17',\n",
    "    '20', '21', '22', '23', '24', '20/21', '22/23',\n",
    "    'North Shuttle', 'South Shuttle', 'DEFAULT'\n",
    "]"
   ]
  },
  {
   "cell_type": "code",
   "execution_count": 21,
   "id": "17839a6e",
   "metadata": {},
   "outputs": [
    {
     "data": {
      "image/png": "[encoded data removed]",
      "text/plain": [
       "<Figure size 1080x504 with 1 Axes>"
      ]
     },
     "metadata": {
      "needs_background": "light"
     },
     "output_type": "display_data"
    }
   ],
   "source": [
    "plt.figure(figsize=(15,7))\n",
    "ax = sns.countplot(x=sdf['routeName'], order=bar_order, palette='Set2')\n",
    "plt.title('Umo Transactions by Route for May 2021', fontsize=15)\n",
    "plt.xticks(rotation=45, rotation_mode='anchor', horizontalalignment='right', fontsize=12)\n",
    "plt.yticks(fontsize=12)\n",
    "plt.xlabel('')\n",
    "plt.ylabel('Count', fontsize=13)\n",
    "plt.show()"
   ]
  },
  {
   "cell_type": "markdown",
   "id": "fbb6ed65",
   "metadata": {},
   "source": [
    "The bar plot above shows the number of transactions by route for the month of May. We can see that the majority of Umo transactions occurred on Route 2. The transactions appear to be evenly split among Routes 1 and 3. There are also slightly less transactions on Route 4. The remaining routes seem to have low utilization."
   ]
  },
  {
   "cell_type": "markdown",
   "id": "f2c2c800",
   "metadata": {},
   "source": [
    "### Daily Fare Cap Utilization"
   ]
  },
  {
   "cell_type": "markdown",
   "id": "c2a7ab99",
   "metadata": {},
   "source": [
    "Let's take a look at the utilization of the daily fare capping. We'll first need to filter for passengers who use stored value and do not use some sort of pass. We'll also remove any employees."
   ]
  },
  {
   "cell_type": "code",
   "execution_count": 22,
   "id": "6a63a2bf",
   "metadata": {},
   "outputs": [],
   "source": [
    "# create array of card numbers who use stored value and are not employees\n",
    "sv_users = sdf.loc[(sdf['type'] == 'STORED_VALUE') & (sdf['fareType'] != 'Employee'), 'cardNumber'].unique()"
   ]
  },
  {
   "cell_type": "code",
   "execution_count": 23,
   "id": "d7f61117",
   "metadata": {},
   "outputs": [],
   "source": [
    "# create data set of trips of those users who used store value\n",
    "sv_user_trips = sdf[sdf['cardNumber'].isin(sv_users)]"
   ]
  },
  {
   "cell_type": "code",
   "execution_count": 24,
   "id": "39dc67ef",
   "metadata": {},
   "outputs": [],
   "source": [
    "# create index for days in May and create list for day of week name\n",
    "may_days = pd.date_range(start='2021-05-01', end='2021-05-31')\n",
    "dow_names = may_days.day_name()\n",
    "\n",
    "daily_cap_reached = []\n",
    "daily_passengers = []\n",
    "\n",
    "for day in may_days:\n",
    "    # create dataframe for each day\n",
    "    x = sv_user_trips[sv_user_trips['date_only'] == day]\n",
    "    \n",
    "    # get number of unique card numbers who reached their daily fare cap\n",
    "    x_cap = x[x['type'] == 'DAILY_CAP_REACHED']['cardNumber'].nunique()\n",
    "    daily_cap_reached.append(x_cap)\n",
    "    \n",
    "    # get number of unique card numbers who had\n",
    "    # at least one transaction that day\n",
    "    x_passengers = x['cardNumber'].nunique()\n",
    "    daily_passengers.append(x_passengers)"
   ]
  },
  {
   "cell_type": "code",
   "execution_count": 25,
   "id": "57623c8d",
   "metadata": {},
   "outputs": [
    {
     "data": {
      "text/html": [
       "<div>\n",
       "<style scoped>\n",
       "    .dataframe tbody tr th:only-of-type {\n",
       "        vertical-align: middle;\n",
       "    }\n",
       "\n",
       "    .dataframe tbody tr th {\n",
       "        vertical-align: top;\n",
       "    }\n",
       "\n",
       "    .dataframe thead th {\n",
       "        text-align: right;\n",
       "    }\n",
       "</style>\n",
       "<table border=\"1\" class=\"dataframe\">\n",
       "  <thead>\n",
       "    <tr style=\"text-align: right;\">\n",
       "      <th></th>\n",
       "      <th>Day of Week</th>\n",
       "      <th>Reached Daily Cap</th>\n",
       "      <th>SV Unique Passengers</th>\n",
       "      <th>Daily Cap Percent</th>\n",
       "    </tr>\n",
       "  </thead>\n",
       "  <tbody>\n",
       "    <tr>\n",
       "      <th>2021-05-01</th>\n",
       "      <td>Saturday</td>\n",
       "      <td>8</td>\n",
       "      <td>30</td>\n",
       "      <td>26.67</td>\n",
       "    </tr>\n",
       "    <tr>\n",
       "      <th>2021-05-03</th>\n",
       "      <td>Monday</td>\n",
       "      <td>26</td>\n",
       "      <td>71</td>\n",
       "      <td>36.62</td>\n",
       "    </tr>\n",
       "    <tr>\n",
       "      <th>2021-05-04</th>\n",
       "      <td>Tuesday</td>\n",
       "      <td>21</td>\n",
       "      <td>66</td>\n",
       "      <td>31.82</td>\n",
       "    </tr>\n",
       "    <tr>\n",
       "      <th>2021-05-05</th>\n",
       "      <td>Wednesday</td>\n",
       "      <td>23</td>\n",
       "      <td>70</td>\n",
       "      <td>32.86</td>\n",
       "    </tr>\n",
       "    <tr>\n",
       "      <th>2021-05-06</th>\n",
       "      <td>Thursday</td>\n",
       "      <td>33</td>\n",
       "      <td>75</td>\n",
       "      <td>44.00</td>\n",
       "    </tr>\n",
       "    <tr>\n",
       "      <th>2021-05-07</th>\n",
       "      <td>Friday</td>\n",
       "      <td>22</td>\n",
       "      <td>72</td>\n",
       "      <td>30.56</td>\n",
       "    </tr>\n",
       "    <tr>\n",
       "      <th>2021-05-08</th>\n",
       "      <td>Saturday</td>\n",
       "      <td>7</td>\n",
       "      <td>35</td>\n",
       "      <td>20.00</td>\n",
       "    </tr>\n",
       "    <tr>\n",
       "      <th>2021-05-10</th>\n",
       "      <td>Monday</td>\n",
       "      <td>13</td>\n",
       "      <td>70</td>\n",
       "      <td>18.57</td>\n",
       "    </tr>\n",
       "    <tr>\n",
       "      <th>2021-05-11</th>\n",
       "      <td>Tuesday</td>\n",
       "      <td>21</td>\n",
       "      <td>62</td>\n",
       "      <td>33.87</td>\n",
       "    </tr>\n",
       "    <tr>\n",
       "      <th>2021-05-12</th>\n",
       "      <td>Wednesday</td>\n",
       "      <td>24</td>\n",
       "      <td>71</td>\n",
       "      <td>33.80</td>\n",
       "    </tr>\n",
       "    <tr>\n",
       "      <th>2021-05-13</th>\n",
       "      <td>Thursday</td>\n",
       "      <td>32</td>\n",
       "      <td>77</td>\n",
       "      <td>41.56</td>\n",
       "    </tr>\n",
       "    <tr>\n",
       "      <th>2021-05-14</th>\n",
       "      <td>Friday</td>\n",
       "      <td>20</td>\n",
       "      <td>61</td>\n",
       "      <td>32.79</td>\n",
       "    </tr>\n",
       "    <tr>\n",
       "      <th>2021-05-15</th>\n",
       "      <td>Saturday</td>\n",
       "      <td>10</td>\n",
       "      <td>29</td>\n",
       "      <td>34.48</td>\n",
       "    </tr>\n",
       "    <tr>\n",
       "      <th>2021-05-17</th>\n",
       "      <td>Monday</td>\n",
       "      <td>19</td>\n",
       "      <td>71</td>\n",
       "      <td>26.76</td>\n",
       "    </tr>\n",
       "    <tr>\n",
       "      <th>2021-05-18</th>\n",
       "      <td>Tuesday</td>\n",
       "      <td>29</td>\n",
       "      <td>74</td>\n",
       "      <td>39.19</td>\n",
       "    </tr>\n",
       "    <tr>\n",
       "      <th>2021-05-19</th>\n",
       "      <td>Wednesday</td>\n",
       "      <td>22</td>\n",
       "      <td>69</td>\n",
       "      <td>31.88</td>\n",
       "    </tr>\n",
       "    <tr>\n",
       "      <th>2021-05-20</th>\n",
       "      <td>Thursday</td>\n",
       "      <td>27</td>\n",
       "      <td>78</td>\n",
       "      <td>34.62</td>\n",
       "    </tr>\n",
       "    <tr>\n",
       "      <th>2021-05-21</th>\n",
       "      <td>Friday</td>\n",
       "      <td>21</td>\n",
       "      <td>79</td>\n",
       "      <td>26.58</td>\n",
       "    </tr>\n",
       "    <tr>\n",
       "      <th>2021-05-22</th>\n",
       "      <td>Saturday</td>\n",
       "      <td>11</td>\n",
       "      <td>30</td>\n",
       "      <td>36.67</td>\n",
       "    </tr>\n",
       "    <tr>\n",
       "      <th>2021-05-24</th>\n",
       "      <td>Monday</td>\n",
       "      <td>15</td>\n",
       "      <td>75</td>\n",
       "      <td>20.00</td>\n",
       "    </tr>\n",
       "    <tr>\n",
       "      <th>2021-05-25</th>\n",
       "      <td>Tuesday</td>\n",
       "      <td>27</td>\n",
       "      <td>76</td>\n",
       "      <td>35.53</td>\n",
       "    </tr>\n",
       "    <tr>\n",
       "      <th>2021-05-26</th>\n",
       "      <td>Wednesday</td>\n",
       "      <td>22</td>\n",
       "      <td>67</td>\n",
       "      <td>32.84</td>\n",
       "    </tr>\n",
       "    <tr>\n",
       "      <th>2021-05-27</th>\n",
       "      <td>Thursday</td>\n",
       "      <td>19</td>\n",
       "      <td>73</td>\n",
       "      <td>26.03</td>\n",
       "    </tr>\n",
       "    <tr>\n",
       "      <th>2021-05-28</th>\n",
       "      <td>Friday</td>\n",
       "      <td>27</td>\n",
       "      <td>73</td>\n",
       "      <td>36.99</td>\n",
       "    </tr>\n",
       "    <tr>\n",
       "      <th>2021-05-29</th>\n",
       "      <td>Saturday</td>\n",
       "      <td>12</td>\n",
       "      <td>26</td>\n",
       "      <td>46.15</td>\n",
       "    </tr>\n",
       "  </tbody>\n",
       "</table>\n",
       "</div>"
      ],
      "text/plain": [
       "           Day of Week  Reached Daily Cap  SV Unique Passengers  \\\n",
       "2021-05-01    Saturday                  8                    30   \n",
       "2021-05-03      Monday                 26                    71   \n",
       "2021-05-04     Tuesday                 21                    66   \n",
       "2021-05-05   Wednesday                 23                    70   \n",
       "2021-05-06    Thursday                 33                    75   \n",
       "2021-05-07      Friday                 22                    72   \n",
       "2021-05-08    Saturday                  7                    35   \n",
       "2021-05-10      Monday                 13                    70   \n",
       "2021-05-11     Tuesday                 21                    62   \n",
       "2021-05-12   Wednesday                 24                    71   \n",
       "2021-05-13    Thursday                 32                    77   \n",
       "2021-05-14      Friday                 20                    61   \n",
       "2021-05-15    Saturday                 10                    29   \n",
       "2021-05-17      Monday                 19                    71   \n",
       "2021-05-18     Tuesday                 29                    74   \n",
       "2021-05-19   Wednesday                 22                    69   \n",
       "2021-05-20    Thursday                 27                    78   \n",
       "2021-05-21      Friday                 21                    79   \n",
       "2021-05-22    Saturday                 11                    30   \n",
       "2021-05-24      Monday                 15                    75   \n",
       "2021-05-25     Tuesday                 27                    76   \n",
       "2021-05-26   Wednesday                 22                    67   \n",
       "2021-05-27    Thursday                 19                    73   \n",
       "2021-05-28      Friday                 27                    73   \n",
       "2021-05-29    Saturday                 12                    26   \n",
       "\n",
       "            Daily Cap Percent  \n",
       "2021-05-01              26.67  \n",
       "2021-05-03              36.62  \n",
       "2021-05-04              31.82  \n",
       "2021-05-05              32.86  \n",
       "2021-05-06              44.00  \n",
       "2021-05-07              30.56  \n",
       "2021-05-08              20.00  \n",
       "2021-05-10              18.57  \n",
       "2021-05-11              33.87  \n",
       "2021-05-12              33.80  \n",
       "2021-05-13              41.56  \n",
       "2021-05-14              32.79  \n",
       "2021-05-15              34.48  \n",
       "2021-05-17              26.76  \n",
       "2021-05-18              39.19  \n",
       "2021-05-19              31.88  \n",
       "2021-05-20              34.62  \n",
       "2021-05-21              26.58  \n",
       "2021-05-22              36.67  \n",
       "2021-05-24              20.00  \n",
       "2021-05-25              35.53  \n",
       "2021-05-26              32.84  \n",
       "2021-05-27              26.03  \n",
       "2021-05-28              36.99  \n",
       "2021-05-29              46.15  "
      ]
     },
     "execution_count": 25,
     "metadata": {},
     "output_type": "execute_result"
    }
   ],
   "source": [
    "# create dataframe from data above\n",
    "daily_cap_sample = pd.DataFrame(list(zip(dow_names, daily_cap_reached, daily_passengers)),\n",
    "                               columns=['Day of Week', 'Reached Daily Cap', 'SV Unique Passengers'],\n",
    "                               index=may_days)\n",
    "\n",
    "# create daily cap percent column\n",
    "daily_cap_sample['Daily Cap Percent'] = round(\n",
    "    daily_cap_sample['Reached Daily Cap'] / daily_cap_sample['SV Unique Passengers'] * 100, 2\n",
    ")\n",
    "\n",
    "# show table and remove days with no trips\n",
    "daily_cap_sample[daily_cap_sample['SV Unique Passengers'] > 0]"
   ]
  },
  {
   "cell_type": "code",
   "execution_count": 26,
   "id": "5c1f27c3",
   "metadata": {},
   "outputs": [
    {
     "data": {
      "image/png": "[encoded data removed]",
      "text/plain": [
       "<Figure size 1080x504 with 1 Axes>"
      ]
     },
     "metadata": {
      "needs_background": "light"
     },
     "output_type": "display_data"
    }
   ],
   "source": [
    "# create line chart for percentage daily cap reached\n",
    "plt.figure(figsize=(15,7))\n",
    "ax = sns.lineplot(\n",
    "    data=daily_cap_sample,\n",
    "    x=daily_cap_sample.index,\n",
    "    y='Daily Cap Percent',\n",
    "    marker='o',\n",
    "    markersize=8.75,\n",
    "    linewidth=3,\n",
    "    color='#2B5877'\n",
    ")\n",
    "sns.despine()\n",
    "plt.title('Percentage of Daily Cap Reached by Day, May 2021', fontsize=15)\n",
    "plt.xticks(fontsize=12)\n",
    "plt.yticks(fontsize=12)\n",
    "plt.xlabel('')\n",
    "plt.ylabel('Percentage', fontsize=13)\n",
    "plt.ylim(0, 50)\n",
    "plt.show()"
   ]
  },
  {
   "cell_type": "code",
   "execution_count": 27,
   "id": "ee3f175c",
   "metadata": {},
   "outputs": [
    {
     "name": "stdout",
     "output_type": "stream",
     "text": [
      "Of passengers who use stored value, the average percentage of passengers who reached their daily cap during the week is 32.34, while the average percentage for Saturday is 32.79\n"
     ]
    }
   ],
   "source": [
    "avg_wkdy_cap_per = daily_cap_sample[daily_cap_sample['Day of Week'] != 'Saturday']['Daily Cap Percent'].mean()\n",
    "avg_sat_cap_per = daily_cap_sample[daily_cap_sample['Day of Week'] == 'Saturday']['Daily Cap Percent'].mean()\n",
    "\n",
    "print('Of passengers who use stored value, the average percentage of passengers who reached their daily cap during the week is {:.2f}, while the average percentage for Saturday is {:.2f}'.format(avg_wkdy_cap_per, avg_sat_cap_per))"
   ]
  },
  {
   "cell_type": "markdown",
   "id": "ef059aee",
   "metadata": {},
   "source": [
    "It appears that daily fare capping is equally utilized on Saturdays and during the week. At least in the month of May. The 32 percent utilization is really interesting because say a passenger uses their TouchPass/Umo account to board a bus in the morning and they pay their fare using stored value. Then in the afternoon, they board a bus paying with their stored value. Because this second transaction meets the daily fare cap limit, this transaction is recorded as having reached their daily fare cap. With this information, it is surprising to see such low utilization of the daily fare capping benefits. "
   ]
  },
  {
   "cell_type": "markdown",
   "id": "46dda844",
   "metadata": {},
   "source": [
    "To demonstrate that last point, let's sample the data set and confirm that is how the system behaves."
   ]
  },
  {
   "cell_type": "code",
   "execution_count": 28,
   "id": "9fee6b8d",
   "metadata": {},
   "outputs": [
    {
     "data": {
      "text/html": [
       "<div>\n",
       "<style scoped>\n",
       "    .dataframe tbody tr th:only-of-type {\n",
       "        vertical-align: middle;\n",
       "    }\n",
       "\n",
       "    .dataframe tbody tr th {\n",
       "        vertical-align: top;\n",
       "    }\n",
       "\n",
       "    .dataframe thead th {\n",
       "        text-align: right;\n",
       "    }\n",
       "</style>\n",
       "<table border=\"1\" class=\"dataframe\">\n",
       "  <thead>\n",
       "    <tr style=\"text-align: right;\">\n",
       "      <th></th>\n",
       "      <th>cardNumber</th>\n",
       "      <th>date_only</th>\n",
       "    </tr>\n",
       "  </thead>\n",
       "  <tbody>\n",
       "    <tr>\n",
       "      <th>8088</th>\n",
       "      <td>8034118865554789</td>\n",
       "      <td>2021-05-27</td>\n",
       "    </tr>\n",
       "  </tbody>\n",
       "</table>\n",
       "</div>"
      ],
      "text/plain": [
       "            cardNumber   date_only\n",
       "8088  8034118865554789  2021-05-27"
      ]
     },
     "execution_count": 28,
     "metadata": {},
     "output_type": "execute_result"
    }
   ],
   "source": [
    "sdf[sdf['type'] == 'DAILY_CAP_REACHED'][['cardNumber', 'date_only']].sample(1, random_state=999)"
   ]
  },
  {
   "cell_type": "code",
   "execution_count": 29,
   "id": "0b9c6507",
   "metadata": {},
   "outputs": [
    {
     "data": {
      "text/html": [
       "<div>\n",
       "<style scoped>\n",
       "    .dataframe tbody tr th:only-of-type {\n",
       "        vertical-align: middle;\n",
       "    }\n",
       "\n",
       "    .dataframe tbody tr th {\n",
       "        vertical-align: top;\n",
       "    }\n",
       "\n",
       "    .dataframe thead th {\n",
       "        text-align: right;\n",
       "    }\n",
       "</style>\n",
       "<table border=\"1\" class=\"dataframe\">\n",
       "  <thead>\n",
       "    <tr style=\"text-align: right;\">\n",
       "      <th></th>\n",
       "      <th>type</th>\n",
       "      <th>mediaType</th>\n",
       "      <th>cardNumber</th>\n",
       "      <th>fareType</th>\n",
       "      <th>routeName</th>\n",
       "      <th>fare</th>\n",
       "      <th>stopName</th>\n",
       "      <th>stopId</th>\n",
       "      <th>passUsed</th>\n",
       "      <th>date</th>\n",
       "      <th>date_only</th>\n",
       "      <th>time_only</th>\n",
       "      <th>geometry</th>\n",
       "    </tr>\n",
       "  </thead>\n",
       "  <tbody>\n",
       "    <tr>\n",
       "      <th>7928</th>\n",
       "      <td>STORED_VALUE</td>\n",
       "      <td>HOUSE_CARD</td>\n",
       "      <td>8034118865554789</td>\n",
       "      <td>Full Fare</td>\n",
       "      <td>3</td>\n",
       "      <td>250</td>\n",
       "      <td>High Point Terminal (Outer Slip)</td>\n",
       "      <td>225</td>\n",
       "      <td>NaN</td>\n",
       "      <td>2021-05-27 13:21:12.206000-04:00</td>\n",
       "      <td>2021-05-27</td>\n",
       "      <td>13:21:12.206000</td>\n",
       "      <td>POINT (-80.00729 35.95728)</td>\n",
       "    </tr>\n",
       "    <tr>\n",
       "      <th>7948</th>\n",
       "      <td>TRANSFER</td>\n",
       "      <td>HOUSE_CARD</td>\n",
       "      <td>8034118865554789</td>\n",
       "      <td>Full Fare</td>\n",
       "      <td>2</td>\n",
       "      <td>0</td>\n",
       "      <td>Coble Transportation Center</td>\n",
       "      <td>100</td>\n",
       "      <td>NaN</td>\n",
       "      <td>2021-05-27 14:44:08.967000-04:00</td>\n",
       "      <td>2021-05-27</td>\n",
       "      <td>14:44:08.967000</td>\n",
       "      <td>POINT (-79.95934 36.09366)</td>\n",
       "    </tr>\n",
       "    <tr>\n",
       "      <th>8088</th>\n",
       "      <td>DAILY_CAP_REACHED</td>\n",
       "      <td>HOUSE_CARD</td>\n",
       "      <td>8034118865554789</td>\n",
       "      <td>Full Fare</td>\n",
       "      <td>2</td>\n",
       "      <td>250</td>\n",
       "      <td>Greensboro Depot</td>\n",
       "      <td>142</td>\n",
       "      <td>NaN</td>\n",
       "      <td>2021-05-27 18:14:16.818000-04:00</td>\n",
       "      <td>2021-05-27</td>\n",
       "      <td>18:14:16.818000</td>\n",
       "      <td>POINT (-79.78680 36.06929)</td>\n",
       "    </tr>\n",
       "    <tr>\n",
       "      <th>8102</th>\n",
       "      <td>DAILY_CAP_REACHED</td>\n",
       "      <td>HOUSE_CARD</td>\n",
       "      <td>8034118865554789</td>\n",
       "      <td>Full Fare</td>\n",
       "      <td>3</td>\n",
       "      <td>0</td>\n",
       "      <td>Coble Transportation Center</td>\n",
       "      <td>100</td>\n",
       "      <td>NaN</td>\n",
       "      <td>2021-05-27 18:44:17.441000-04:00</td>\n",
       "      <td>2021-05-27</td>\n",
       "      <td>18:44:17.441000</td>\n",
       "      <td>POINT (-79.95913 36.09392)</td>\n",
       "    </tr>\n",
       "  </tbody>\n",
       "</table>\n",
       "</div>"
      ],
      "text/plain": [
       "                   type   mediaType        cardNumber   fareType routeName  \\\n",
       "7928       STORED_VALUE  HOUSE_CARD  8034118865554789  Full Fare         3   \n",
       "7948           TRANSFER  HOUSE_CARD  8034118865554789  Full Fare         2   \n",
       "8088  DAILY_CAP_REACHED  HOUSE_CARD  8034118865554789  Full Fare         2   \n",
       "8102  DAILY_CAP_REACHED  HOUSE_CARD  8034118865554789  Full Fare         3   \n",
       "\n",
       "      fare                          stopName stopId passUsed  \\\n",
       "7928   250  High Point Terminal (Outer Slip)    225      NaN   \n",
       "7948     0       Coble Transportation Center    100      NaN   \n",
       "8088   250                  Greensboro Depot    142      NaN   \n",
       "8102     0       Coble Transportation Center    100      NaN   \n",
       "\n",
       "                                 date   date_only        time_only  \\\n",
       "7928 2021-05-27 13:21:12.206000-04:00  2021-05-27  13:21:12.206000   \n",
       "7948 2021-05-27 14:44:08.967000-04:00  2021-05-27  14:44:08.967000   \n",
       "8088 2021-05-27 18:14:16.818000-04:00  2021-05-27  18:14:16.818000   \n",
       "8102 2021-05-27 18:44:17.441000-04:00  2021-05-27  18:44:17.441000   \n",
       "\n",
       "                        geometry  \n",
       "7928  POINT (-80.00729 35.95728)  \n",
       "7948  POINT (-79.95934 36.09366)  \n",
       "8088  POINT (-79.78680 36.06929)  \n",
       "8102  POINT (-79.95913 36.09392)  "
      ]
     },
     "execution_count": 29,
     "metadata": {},
     "output_type": "execute_result"
    }
   ],
   "source": [
    "sdf.loc[(sdf['cardNumber'] == '8034118865554789') & (sdf['date_only'] == pd.to_datetime('2021-05-27'))].sort_values(by='time_only')"
   ]
  },
  {
   "cell_type": "markdown",
   "id": "94174963",
   "metadata": {},
   "source": [
    "The table above confirms our understanding of the TouchPass system. We can see this passenger boarded Route 3 at the High Point Terminal around 1:21 PM. They used their free transfer to board Route 2 at the CTC at 2:45 PM. Then their next transaction occurred around 6:15 PM and is recorded as having reached their daily fare cap. Any subsequent transactions will be recorded as such."
   ]
  },
  {
   "cell_type": "markdown",
   "id": "893e95fa",
   "metadata": {},
   "source": [
    "Let's examine how passengers who reach their daily fare cap behave versus those pasesngers who do not. To do this, we will create two data sets. One will contain transactions for days where passengers reached their daily fare cap and the second will contain transactions on days where passengers did not reach their daily fare cap."
   ]
  },
  {
   "cell_type": "code",
   "execution_count": 30,
   "id": "026bec51",
   "metadata": {},
   "outputs": [
    {
     "name": "stdout",
     "output_type": "stream",
     "text": [
      "Wall time: 146 ms\n"
     ]
    }
   ],
   "source": [
    "%%time\n",
    "# create empty list to store matching records\n",
    "cap_data = []\n",
    "noncap_data = []\n",
    "\n",
    "for day in may_days:\n",
    "    # create dataframe for each day\n",
    "    x = sv_user_trips[sv_user_trips['date_only'] == day]\n",
    "    \n",
    "    # get number of unique card numbers who reached their daily fare cap\n",
    "    daily_cap_reached_cards = x[x['type'] == 'DAILY_CAP_REACHED']['cardNumber'].unique()\n",
    "    \n",
    "    # create data set of daily transactions of those users who reached daily fare cap\n",
    "    daily_cap_trx = (x[x['cardNumber'].isin(daily_cap_reached_cards)])\n",
    "    nondaily_cap_trx = (x[~x['cardNumber'].isin(daily_cap_reached_cards)])\n",
    "    \n",
    "    # append data to list \n",
    "    cap_data.append(daily_cap_trx)\n",
    "    noncap_data.append(nondaily_cap_trx)\n",
    "\n",
    "# merge data\n",
    "daily_cap_trx_df = pd.concat(cap_data)\n",
    "non_daily_cap_trx_df = pd.concat(noncap_data)"
   ]
  },
  {
   "cell_type": "markdown",
   "id": "00619f92",
   "metadata": {},
   "source": [
    "Let's check to make sure the data was successfully split."
   ]
  },
  {
   "cell_type": "code",
   "execution_count": 31,
   "id": "02267c65",
   "metadata": {},
   "outputs": [
    {
     "data": {
      "text/html": [
       "<div>\n",
       "<style scoped>\n",
       "    .dataframe tbody tr th:only-of-type {\n",
       "        vertical-align: middle;\n",
       "    }\n",
       "\n",
       "    .dataframe tbody tr th {\n",
       "        vertical-align: top;\n",
       "    }\n",
       "\n",
       "    .dataframe thead th {\n",
       "        text-align: right;\n",
       "    }\n",
       "</style>\n",
       "<table border=\"1\" class=\"dataframe\">\n",
       "  <thead>\n",
       "    <tr style=\"text-align: right;\">\n",
       "      <th></th>\n",
       "      <th>type</th>\n",
       "      <th>mediaType</th>\n",
       "      <th>cardNumber</th>\n",
       "      <th>fareType</th>\n",
       "      <th>routeName</th>\n",
       "      <th>fare</th>\n",
       "      <th>stopName</th>\n",
       "      <th>stopId</th>\n",
       "      <th>passUsed</th>\n",
       "      <th>date</th>\n",
       "      <th>date_only</th>\n",
       "      <th>time_only</th>\n",
       "      <th>geometry</th>\n",
       "    </tr>\n",
       "  </thead>\n",
       "  <tbody>\n",
       "  </tbody>\n",
       "</table>\n",
       "</div>"
      ],
      "text/plain": [
       "Empty GeoDataFrame\n",
       "Columns: [type, mediaType, cardNumber, fareType, routeName, fare, stopName, stopId, passUsed, date, date_only, time_only, geometry]\n",
       "Index: []"
      ]
     },
     "execution_count": 31,
     "metadata": {},
     "output_type": "execute_result"
    }
   ],
   "source": [
    "non_daily_cap_trx_df[non_daily_cap_trx_df['type'] == 'DAILY_CAP_REACHED']"
   ]
  },
  {
   "cell_type": "code",
   "execution_count": 32,
   "id": "dce00a78",
   "metadata": {},
   "outputs": [
    {
     "data": {
      "text/plain": [
       "4089"
      ]
     },
     "execution_count": 32,
     "metadata": {},
     "output_type": "execute_result"
    }
   ],
   "source": [
    "len(sv_user_trips)"
   ]
  },
  {
   "cell_type": "code",
   "execution_count": 33,
   "id": "00580f15",
   "metadata": {},
   "outputs": [
    {
     "data": {
      "text/plain": [
       "4089"
      ]
     },
     "execution_count": 33,
     "metadata": {},
     "output_type": "execute_result"
    }
   ],
   "source": [
    "len(daily_cap_trx_df) + len(non_daily_cap_trx_df)"
   ]
  },
  {
   "cell_type": "markdown",
   "id": "6a43cfe3",
   "metadata": {},
   "source": [
    "Great! We can see that there are no transactions in the non-daily fare cap dataframe where daily fare cap was met. And the length of the stored value dataframe matches the length of the two dataframes we just created.\n",
    "\n",
    "Let's see how these two groups of passengers access the system."
   ]
  },
  {
   "cell_type": "code",
   "execution_count": 34,
   "id": "ad46a981",
   "metadata": {},
   "outputs": [
    {
     "data": {
      "image/png": "[encoded data removed]",
      "text/plain": [
       "<Figure size 1080x432 with 2 Axes>"
      ]
     },
     "metadata": {
      "needs_background": "light"
     },
     "output_type": "display_data"
    }
   ],
   "source": [
    "top5_fc_stops = daily_cap_trx_df['stopName'].value_counts(normalize=True)[0:5]\n",
    "top5_nonfc_stops = non_daily_cap_trx_df['stopName'].value_counts(normalize=True)[0:5]\n",
    "\n",
    "fig, axes = plt.subplots(nrows=1, ncols=2, sharey=True, figsize=(15,6))\n",
    "\n",
    "top5_fc_stops.plot(kind='bar', color='#F0584A', ax=axes[0])\n",
    "top5_nonfc_stops.plot(kind='bar', color='#2B5877', ax=axes[1])\n",
    "\n",
    "axes[0].set_title('Most Used Stops for Passegers who Reached Daily Cap', fontsize=15)\n",
    "axes[1].set_title('Most Used Stops for Passengers who did not Reach Daily Cap', fontsize=15)\n",
    "\n",
    "axes[0].set_ylabel('Percentage', fontsize=13)\n",
    "\n",
    "axes[0].set_xticklabels(labels=top5_fc_stops.index, rotation=45, rotation_mode='anchor', horizontalalignment='right', fontsize=12)\n",
    "axes[1].set_xticklabels(labels=top5_nonfc_stops.index, rotation=45, rotation_mode='anchor', horizontalalignment='right', fontsize=12)\n",
    "\n",
    "plt.show()"
   ]
  },
  {
   "cell_type": "markdown",
   "id": "08957f44",
   "metadata": {},
   "source": [
    "The two plots above show the top 5 stops for passengers who utilize daily fare capping and for those passengers who use stored value but have not taken advantage of daily fare capping. The counts have been normalized, or converted to percentages, so they can be easily compared. The plots reveal an almost identical distribution. The same five stops appear in both categories of passengers. The majority of activity is centered on the CTC and the other transportation centers.\n",
    "\n",
    "Let's take a look at time of day."
   ]
  },
  {
   "cell_type": "code",
   "execution_count": 35,
   "id": "621e4401",
   "metadata": {},
   "outputs": [],
   "source": [
    "# create hour attribute in the two dataframes\n",
    "daily_cap_trx_df['HOUR'] = pd.to_datetime(daily_cap_trx_df['date'], format='%Y-%m-%d %H:%M:%S.%f').dt.hour\n",
    "non_daily_cap_trx_df['HOUR'] = pd.to_datetime(non_daily_cap_trx_df['date'], format='%Y-%m-%d %H:%M:%S.%f').dt.hour"
   ]
  },
  {
   "cell_type": "code",
   "execution_count": 36,
   "id": "5cdd97d5",
   "metadata": {},
   "outputs": [],
   "source": [
    "# group by hour and get a count\n",
    "daily_cap_users_by_hour = daily_cap_trx_df.groupby('HOUR').size() / 25 # number of weekdays/Saturdays in May\n",
    "nondaily_cap_users_by_hour = non_daily_cap_trx_df.groupby('HOUR').size() / 25 # number of weekdays/Saturdays in May"
   ]
  },
  {
   "cell_type": "code",
   "execution_count": 37,
   "id": "7e89dc97",
   "metadata": {},
   "outputs": [
    {
     "data": {
      "image/png": "[encoded data removed]",
      "text/plain": [
       "<Figure size 1152x576 with 2 Axes>"
      ]
     },
     "metadata": {
      "needs_background": "light"
     },
     "output_type": "display_data"
    }
   ],
   "source": [
    "# create subplots to show activity throughout the day\n",
    "fig, axes = plt.subplots(nrows=2, ncols=1, sharex=True, figsize=(16,8))\n",
    "\n",
    "daily_cap_users_by_hour.plot(kind='line', marker='o', markersize=8.75, linewidth=3, color='#F0584A', ax=axes[0])\n",
    "nondaily_cap_users_by_hour.plot(kind='line', marker='o', markersize=8.75, linewidth=3, color='#2B5877', ax=axes[1])\n",
    "\n",
    "axes[0].set_title('Average Daily Transactions by Hour for Passengers who Reached Daily Fare Cap', fontsize=15)\n",
    "axes[1].set_title('Average Daily Transactions by Hour for Passengers who did not Reach Daily Fare Cap', fontsize=15)\n",
    "\n",
    "axes[0].set_ylabel('Avg. Daily Transactions', fontsize=13)\n",
    "axes[1].set_ylabel('Avg. Daily Transactions', fontsize=13)\n",
    "\n",
    "plt.show()"
   ]
  },
  {
   "cell_type": "markdown",
   "id": "309d1729",
   "metadata": {},
   "source": [
    "The two plots above show the average number of transactions by hour for the two groups we have been analyzing. Both distributions are bimodal with peaks during the morning and afternoon with a mid-day slump. This is not really the expected output. We would have thought that the passengers who did not reach their daily fare cap would utilize the system differently than those who did reach their daily fare cap.\n",
    "\n",
    "Let me further explain the two data sets so we have a better understanding of what is being displayed. The data set symbolized in the two charts in red represents daily transactions where passengers reached their daily fare cap. The data set symbolized in blue represent daily transactions where the daily fare cap was not reached. So a passenger may have reached their daily fare cap on one day and all of their transactions would be included in the red data set but if they did not reach the fare cap another day, those transactions would be included in the second data set. "
   ]
  },
  {
   "cell_type": "markdown",
   "id": "b8f639b7",
   "metadata": {},
   "source": [
    "Of those passengers who do use daily fare capping, let's try and see how often they ride."
   ]
  },
  {
   "cell_type": "code",
   "execution_count": 121,
   "id": "a45840ec",
   "metadata": {},
   "outputs": [
    {
     "name": "stdout",
     "output_type": "stream",
     "text": [
      "There are 175 unique card numbers who reached their daily fare cap at least once in May 2021\n",
      "This means 54.01 percent use stored value and have taken advantage of its benefits\n"
     ]
    }
   ],
   "source": [
    "num_unique_sv = len(sv_users)\n",
    "num_card_dc = daily_cap_trx_df['cardNumber'].nunique()\n",
    "\n",
    "print('There are {} unique card numbers who reached their daily fare cap at least once in May 2021'.format(num_card_dc))\n",
    "print('This means {} percent use stored value and have taken advantage of its benefits'.format(round(num_card_dc / num_unique_sv * 100, 2)))"
   ]
  },
  {
   "cell_type": "code",
   "execution_count": 152,
   "id": "563b6cd0",
   "metadata": {},
   "outputs": [],
   "source": [
    "daily_cap_cards_unique_days = daily_cap_trx_df.groupby('cardNumber')['date_only'].nunique().to_frame()\n",
    "daily_cap_cards_unique_days.rename(columns={'date_only': 'Number of Days'}, inplace=True)"
   ]
  },
  {
   "cell_type": "code",
   "execution_count": 162,
   "id": "068378c9",
   "metadata": {},
   "outputs": [
    {
     "data": {
      "image/png": "[encoded data removed]",
      "text/plain": [
       "<Figure size 1080x504 with 1 Axes>"
      ]
     },
     "metadata": {
      "needs_background": "light"
     },
     "output_type": "display_data"
    }
   ],
   "source": [
    "plt.figure(figsize=(15,7))\n",
    "ax = sns.countplot(data=daily_cap_cards_unique_days, x='Number of Days', palette='Set2')\n",
    "plt.title('How many days did passengers reach their daily fare cap in May?', fontsize=17)\n",
    "plt.xticks(fontsize=12)\n",
    "plt.yticks(fontsize=12)\n",
    "plt.xlabel('Number of Days', fontsize=13)\n",
    "plt.ylabel('Count', fontsize=13)\n",
    "sns.despine()\n",
    "\n",
    "for p in ax.patches:\n",
    "    height = p.get_height()\n",
    "    ax.text(p.get_x() + p.get_width() / 2., height + 1.2, height, ha=\"center\")\n",
    "\n",
    "plt.show()"
   ]
  },
  {
   "cell_type": "markdown",
   "id": "a27d4837",
   "metadata": {},
   "source": [
    "The plot above shows the count of passengers and how many days that reached their daily fare cap in the month of May. We can see that 82 passengers only reached their daily fare cap once while two passengers reached their cap on 15 separate days. The majority of passengers use this benefit a handful of days. We do see a slight uptick around eight days. In the plots above, we saw passengers who reached their daily fare cap traveling during peak commute times. We might have assumed that these are commuters who travel regularly and therefore would reach their daily cap much more often than this graph shows. We need to keep digging on this. "
   ]
  },
  {
   "cell_type": "markdown",
   "id": "362da9d7",
   "metadata": {},
   "source": [
    "Let's take a look at those folks who never reached their daily fare cap in May."
   ]
  },
  {
   "cell_type": "markdown",
   "id": "b3df247b",
   "metadata": {},
   "source": [
    "### Passengers who never reached their daily fare cap"
   ]
  },
  {
   "cell_type": "code",
   "execution_count": 38,
   "id": "1e1e2c34",
   "metadata": {},
   "outputs": [],
   "source": [
    "# create data set of card numbers for users who reached their daily fare cap\n",
    "daily_cap_cardNumbers = sv_user_trips.loc[sv_user_trips['type'] == 'DAILY_CAP_REACHED', 'cardNumber'].unique()"
   ]
  },
  {
   "cell_type": "code",
   "execution_count": 39,
   "id": "6a07ad7c",
   "metadata": {},
   "outputs": [],
   "source": [
    "# create data set of trips for those users who never reached daily fare cap\n",
    "never_daily_cap_user_trips = sv_user_trips[~sv_user_trips['cardNumber'].isin(daily_cap_cardNumbers)]"
   ]
  },
  {
   "cell_type": "code",
   "execution_count": 40,
   "id": "556ff999",
   "metadata": {},
   "outputs": [],
   "source": [
    "# create attribute for hour\n",
    "never_daily_cap_user_trips['HOUR'] = pd.to_datetime(never_daily_cap_user_trips['date'], format='%Y-%m-%d %H:%M:%S.%f').dt.hour"
   ]
  },
  {
   "cell_type": "code",
   "execution_count": 41,
   "id": "68ccd50f",
   "metadata": {},
   "outputs": [],
   "source": [
    "# group by hour and get a count\n",
    "never_daily_cap_user_trips_by_hours = never_daily_cap_user_trips.groupby('HOUR').size() / 25 # number of weekdays/Saturdays in May"
   ]
  },
  {
   "cell_type": "code",
   "execution_count": 42,
   "id": "2d71930d",
   "metadata": {},
   "outputs": [
    {
     "data": {
      "image/png": "[encoded data removed]",
      "text/plain": [
       "<Figure size 1152x288 with 1 Axes>"
      ]
     },
     "metadata": {
      "needs_background": "light"
     },
     "output_type": "display_data"
    }
   ],
   "source": [
    "plt.figure(figsize=(16, 4))\n",
    "never_daily_cap_user_trips_by_hours.plot(kind='line', marker='o', markersize=8.75, linewidth=3, color='#FBA922')\n",
    "plt.title('Average Daily Transactions by Hour for Passengers who Never Reached Daily Cap', fontsize=15)\n",
    "plt.ylabel('Avg. Daily Transactions', fontsize=13)\n",
    "plt.show()"
   ]
  },
  {
   "cell_type": "markdown",
   "id": "0c399f60",
   "metadata": {},
   "source": [
    "The plot above is showing the average daily transactions by hour for those passengers who never reached their daily fare cap in the month of May. We can see some interesting patterns in the data. We see the early morning peak that may be commuters but the PM peak is not as defined as the two plots above. There is also more activity in the mid-day than in the other data sets. We might speculate that these passengers are not commuters and are using PART for more every day type trips. Another theory is that passengers are traveling between communities for errands and are completing those errands quickly. They then board the PART bus again before their transfer expires in which case, they would not need to use Stored Value and would not reach their daily fare cap. Let's explore this data set further."
   ]
  },
  {
   "cell_type": "markdown",
   "id": "da30a984",
   "metadata": {},
   "source": [
    "Let's find out how many unique card numbers there are in the data set for those who never reached daily fare cap versus those who use stored value."
   ]
  },
  {
   "cell_type": "code",
   "execution_count": 43,
   "id": "c36bc0fd",
   "metadata": {},
   "outputs": [
    {
     "name": "stdout",
     "output_type": "stream",
     "text": [
      "There are 149 users who never reached their daily fare cap and 324 users who use stored value\n",
      "This means 45.99 percent use stored value but have not taken advantage of its benefits\n"
     ]
    }
   ],
   "source": [
    "num_unique_never_dc = never_daily_cap_user_trips['cardNumber'].nunique()\n",
    "\n",
    "print('There are {} users who never reached their daily fare cap and {} users who use stored value'.format(num_unique_never_dc, num_unique_sv))\n",
    "print('This means {} percent use stored value but have not taken advantage of its benefits'.format(round(num_unique_never_dc / num_unique_sv * 100, 2)))"
   ]
  },
  {
   "cell_type": "code",
   "execution_count": 109,
   "id": "2f76b68c",
   "metadata": {},
   "outputs": [
    {
     "data": {},
     "metadata": {},
     "output_type": "display_data"
    },
    {
     "data": {
      "application/vnd.holoviews_exec.v0+json": "",
      "text/html": [
       "<div id='7713'>\n",
       "\n",
       "\n",
       "\n",
       "\n",
       "\n",
       "  <div class=\"bk-root\" id=\"f18e23cd-31fd-4383-bc02-5b93c20fee6e\" data-root-id=\"7713\"></div>\n",
       "</div>\n",
       "<script type=\"application/javascript\">(function(root) {\n",
       "  function embed_document(root) {\n",
       "    var docs_json = {\"7f7bcadc-b1bd-465d-bcde-fa25389c4a43\":{\"defs\":[],\"roots\":{\"references\":[{\"attributes\":{\"end\":-8788237.072741605,\"min_interval\":5,\"reset_end\":-8788237.072741605,\"reset_start\":-8984947.359210046,\"start\":-8984947.359210046,\"tags\":[[[\"Longitude\",\"Longitude\",null]]]},\"id\":\"7719\",\"type\":\"Range1d\"},{\"attributes\":{\"dimension\":\"lat\"},\"id\":\"7761\",\"type\":\"MercatorTickFormatter\"},{\"attributes\":{\"data\":{\"Latitude\":{\"__ndarray__\":\"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\",\"dtype\":\"float64\",\"order\":\"little\",\"shape\":[981]},\"Longitude\":{\"__ndarray__\":\"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\",\"dtype\":\"float64\",\"order\":\"little\",\"shape\":[981]},\"color\":[\"TRIP_PASS\",\"TRANSFER\",\"STORED_VALUE\",\"STORED_VALUE\",\"TRANSFER\",\"TRANSFER\",\"STORED_VALUE\",\"STORED_VALUE\",\"TRANSFER\",\"TRANSFER\",\"STORED_VALUE\",\"STORED_VALUE\",\"TRANSFER\",\"STORED_VALUE\",\"TRANSFER\",\"STORED_VALUE\",\"STORED_VALUE\",\"STORED_VALUE\",\"TRIP_PASS\",\"TRANSFER\",\"STORED_VALUE\",\"STORED_VALUE\",\"STORED_VALUE\",\"TRANSFER\",\"TRANSFER\",\"STORED_VALUE\",\"STORED_VALUE\",\"TRANSFER\",\"STORED_VALUE\",\"STORED_VALUE\",\"STORED_VALUE\",\"TRANSFER\",\"STORED_VALUE\",\"TRIP_PASS\",\"STORED_VALUE\",\"STORED_VALUE\",\"STORED_VALUE\",\"STORED_VALUE\",\"TRANSFER\",\"TRANSFER\",\"STORED_VALUE\",\"STORED_VALUE\",\"TRANSFER\",\"STORED_VALUE\",\"TRANSFER\",\"TRANSFER\",\"STORED_VALUE\",\"STORED_VALUE\",\"STORED_VALUE\",\"STORED_VALUE\",\"TRANSFER\",\"TRIP_PASS\",\"TRIP_PASS\",\"TRANSFER\",\"TRIP_PASS\",\"TRIP_PASS\",\"STORED_VALUE\",\"STORED_VALUE\",\"STORED_VALUE\",\"TRANSFER\",\"TRANSFER\",\"TRANSFER\",\"TRANSFER\",\"STORED_VALUE\",\"STORED_VALUE\",\"TRANSFER\",\"STORED_VALUE\",\"TRANSFER\",\"STORED_VALUE\",\"TRANSFER\",\"STORED_VALUE\",\"TRANSFER\",\"STORED_VALUE\",\"TRIP_PASS\",\"TRANSFER\",\"STORED_VALUE\",\"STORED_VALUE\",\"TRANSFER\",\"STORED_VALUE\",\"STORED_VALUE\",\"TRANSFER\",\"TRANSFER\",\"STORED_VALUE\",\"STORED_VALUE\",\"STORED_VALUE\",\"TRANSFER\",\"STORED_VALUE\",\"STORED_VALUE\",\"TRANSFER\",\"TRIP_PASS\",\"STORED_VALUE\",\"TRANSFER\",\"STORED_VALUE\",\"TRANSFER\",\"STORED_VALUE\",\"STORED_VALUE\",\"TRIP_PASS\",\"TRIP_PASS\",\"STORED_VALUE\",\"STORED_VALUE\",\"TRANSFER\",\"TRANSFER\",\"STORED_VALUE\",\"STORED_VALUE\",\"TRANSFER\",\"TRANSFER\",\"TRANSFER\",\"TRANSFER\",\"TRANSFER\",\"TRANSFER\",\"STORED_VALUE\",\"STORED_VALUE\",\"TRANSFER\",\"STORED_VALUE\",\"TRANSFER\",\"TRANSFER\",\"TRIP_PASS\",\"TRANSFER\",\"TRIP_PASS\",\"STORED_VALUE\",\"TRANSFER\",\"TRANSFER\",\"STORED_VALUE\",\"STORED_VALUE\",\"STORED_VALUE\",\"TRANSFER\",\"TRANSFER\",\"STORED_VALUE\",\"TRANSFER\",\"STORED_VALUE\",\"STORED_VALUE\",\"STORED_VALUE\",\"TRANSFER\",\"STORED_VALUE\",\"TRIP_PASS\",\"STORED_VALUE\",\"TRANSFER\",\"TRIP_PASS\",\"TRANSFER\",\"STORED_VALUE\",\"TRANSFER\",\"STORED_VALUE\",\"TRIP_PASS\",\"STORED_VALUE\",\"TRIP_PASS\",\"TRANSFER\",\"TRANSFER\",\"TRANSFER\",\"TRANSFER\",\"STORED_VALUE\",\"TRIP_PASS\",\"TRANSFER\",\"TRIP_PASS\",\"TRANSFER\",\"TRIP_PASS\",\"STORED_VALUE\",\"TRANSFER\",\"STORED_VALUE\",\"TRANSFER\",\"TRIP_PASS\",\"STORED_VALUE\",\"TRANSFER\",\"STORED_VALUE\",\"STORED_VALUE\",\"STORED_VALUE\",\"TRANSFER\",\"STORED_VALUE\",\"STORED_VALUE\",\"TRANSFER\",\"STORED_VALUE\",\"STORED_VALUE\",\"STORED_VALUE\",\"TRIP_PASS\",\"STORED_VALUE\",\"TRIP_PASS\",\"TRIP_PASS\",\"STORED_VALUE\",\"TRANSFER\",\"TRANSFER\",\"TRANSFER\",\"TRANSFER\",\"TRANSFER\",\"TRIP_PASS\",\"TRIP_PASS\",\"STORED_VALUE\",\"STORED_VALUE\",\"TRANSFER\",\"TRANSFER\",\"STORED_VALUE\",\"TRANSFER\",\"TRIP_PASS\",\"TRIP_PASS\",\"STORED_VALUE\",\"TRANSFER\",\"TRANSFER\",\"TRANSFER\",\"STORED_VALUE\",\"TRANSFER\",\"TRIP_PASS\",\"TRANSFER\",\"STORED_VALUE\",\"STORED_VALUE\",\"TRANSFER\",\"STORED_VALUE\",\"TRANSFER\",\"STORED_VALUE\",\"STORED_VALUE\",\"TRANSFER\",\"STORED_VALUE\",\"STORED_VALUE\",\"TRANSFER\",\"TRANSFER\",\"STORED_VALUE\",\"STORED_VALUE\",\"TRANSFER\",\"STORED_VALUE\",\"STORED_VALUE\",\"STORED_VALUE\",\"TRANSFER\",\"TRANSFER\",\"TRIP_PASS\",\"STORED_VALUE\",\"TRIP_PASS\",\"TRANSFER\",\"TRANSFER\",\"STORED_VALUE\",\"STORED_VALUE\",\"TRANSFER\",\"TRIP_PASS\",\"TRIP_PASS\",\"TRANSFER\",\"STORED_VALUE\",\"TRANSFER\",\"STORED_VALUE\",\"STORED_VALUE\",\"TRIP_PASS\",\"STORED_VALUE\",\"TRANSFER\",\"STORED_VALUE\",\"STORED_VALUE\",\"TRANSFER\",\"STORED_VALUE\",\"STORED_VALUE\",\"STORED_VALUE\",\"STORED_VALUE\",\"STORED_VALUE\",\"TRANSFER\",\"STORED_VALUE\",\"TRANSFER\",\"STORED_VALUE\",\"TRIP_PASS\",\"STORED_VALUE\",\"TRIP_PASS\",\"STORED_VALUE\",\"TRANSFER\",\"TRANSFER\",\"STORED_VALUE\",\"TRANSFER\",\"STORED_VALUE\",\"TRANSFER\",\"STORED_VALUE\",\"TRIP_PASS\",\"STORED_VALUE\",\"TRANSFER\",\"STORED_VALUE\",\"TRANSFER\",\"TRIP_PASS\",\"TRIP_PASS\",\"STORED_VALUE\",\"STORED_VALUE\",\"STORED_VALUE\",\"TRANSFER\",\"STORED_VALUE\",\"STORED_VALUE\",\"TRANSFER\",\"TRANSFER\",\"STORED_VALUE\",\"STORED_VALUE\",\"TRANSFER\",\"STORED_VALUE\",\"STORED_VALUE\",\"TRANSFER\",\"TRANSFER\",\"STORED_VALUE\",\"STORED_VALUE\",\"TRANSFER\",\"TRANSFER\",\"STORED_VALUE\",\"STORED_VALUE\",\"TRANSFER\",\"TRIP_PASS\",\"TRANSFER\",\"STORED_VALUE\",\"STORED_VALUE\",\"TRIP_PASS\",\"TRIP_PASS\",\"TRANSFER\",\"TRANSFER\",\"TRANSFER\",\"STORED_VALUE\",\"STORED_VALUE\",\"STORED_VALUE\",\"TRANSFER\",\"STORED_VALUE\",\"TRANSFER\",\"STORED_VALUE\",\"TRANSFER\",\"TRIP_PASS\",\"STORED_VALUE\",\"STORED_VALUE\",\"TRIP_PASS\",\"TRIP_PASS\",\"TRIP_PASS\",\"TRANSFER\",\"TRANSFER\",\"TRANSFER\",\"TRANSFER\",\"TRIP_PASS\",\"TRANSFER\",\"STORED_VALUE\",\"TRANSFER\",\"STORED_VALUE\",\"STORED_VALUE\",\"STORED_VALUE\",\"TRANSFER\",\"TRANSFER\",\"TRIP_PASS\",\"STORED_VALUE\",\"TRANSFER\",\"STORED_VALUE\",\"STORED_VALUE\",\"TRANSFER\",\"TRANSFER\",\"STORED_VALUE\",\"STORED_VALUE\",\"STORED_VALUE\",\"STORED_VALUE\",\"TRANSFER\",\"TRIP_PASS\",\"STORED_VALUE\",\"TRANSFER\",\"TRIP_PASS\",\"TRIP_PASS\",\"TRIP_PASS\",\"STORED_VALUE\",\"STORED_VALUE\",\"TRANSFER\",\"TRANSFER\",\"TRANSFER\",\"TRIP_PASS\",\"TRIP_PASS\",\"TRIP_PASS\",\"STORED_VALUE\",\"TRIP_PASS\",\"TRANSFER\",\"TRANSFER\",\"TRANSFER\",\"TRANSFER\",\"TRIP_PASS\",\"STORED_VALUE\",\"STORED_VALUE\",\"TRANSFER\",\"TRANSFER\",\"TRANSFER\",\"TRIP_PASS\",\"TRANSFER\",\"STORED_VALUE\",\"STORED_VALUE\",\"TRANSFER\",\"TRANSFER\",\"TRIP_PASS\",\"STORED_VALUE\",\"TRANSFER\",\"TRANSFER\",\"STORED_VALUE\",\"STORED_VALUE\",\"TRANSFER\",\"STORED_VALUE\",\"TRANSFER\",\"STORED_VALUE\",\"STORED_VALUE\",\"STORED_VALUE\",\"TRANSFER\",\"STORED_VALUE\",\"STORED_VALUE\",\"TRIP_PASS\",\"TRANSFER\",\"STORED_VALUE\",\"TRANSFER\",\"TRANSFER\",\"TRIP_PASS\",\"TRIP_PASS\",\"TRIP_PASS\",\"TRANSFER\",\"STORED_VALUE\",\"STORED_VALUE\",\"TRANSFER\",\"STORED_VALUE\",\"TRANSFER\",\"TRANSFER\",\"TRANSFER\",\"TRANSFER\",\"STORED_VALUE\",\"TRANSFER\",\"STORED_VALUE\",\"TRIP_PASS\",\"STORED_VALUE\",\"TRIP_PASS\",\"STORED_VALUE\",\"TRANSFER\",\"TRIP_PASS\",\"TRANSFER\",\"TRANSFER\",\"TRANSFER\",\"STORED_VALUE\",\"TRIP_PASS\",\"TRIP_PASS\",\"TRANSFER\",\"TRANSFER\",\"TRANSFER\",\"STORED_VALUE\",\"STORED_VALUE\",\"TRANSFER\",\"STORED_VALUE\",\"TRANSFER\",\"STORED_VALUE\",\"STORED_VALUE\",\"TRANSFER\",\"TRANSFER\",\"STORED_VALUE\",\"STORED_VALUE\",\"TRANSFER\",\"STORED_VALUE\",\"TRANSFER\",\"TRANSFER\",\"STORED_VALUE\",\"STORED_VALUE\",\"STORED_VALUE\",\"TRANSFER\",\"STORED_VALUE\",\"STORED_VALUE\",\"TRANSFER\",\"STORED_VALUE\",\"TRANSFER\",\"TRIP_PASS\",\"TRIP_PASS\",\"TRANSFER\",\"TRANSFER\",\"TRIP_PASS\",\"STORED_VALUE\",\"TRANSFER\",\"STORED_VALUE\",\"TRANSFER\",\"STORED_VALUE\",\"TRANSFER\",\"TRIP_PASS\",\"TRIP_PASS\",\"TRIP_PASS\",\"TRANSFER\",\"TRANSFER\",\"TRANSFER\",\"STORED_VALUE\",\"TRIP_PASS\",\"TRANSFER\",\"STORED_VALUE\",\"STORED_VALUE\",\"TRANSFER\",\"STORED_VALUE\",\"TRIP_PASS\",\"STORED_VALUE\",\"STORED_VALUE\",\"STORED_VALUE\",\"TRANSFER\",\"TRIP_PASS\",\"STORED_VALUE\",\"STORED_VALUE\",\"TRANSFER\",\"TRANSFER\",\"TRANSFER\",\"STORED_VALUE\",\"TRIP_PASS\",\"TRANSFER\",\"TRANSFER\",\"STORED_VALUE\",\"STORED_VALUE\",\"STORED_VALUE\",\"TRANSFER\",\"TRIP_PASS\",\"TRIP_PASS\",\"TRANSFER\",\"STORED_VALUE\",\"TRANSFER\",\"STORED_VALUE\",\"TRANSFER\",\"TRIP_PASS\",\"TRIP_PASS\",\"STORED_VALUE\",\"STORED_VALUE\",\"TRANSFER\",\"TRANSFER\",\"TRIP_PASS\",\"TRANSFER\",\"STORED_VALUE\",\"STORED_VALUE\",\"STORED_VALUE\",\"TRANSFER\",\"TRANSFER\",\"STORED_VALUE\",\"STORED_VALUE\",\"TRANSFER\",\"TRANSFER\",\"TRIP_PASS\",\"TRIP_PASS\",\"STORED_VALUE\",\"STORED_VALUE\",\"TRIP_PASS\",\"TRANSFER\",\"TRANSFER\",\"TRANSFER\",\"TRIP_PASS\",\"TRANSFER\",\"STORED_VALUE\",\"TRANSFER\",\"TRIP_PASS\",\"TRIP_PASS\",\"TRIP_PASS\",\"TRANSFER\",\"TRANSFER\",\"TRIP_PASS\",\"STORED_VALUE\",\"TRANSFER\",\"STORED_VALUE\",\"STORED_VALUE\",\"STORED_VALUE\",\"TRANSFER\",\"TRIP_PASS\",\"STORED_VALUE\",\"TRANSFER\",\"TRANSFER\",\"STORED_VALUE\",\"STORED_VALUE\",\"TRANSFER\",\"STORED_VALUE\",\"TRIP_PASS\",\"TRANSFER\",\"STORED_VALUE\",\"TRIP_PASS\",\"TRIP_PASS\",\"STORED_VALUE\",\"STORED_VALUE\",\"TRANSFER\",\"STORED_VALUE\",\"TRANSFER\",\"TRIP_PASS\",\"TRIP_PASS\",\"STORED_VALUE\",\"TRIP_PASS\",\"TRIP_PASS\",\"TRIP_PASS\",\"TRANSFER\",\"TRANSFER\",\"TRANSFER\",\"TRIP_PASS\",\"TRANSFER\",\"STORED_VALUE\",\"TRANSFER\",\"TRIP_PASS\",\"TRIP_PASS\",\"TRANSFER\",\"STORED_VALUE\",\"TRANSFER\",\"TRIP_PASS\",\"STORED_VALUE\",\"STORED_VALUE\",\"STORED_VALUE\",\"TRANSFER\",\"TRANSFER\",\"STORED_VALUE\",\"STORED_VALUE\",\"TRANSFER\",\"STORED_VALUE\",\"TRIP_PASS\",\"STORED_VALUE\",\"TRANSFER\",\"STORED_VALUE\",\"TRANSFER\",\"TRANSFER\",\"TRIP_PASS\",\"TRANSFER\",\"TRANSFER\",\"TRIP_PASS\",\"TRIP_PASS\",\"TRIP_PASS\",\"TRIP_PASS\",\"TRANSFER\",\"TRANSFER\",\"TRANSFER\",\"TRIP_PASS\",\"STORED_VALUE\",\"TRANSFER\",\"TRANSFER\",\"STORED_VALUE\",\"TRIP_PASS\",\"TRANSFER\",\"TRANSFER\",\"STORED_VALUE\",\"TRANSFER\",\"TRIP_PASS\",\"STORED_VALUE\",\"TRANSFER\",\"STORED_VALUE\",\"TRANSFER\",\"STORED_VALUE\",\"TRIP_PASS\",\"TRANSFER\",\"TRANSFER\",\"TRIP_PASS\",\"STORED_VALUE\",\"TRANSFER\",\"STORED_VALUE\",\"TRANSFER\",\"STORED_VALUE\",\"TRIP_PASS\",\"STORED_VALUE\",\"TRIP_PASS\",\"TRIP_PASS\",\"TRANSFER\",\"TRANSFER\",\"TRANSFER\",\"TRANSFER\",\"STORED_VALUE\",\"TRANSFER\",\"TRIP_PASS\",\"TRIP_PASS\",\"TRIP_PASS\",\"STORED_VALUE\",\"TRIP_PASS\",\"TRIP_PASS\",\"TRANSFER\",\"TRANSFER\",\"TRANSFER\",\"STORED_VALUE\",\"TRANSFER\",\"TRIP_PASS\",\"TRIP_PASS\",\"TRANSFER\",\"TRANSFER\",\"TRIP_PASS\",\"TRANSFER\",\"TRIP_PASS\",\"TRANSFER\",\"TRIP_PASS\",\"STORED_VALUE\",\"TRANSFER\",\"TRANSFER\",\"STORED_VALUE\",\"TRIP_PASS\",\"TRANSFER\",\"TRANSFER\",\"STORED_VALUE\",\"TRANSFER\",\"TRIP_PASS\",\"TRIP_PASS\",\"STORED_VALUE\",\"STORED_VALUE\",\"TRANSFER\",\"TRANSFER\",\"STORED_VALUE\",\"STORED_VALUE\",\"TRANSFER\",\"STORED_VALUE\",\"TRIP_PASS\",\"TRANSFER\",\"TRANSFER\",\"TRIP_PASS\",\"TRANSFER\",\"TRIP_PASS\",\"STORED_VALUE\",\"TRIP_PASS\",\"TRANSFER\",\"TRANSFER\",\"TRANSFER\",\"TRANSFER\",\"TRIP_PASS\",\"TRANSFER\",\"STORED_VALUE\",\"TRANSFER\",\"STORED_VALUE\",\"TRIP_PASS\",\"TRANSFER\",\"STORED_VALUE\",\"TRIP_PASS\",\"STORED_VALUE\",\"STORED_VALUE\",\"TRANSFER\",\"STORED_VALUE\",\"TRIP_PASS\",\"TRIP_PASS\",\"TRANSFER\",\"STORED_VALUE\",\"TRANSFER\",\"TRANSFER\",\"TRANSFER\",\"TRIP_PASS\",\"TRANSFER\",\"STORED_VALUE\",\"TRIP_PASS\",\"TRIP_PASS\",\"TRANSFER\",\"TRANSFER\",\"STORED_VALUE\",\"STORED_VALUE\",\"TRANSFER\",\"STORED_VALUE\",\"STORED_VALUE\",\"STORED_VALUE\",\"TRANSFER\",\"STORED_VALUE\",\"TRANSFER\",\"STORED_VALUE\",\"STORED_VALUE\",\"TRANSFER\",\"TRANSFER\",\"TRANSFER\",\"TRIP_PASS\",\"STORED_VALUE\",\"STORED_VALUE\",\"STORED_VALUE\",\"TRANSFER\",\"STORED_VALUE\",\"TRANSFER\",\"TRIP_PASS\",\"STORED_VALUE\",\"STORED_VALUE\",\"TRANSFER\",\"TRIP_PASS\",\"TRANSFER\",\"TRIP_PASS\",\"TRANSFER\",\"TRANSFER\",\"STORED_VALUE\",\"TRANSFER\",\"STORED_VALUE\",\"TRIP_PASS\",\"STORED_VALUE\",\"TRANSFER\",\"TRIP_PASS\",\"TRANSFER\",\"STORED_VALUE\",\"STORED_VALUE\",\"TRANSFER\",\"STORED_VALUE\",\"TRANSFER\",\"TRIP_PASS\",\"TRANSFER\",\"TRIP_PASS\",\"STORED_VALUE\",\"STORED_VALUE\",\"TRIP_PASS\",\"STORED_VALUE\",\"TRANSFER\",\"TRANSFER\",\"STORED_VALUE\",\"TRIP_PASS\",\"TRIP_PASS\",\"TRANSFER\",\"TRANSFER\",\"TRIP_PASS\",\"TRANSFER\",\"STORED_VALUE\",\"TRIP_PASS\",\"TRIP_PASS\",\"STORED_VALUE\",\"TRANSFER\",\"TRANSFER\",\"STORED_VALUE\",\"TRANSFER\",\"STORED_VALUE\",\"TRANSFER\",\"TRIP_PASS\",\"STORED_VALUE\",\"STORED_VALUE\",\"TRANSFER\",\"STORED_VALUE\",\"TRIP_PASS\",\"STORED_VALUE\",\"STORED_VALUE\",\"TRANSFER\",\"STORED_VALUE\",\"TRANSFER\",\"STORED_VALUE\",\"TRIP_PASS\",\"STORED_VALUE\",\"TRIP_PASS\",\"STORED_VALUE\",\"TRANSFER\",\"TRANSFER\",\"STORED_VALUE\",\"STORED_VALUE\",\"STORED_VALUE\",\"TRANSFER\",\"TRANSFER\",\"TRIP_PASS\",\"TRANSFER\",\"STORED_VALUE\",\"TRANSFER\",\"TRIP_PASS\",\"TRIP_PASS\",\"STORED_VALUE\",\"STORED_VALUE\",\"TRANSFER\",\"TRANSFER\",\"TRANSFER\",\"TRANSFER\",\"TRIP_PASS\",\"TRANSFER\",\"TRIP_PASS\",\"TRANSFER\",\"STORED_VALUE\",\"TRIP_PASS\",\"TRANSFER\",\"STORED_VALUE\",\"TRANSFER\",\"TRIP_PASS\",\"TRIP_PASS\",\"STORED_VALUE\",\"TRIP_PASS\",\"TRANSFER\",\"TRANSFER\",\"STORED_VALUE\",\"STORED_VALUE\",\"STORED_VALUE\",\"TRANSFER\",\"STORED_VALUE\",\"TRANSFER\",\"TRANSFER\",\"STORED_VALUE\",\"TRIP_PASS\",\"STORED_VALUE\",\"TRANSFER\",\"TRIP_PASS\",\"STORED_VALUE\",\"STORED_VALUE\",\"TRANSFER\",\"TRIP_PASS\",\"STORED_VALUE\",\"STORED_VALUE\",\"TRANSFER\",\"STORED_VALUE\",\"STORED_VALUE\",\"TRIP_PASS\",\"TRANSFER\",\"TRANSFER\",\"TRANSFER\",\"TRANSFER\",\"STORED_VALUE\",\"TRIP_PASS\",\"TRANSFER\",\"TRIP_PASS\",\"TRIP_PASS\",\"TRANSFER\",\"TRANSFER\",\"STORED_VALUE\",\"STORED_VALUE\",\"TRANSFER\",\"TRIP_PASS\",\"TRIP_PASS\",\"TRANSFER\",\"TRANSFER\",\"STORED_VALUE\",\"TRIP_PASS\",\"STORED_VALUE\",\"STORED_VALUE\",\"TRANSFER\",\"TRANSFER\",\"TRIP_PASS\",\"STORED_VALUE\",\"STORED_VALUE\",\"TRANSFER\",\"TRANSFER\",\"TRANSFER\",\"STORED_VALUE\",\"STORED_VALUE\",\"STORED_VALUE\",\"TRANSFER\",\"TRANSFER\",\"STORED_VALUE\",\"TRANSFER\",\"STORED_VALUE\",\"STORED_VALUE\",\"TRIP_PASS\",\"TRIP_PASS\",\"TRANSFER\",\"STORED_VALUE\",\"STORED_VALUE\",\"TRANSFER\",\"TRIP_PASS\",\"TRIP_PASS\",\"STORED_VALUE\",\"TRIP_PASS\",\"TRANSFER\",\"TRANSFER\",\"TRANSFER\",\"STORED_VALUE\",\"TRANSFER\",\"STORED_VALUE\",\"TRIP_PASS\",\"TRANSFER\",\"TRIP_PASS\",\"TRIP_PASS\",\"STORED_VALUE\",\"STORED_VALUE\",\"STORED_VALUE\",\"TRANSFER\",\"TRANSFER\",\"STORED_VALUE\",\"STORED_VALUE\",\"TRANSFER\",\"STORED_VALUE\",\"STORED_VALUE\",\"TRANSFER\",\"TRANSFER\",\"TRIP_PASS\",\"STORED_VALUE\",\"TRANSFER\",\"TRANSFER\",\"TRIP_PASS\",\"STORED_VALUE\",\"STORED_VALUE\",\"TRANSFER\",\"TRIP_PASS\",\"TRIP_PASS\",\"STORED_VALUE\",\"TRANSFER\",\"TRANSFER\",\"TRIP_PASS\",\"TRANSFER\",\"STORED_VALUE\",\"TRIP_PASS\",\"TRANSFER\",\"TRIP_PASS\",\"TRANSFER\",\"STORED_VALUE\",\"STORED_VALUE\",\"TRANSFER\",\"STORED_VALUE\",\"TRANSFER\",\"TRIP_PASS\",\"TRANSFER\",\"STORED_VALUE\",\"STORED_VALUE\",\"TRANSFER\",\"TRIP_PASS\",\"TRANSFER\",\"STORED_VALUE\",\"TRIP_PASS\",\"TRIP_PASS\",\"TRANSFER\",\"STORED_VALUE\",\"TRANSFER\",\"STORED_VALUE\",\"STORED_VALUE\",\"TRANSFER\",\"TRANSFER\",\"TRIP_PASS\",\"STORED_VALUE\",\"TRANSFER\",\"STORED_VALUE\",\"STORED_VALUE\",\"TRIP_PASS\",\"STORED_VALUE\",\"TRANSFER\",\"TRANSFER\",\"STORED_VALUE\",\"STORED_VALUE\",\"STORED_VALUE\",\"STORED_VALUE\",\"TRANSFER\",\"TRANSFER\",\"TRIP_PASS\",\"STORED_VALUE\"],\"date\":{\"__ndarray__\":\"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\",\"dtype\":\"float64\",\"order\":\"little\",\"shape\":[981]},\"routeName\":[\"3\",\"2\",\"2\",\"2\",\"1\",\"1\",\"2\",\"2\",\"1\",\"North Shuttle\",\"DEFAULT\",\"2\",\"3\",\"2\",\"3\",\"1\",\"2\",\"2\",\"2\",\"South Shuttle\",\"2\",\"17\",\"2\",\"1\",\"2\",\"1\",\"22\",\"24\",\"1\",\"3\",\"1\",\"2\",\"2\",\"2\",\"4\",\"2\",\"2\",\"2\",\"17\",\"2\",\"3\",\"2\",\"3\",\"2\",\"20/21\",\"20/21\",\"10\",\"2\",\"2\",\"2\",\"22\",\"1\",\"2\",\"20\",\"17\",\"2\",\"2\",\"2\",\"4\",\"2\",\"1\",\"22\",\"20\",\"9\",\"21\",\"3\",\"3\",\"2\",\"2\",\"1\",\"1\",\"3\",\"2\",\"2\",\"17\",\"2\",\"2\",\"20/21\",\"2\",\"2\",\"20/21\",\"20/21\",\"2\",\"10\",\"20\",\"2\",\"2\",\"1\",\"21\",\"2\",\"2\",\"17\",\"1\",\"22/23\",\"1\",\"2\",\"17\",\"2\",\"2\",\"9\",\"2\",\"22\",\"2\",\"22\",\"9\",\"20\",\"2\",\"1\",\"1\",\"22\",\"3\",\"2\",\"1\",\"3\",\"2\",\"21\",\"2\",\"17\",\"3\",\"2\",\"2\",\"3\",\"3\",\"2\",\"2\",\"20/21\",\"20/21\",\"2\",\"20/21\",\"20/21\",\"10\",\"20\",\"2\",\"2\",\"2\",\"24\",\"3\",\"2\",\"17\",\"2\",\"20\",\"1\",\"17\",\"2\",\"2\",\"4\",\"1\",\"22\",\"2\",\"3\",\"20\",\"3\",\"2\",\"2\",\"2\",\"2\",\"3\",\"2\",\"3\",\"3\",\"2\",\"20/21\",\"20/21\",\"1\",\"DEFAULT\",\"22\",\"2\",\"20/21\",\"2\",\"22\",\"2\",\"2\",\"2\",\"24\",\"2\",\"2\",\"1\",\"3\",\"17\",\"20\",\"20\",\"2\",\"17\",\"2\",\"22\",\"4\",\"1\",\"22\",\"22\",\"24\",\"20\",\"20\",\"21\",\"3\",\"2\",\"2\",\"2\",\"17\",\"2\",\"17\",\"2\",\"2\",\"2\",\"2\",\"3\",\"1\",\"1\",\"3\",\"2\",\"2\",\"20/21\",\"20/21\",\"10\",\"20\",\"2\",\"9\",\"2\",\"1\",\"DEFAULT\",\"2\",\"2\",\"2\",\"17\",\"20\",\"10\",\"1\",\"2\",\"2\",\"North Shuttle\",\"3\",\"2\",\"2\",\"2\",\"3\",\"1\",\"3\",\"2\",\"2\",\"2\",\"2\",\"1\",\"3\",\"2\",\"1\",\"2\",\"2\",\"3\",\"2\",\"1\",\"2\",\"17\",\"1\",\"2\",\"2\",\"1\",\"2\",\"2\",\"22\",\"21\",\"2\",\"3\",\"3\",\"2\",\"23\",\"1\",\"2\",\"3\",\"2\",\"4\",\"2\",\"2\",\"17\",\"2\",\"3\",\"3\",\"2\",\"2\",\"3\",\"20/21\",\"2\",\"2\",\"20/21\",\"20/21\",\"2\",\"20\",\"23\",\"2\",\"24\",\"22\",\"3\",\"2\",\"2\",\"1\",\"1\",\"2\",\"2\",\"17\",\"20\",\"20\",\"3\",\"9\",\"1\",\"2\",\"2\",\"1\",\"2\",\"1\",\"1\",\"1\",\"23\",\"20\",\"20\",\"21\",\"2\",\"3\",\"2\",\"2\",\"17\",\"2\",\"1\",\"3\",\"1\",\"2\",\"2\",\"3\",\"17\",\"3\",\"2\",\"3\",\"2\",\"2\",\"20/21\",\"20/21\",\"10\",\"22\",\"2\",\"20\",\"2\",\"3\",\"2\",\"2\",\"2\",\"1\",\"2\",\"2\",\"2\",\"17\",\"20\",\"20\",\"3\",\"1\",\"17\",\"2\",\"2\",\"4\",\"1\",\"2\",\"22\",\"20\",\"20\",\"2\",\"2\",\"22\",\"2\",\"21\",\"3\",\"2\",\"2\",\"3\",\"17\",\"3\",\"2\",\"2\",\"24\",\"2\",\"20/21\",\"20/21\",\"2\",\"20/21\",\"2\",\"10\",\"20\",\"2\",\"24\",\"6\",\"3\",\"3\",\"20\",\"2\",\"2\",\"2\",\"4\",\"2\",\"17\",\"4\",\"24\",\"20\",\"1\",\"24\",\"24\",\"1\",\"3\",\"2\",\"20/21\",\"2\",\"17\",\"2\",\"2\",\"6\",\"22\",\"4\",\"1\",\"2\",\"22\",\"2\",\"20\",\"21\",\"3\",\"21\",\"2\",\"1\",\"3\",\"2\",\"2\",\"17\",\"2\",\"2\",\"3\",\"3\",\"1\",\"2\",\"3\",\"DEFAULT\",\"20/21\",\"20/21\",\"10\",\"3\",\"20\",\"2\",\"2\",\"1\",\"22\",\"2\",\"3\",\"2\",\"3\",\"2\",\"17\",\"3\",\"2\",\"2\",\"1\",\"20/21\",\"1\",\"2\",\"1\",\"17\",\"2\",\"4\",\"22\",\"2\",\"4\",\"21\",\"3\",\"1\",\"20/21\",\"2\",\"2\",\"3\",\"3\",\"2\",\"3\",\"3\",\"1\",\"1\",\"2\",\"3\",\"2\",\"20/21\",\"2\",\"2\",\"20/21\",\"3\",\"3\",\"21\",\"2\",\"2\",\"2\",\"2\",\"17\",\"4\",\"20\",\"2\",\"1\",\"3\",\"North Shuttle\",\"South Shuttle\",\"2\",\"2\",\"2\",\"2\",\"3\",\"2\",\"2\",\"2\",\"South Shuttle\",\"3\",\"3\",\"2\",\"2\",\"North Shuttle\",\"2\",\"1\",\"2\",\"2\",\"2\",\"1\",\"4\",\"22\",\"2\",\"1\",\"22\",\"24\",\"1\",\"20\",\"21\",\"3\",\"2\",\"3\",\"2\",\"3\",\"1\",\"3\",\"2\",\"20/21\",\"2\",\"2\",\"20/21\",\"3\",\"10\",\"20\",\"2\",\"2\",\"22\",\"2\",\"3\",\"2\",\"1\",\"1\",\"24\",\"2\",\"2\",\"1\",\"3\",\"17\",\"4\",\"2\",\"2\",\"4\",\"1\",\"2\",\"22\",\"21\",\"3\",\"3\",\"2\",\"3\",\"2\",\"3\",\"2\",\"20/21\",\"22/23\",\"1\",\"10\",\"10\",\"2\",\"3\",\"24\",\"20\",\"2\",\"24\",\"2\",\"2\",\"3\",\"9\",\"3\",\"17\",\"2\",\"1\",\"20\",\"24\",\"17\",\"2\",\"2\",\"1\",\"22\",\"2\",\"3\",\"3\",\"3\",\"2\",\"2\",\"2\",\"22\",\"17\",\"2\",\"2\",\"3\",\"2\",\"3\",\"2\",\"20/21\",\"2\",\"2\",\"20/21\",\"3\",\"22/23\",\"2\",\"2\",\"20\",\"2\",\"22\",\"2\",\"24\",\"2\",\"2\",\"3\",\"17\",\"20\",\"20\",\"2\",\"20/21\",\"17\",\"2\",\"2\",\"DEFAULT\",\"4\",\"3\",\"1\",\"2\",\"22\",\"21\",\"2\",\"20\",\"20\",\"2\",\"2\",\"21\",\"3\",\"2\",\"22\",\"2\",\"2\",\"3\",\"17\",\"2\",\"2\",\"3\",\"3\",\"2\",\"20/21\",\"1\",\"22/23\",\"3\",\"10\",\"2\",\"2\",\"20\",\"1\",\"2\",\"2\",\"3\",\"2\",\"3\",\"2\",\"1\",\"2\",\"24\",\"2\",\"20\",\"3\",\"17\",\"20\",\"3\",\"2\",\"24\",\"2\",\"6\",\"17\",\"2\",\"3\",\"4\",\"21\",\"1\",\"24\",\"21\",\"20\",\"21\",\"2\",\"1\",\"2\",\"2\",\"3\",\"2\",\"21\",\"1\",\"2\",\"3\",\"2\",\"17\",\"2\",\"2\",\"3\",\"3\",\"2\",\"2\",\"1\",\"2\",\"20/21\",\"1\",\"2\",\"20/21\",\"20/21\",\"2\",\"22/23\",\"10\",\"1\",\"2\",\"2\",\"20\",\"2\",\"2\",\"2\",\"24\",\"3\",\"2\",\"1\",\"2\",\"17\",\"20\",\"2\",\"20/21\",\"2\",\"3\",\"2\",\"3\",\"2\",\"3\",\"2\",\"2\",\"North Shuttle\",\"2\",\"1\",\"3\",\"2\",\"4\",\"2\",\"1\",\"1\",\"24\",\"22\",\"2\",\"3\",\"2\",\"21\",\"22\",\"3\",\"17\",\"2\",\"22/23\",\"3\",\"2\",\"2\",\"17\",\"3\",\"1\",\"3\",\"2\",\"20/21\",\"22/23\",\"10\",\"2\",\"2\",\"2\",\"24\",\"20\",\"22\",\"2\",\"24\",\"3\",\"10\",\"2\",\"2\",\"1\",\"20\",\"20\",\"2\",\"2\",\"4\",\"DEFAULT\",\"1\",\"24\",\"20/21\",\"24\",\"3\",\"2\",\"17\",\"2\",\"2\",\"2\",\"1\",\"1\",\"20\",\"2\",\"2\",\"22\",\"20\",\"2\",\"10\",\"21\",\"3\",\"17\",\"3\",\"3\",\"2\",\"2\",\"2\",\"17\",\"3\",\"1\",\"2\",\"2\",\"20/21\",\"2\",\"20/21\",\"20/21\",\"2\",\"22/23\",\"10\",\"2\",\"24\",\"20\",\"22\",\"2\",\"3\",\"24\",\"2\",\"3\",\"10\",\"2\",\"2\",\"2\",\"20\",\"17\",\"2\",\"1\",\"20/21\",\"24\",\"1\",\"2\",\"4\",\"1\",\"20\",\"2\",\"3\",\"21\",\"20\",\"2\",\"DEFAULT\",\"2\",\"2\",\"20/21\",\"2\",\"17\",\"3\",\"1\",\"2\",\"2\",\"2\",\"20/21\",\"20/21\",\"1\",\"10\",\"20\",\"2\",\"2\",\"24\",\"3\",\"2\",\"4\",\"2\",\"4\",\"1\",\"2\",\"4\",\"3\",\"1\",\"2\",\"21\",\"21\",\"DEFAULT\",\"22\",\"2\",\"3\",\"2\",\"1\",\"3\",\"17\",\"2\",\"3\",\"3\",\"DEFAULT\",\"2\",\"17\",\"3\",\"2\",\"1\",\"3\",\"3\",\"2\",\"2\",\"DEFAULT\",\"22/23\",\"1\",\"3\",\"2\",\"24\",\"9\",\"20\",\"2\",\"2\",\"1\",\"24\",\"3\",\"1\",\"21\",\"24\",\"20/21\",\"3\",\"2\",\"1\",\"4\",\"9\",\"2\",\"4\",\"2\",\"3\",\"21\",\"3\",\"2\",\"2\",\"3\",\"2\",\"22\",\"2\",\"3\",\"2\",\"1\",\"2\",\"17\",\"3\",\"2\",\"3\",\"2\",\"1\",\"2\",\"20/21\",\"10\",\"22/23\",\"22\",\"20\",\"2\",\"2\",\"10\",\"2\",\"North Shuttle\",\"3\",\"2\",\"2\",\"3\",\"3\"],\"type\":[\"TRIP_PASS\",\"TRANSFER\",\"STORED_VALUE\",\"STORED_VALUE\",\"TRANSFER\",\"TRANSFER\",\"STORED_VALUE\",\"STORED_VALUE\",\"TRANSFER\",\"TRANSFER\",\"STORED_VALUE\",\"STORED_VALUE\",\"TRANSFER\",\"STORED_VALUE\",\"TRANSFER\",\"STORED_VALUE\",\"STORED_VALUE\",\"STORED_VALUE\",\"TRIP_PASS\",\"TRANSFER\",\"STORED_VALUE\",\"STORED_VALUE\",\"STORED_VALUE\",\"TRANSFER\",\"TRANSFER\",\"STORED_VALUE\",\"STORED_VALUE\",\"TRANSFER\",\"STORED_VALUE\",\"STORED_VALUE\",\"STORED_VALUE\",\"TRANSFER\",\"STORED_VALUE\",\"TRIP_PASS\",\"STORED_VALUE\",\"STORED_VALUE\",\"STORED_VALUE\",\"STORED_VALUE\",\"TRANSFER\",\"TRANSFER\",\"STORED_VALUE\",\"STORED_VALUE\",\"TRANSFER\",\"STORED_VALUE\",\"TRANSFER\",\"TRANSFER\",\"STORED_VALUE\",\"STORED_VALUE\",\"STORED_VALUE\",\"STORED_VALUE\",\"TRANSFER\",\"TRIP_PASS\",\"TRIP_PASS\",\"TRANSFER\",\"TRIP_PASS\",\"TRIP_PASS\",\"STORED_VALUE\",\"STORED_VALUE\",\"STORED_VALUE\",\"TRANSFER\",\"TRANSFER\",\"TRANSFER\",\"TRANSFER\",\"STORED_VALUE\",\"STORED_VALUE\",\"TRANSFER\",\"STORED_VALUE\",\"TRANSFER\",\"STORED_VALUE\",\"TRANSFER\",\"STORED_VALUE\",\"TRANSFER\",\"STORED_VALUE\",\"TRIP_PASS\",\"TRANSFER\",\"STORED_VALUE\",\"STORED_VALUE\",\"TRANSFER\",\"STORED_VALUE\",\"STORED_VALUE\",\"TRANSFER\",\"TRANSFER\",\"STORED_VALUE\",\"STORED_VALUE\",\"STORED_VALUE\",\"TRANSFER\",\"STORED_VALUE\",\"STORED_VALUE\",\"TRANSFER\",\"TRIP_PASS\",\"STORED_VALUE\",\"TRANSFER\",\"STORED_VALUE\",\"TRANSFER\",\"STORED_VALUE\",\"STORED_VALUE\",\"TRIP_PASS\",\"TRIP_PASS\",\"STORED_VALUE\",\"STORED_VALUE\",\"TRANSFER\",\"TRANSFER\",\"STORED_VALUE\",\"STORED_VALUE\",\"TRANSFER\",\"TRANSFER\",\"TRANSFER\",\"TRANSFER\",\"TRANSFER\",\"TRANSFER\",\"STORED_VALUE\",\"STORED_VALUE\",\"TRANSFER\",\"STORED_VALUE\",\"TRANSFER\",\"TRANSFER\",\"TRIP_PASS\",\"TRANSFER\",\"TRIP_PASS\",\"STORED_VALUE\",\"TRANSFER\",\"TRANSFER\",\"STORED_VALUE\",\"STORED_VALUE\",\"STORED_VALUE\",\"TRANSFER\",\"TRANSFER\",\"STORED_VALUE\",\"TRANSFER\",\"STORED_VALUE\",\"STORED_VALUE\",\"STORED_VALUE\",\"TRANSFER\",\"STORED_VALUE\",\"TRIP_PASS\",\"STORED_VALUE\",\"TRANSFER\",\"TRIP_PASS\",\"TRANSFER\",\"STORED_VALUE\",\"TRANSFER\",\"STORED_VALUE\",\"TRIP_PASS\",\"STORED_VALUE\",\"TRIP_PASS\",\"TRANSFER\",\"TRANSFER\",\"TRANSFER\",\"TRANSFER\",\"STORED_VALUE\",\"TRIP_PASS\",\"TRANSFER\",\"TRIP_PASS\",\"TRANSFER\",\"TRIP_PASS\",\"STORED_VALUE\",\"TRANSFER\",\"STORED_VALUE\",\"TRANSFER\",\"TRIP_PASS\",\"STORED_VALUE\",\"TRANSFER\",\"STORED_VALUE\",\"STORED_VALUE\",\"STORED_VALUE\",\"TRANSFER\",\"STORED_VALUE\",\"STORED_VALUE\",\"TRANSFER\",\"STORED_VALUE\",\"STORED_VALUE\",\"STORED_VALUE\",\"TRIP_PASS\",\"STORED_VALUE\",\"TRIP_PASS\",\"TRIP_PASS\",\"STORED_VALUE\",\"TRANSFER\",\"TRANSFER\",\"TRANSFER\",\"TRANSFER\",\"TRANSFER\",\"TRIP_PASS\",\"TRIP_PASS\",\"STORED_VALUE\",\"STORED_VALUE\",\"TRANSFER\",\"TRANSFER\",\"STORED_VALUE\",\"TRANSFER\",\"TRIP_PASS\",\"TRIP_PASS\",\"STORED_VALUE\",\"TRANSFER\",\"TRANSFER\",\"TRANSFER\",\"STORED_VALUE\",\"TRANSFER\",\"TRIP_PASS\",\"TRANSFER\",\"STORED_VALUE\",\"STORED_VALUE\",\"TRANSFER\",\"STORED_VALUE\",\"TRANSFER\",\"STORED_VALUE\",\"STORED_VALUE\",\"TRANSFER\",\"STORED_VALUE\",\"STORED_VALUE\",\"TRANSFER\",\"TRANSFER\",\"STORED_VALUE\",\"STORED_VALUE\",\"TRANSFER\",\"STORED_VALUE\",\"STORED_VALUE\",\"STORED_VALUE\",\"TRANSFER\",\"TRANSFER\",\"TRIP_PASS\",\"STORED_VALUE\",\"TRIP_PASS\",\"TRANSFER\",\"TRANSFER\",\"STORED_VALUE\",\"STORED_VALUE\",\"TRANSFER\",\"TRIP_PASS\",\"TRIP_PASS\",\"TRANSFER\",\"STORED_VALUE\",\"TRANSFER\",\"STORED_VALUE\",\"STORED_VALUE\",\"TRIP_PASS\",\"STORED_VALUE\",\"TRANSFER\",\"STORED_VALUE\",\"STORED_VALUE\",\"TRANSFER\",\"STORED_VALUE\",\"STORED_VALUE\",\"STORED_VALUE\",\"STORED_VALUE\",\"STORED_VALUE\",\"TRANSFER\",\"STORED_VALUE\",\"TRANSFER\",\"STORED_VALUE\",\"TRIP_PASS\",\"STORED_VALUE\",\"TRIP_PASS\",\"STORED_VALUE\",\"TRANSFER\",\"TRANSFER\",\"STORED_VALUE\",\"TRANSFER\",\"STORED_VALUE\",\"TRANSFER\",\"STORED_VALUE\",\"TRIP_PASS\",\"STORED_VALUE\",\"TRANSFER\",\"STORED_VALUE\",\"TRANSFER\",\"TRIP_PASS\",\"TRIP_PASS\",\"STORED_VALUE\",\"STORED_VALUE\",\"STORED_VALUE\",\"TRANSFER\",\"STORED_VALUE\",\"STORED_VALUE\",\"TRANSFER\",\"TRANSFER\",\"STORED_VALUE\",\"STORED_VALUE\",\"TRANSFER\",\"STORED_VALUE\",\"STORED_VALUE\",\"TRANSFER\",\"TRANSFER\",\"STORED_VALUE\",\"STORED_VALUE\",\"TRANSFER\",\"TRANSFER\",\"STORED_VALUE\",\"STORED_VALUE\",\"TRANSFER\",\"TRIP_PASS\",\"TRANSFER\",\"STORED_VALUE\",\"STORED_VALUE\",\"TRIP_PASS\",\"TRIP_PASS\",\"TRANSFER\",\"TRANSFER\",\"TRANSFER\",\"STORED_VALUE\",\"STORED_VALUE\",\"STORED_VALUE\",\"TRANSFER\",\"STORED_VALUE\",\"TRANSFER\",\"STORED_VALUE\",\"TRANSFER\",\"TRIP_PASS\",\"STORED_VALUE\",\"STORED_VALUE\",\"TRIP_PASS\",\"TRIP_PASS\",\"TRIP_PASS\",\"TRANSFER\",\"TRANSFER\",\"TRANSFER\",\"TRANSFER\",\"TRIP_PASS\",\"TRANSFER\",\"STORED_VALUE\",\"TRANSFER\",\"STORED_VALUE\",\"STORED_VALUE\",\"STORED_VALUE\",\"TRANSFER\",\"TRANSFER\",\"TRIP_PASS\",\"STORED_VALUE\",\"TRANSFER\",\"STORED_VALUE\",\"STORED_VALUE\",\"TRANSFER\",\"TRANSFER\",\"STORED_VALUE\",\"STORED_VALUE\",\"STORED_VALUE\",\"STORED_VALUE\",\"TRANSFER\",\"TRIP_PASS\",\"STORED_VALUE\",\"TRANSFER\",\"TRIP_PASS\",\"TRIP_PASS\",\"TRIP_PASS\",\"STORED_VALUE\",\"STORED_VALUE\",\"TRANSFER\",\"TRANSFER\",\"TRANSFER\",\"TRIP_PASS\",\"TRIP_PASS\",\"TRIP_PASS\",\"STORED_VALUE\",\"TRIP_PASS\",\"TRANSFER\",\"TRANSFER\",\"TRANSFER\",\"TRANSFER\",\"TRIP_PASS\",\"STORED_VALUE\",\"STORED_VALUE\",\"TRANSFER\",\"TRANSFER\",\"TRANSFER\",\"TRIP_PASS\",\"TRANSFER\",\"STORED_VALUE\",\"STORED_VALUE\",\"TRANSFER\",\"TRANSFER\",\"TRIP_PASS\",\"STORED_VALUE\",\"TRANSFER\",\"TRANSFER\",\"STORED_VALUE\",\"STORED_VALUE\",\"TRANSFER\",\"STORED_VALUE\",\"TRANSFER\",\"STORED_VALUE\",\"STORED_VALUE\",\"STORED_VALUE\",\"TRANSFER\",\"STORED_VALUE\",\"STORED_VALUE\",\"TRIP_PASS\",\"TRANSFER\",\"STORED_VALUE\",\"TRANSFER\",\"TRANSFER\",\"TRIP_PASS\",\"TRIP_PASS\",\"TRIP_PASS\",\"TRANSFER\",\"STORED_VALUE\",\"STORED_VALUE\",\"TRANSFER\",\"STORED_VALUE\",\"TRANSFER\",\"TRANSFER\",\"TRANSFER\",\"TRANSFER\",\"STORED_VALUE\",\"TRANSFER\",\"STORED_VALUE\",\"TRIP_PASS\",\"STORED_VALUE\",\"TRIP_PASS\",\"STORED_VALUE\",\"TRANSFER\",\"TRIP_PASS\",\"TRANSFER\",\"TRANSFER\",\"TRANSFER\",\"STORED_VALUE\",\"TRIP_PASS\",\"TRIP_PASS\",\"TRANSFER\",\"TRANSFER\",\"TRANSFER\",\"STORED_VALUE\",\"STORED_VALUE\",\"TRANSFER\",\"STORED_VALUE\",\"TRANSFER\",\"STORED_VALUE\",\"STORED_VALUE\",\"TRANSFER\",\"TRANSFER\",\"STORED_VALUE\",\"STORED_VALUE\",\"TRANSFER\",\"STORED_VALUE\",\"TRANSFER\",\"TRANSFER\",\"STORED_VALUE\",\"STORED_VALUE\",\"STORED_VALUE\",\"TRANSFER\",\"STORED_VALUE\",\"STORED_VALUE\",\"TRANSFER\",\"STORED_VALUE\",\"TRANSFER\",\"TRIP_PASS\",\"TRIP_PASS\",\"TRANSFER\",\"TRANSFER\",\"TRIP_PASS\",\"STORED_VALUE\",\"TRANSFER\",\"STORED_VALUE\",\"TRANSFER\",\"STORED_VALUE\",\"TRANSFER\",\"TRIP_PASS\",\"TRIP_PASS\",\"TRIP_PASS\",\"TRANSFER\",\"TRANSFER\",\"TRANSFER\",\"STORED_VALUE\",\"TRIP_PASS\",\"TRANSFER\",\"STORED_VALUE\",\"STORED_VALUE\",\"TRANSFER\",\"STORED_VALUE\",\"TRIP_PASS\",\"STORED_VALUE\",\"STORED_VALUE\",\"STORED_VALUE\",\"TRANSFER\",\"TRIP_PASS\",\"STORED_VALUE\",\"STORED_VALUE\",\"TRANSFER\",\"TRANSFER\",\"TRANSFER\",\"STORED_VALUE\",\"TRIP_PASS\",\"TRANSFER\",\"TRANSFER\",\"STORED_VALUE\",\"STORED_VALUE\",\"STORED_VALUE\",\"TRANSFER\",\"TRIP_PASS\",\"TRIP_PASS\",\"TRANSFER\",\"STORED_VALUE\",\"TRANSFER\",\"STORED_VALUE\",\"TRANSFER\",\"TRIP_PASS\",\"TRIP_PASS\",\"STORED_VALUE\",\"STORED_VALUE\",\"TRANSFER\",\"TRANSFER\",\"TRIP_PASS\",\"TRANSFER\",\"STORED_VALUE\",\"STORED_VALUE\",\"STORED_VALUE\",\"TRANSFER\",\"TRANSFER\",\"STORED_VALUE\",\"STORED_VALUE\",\"TRANSFER\",\"TRANSFER\",\"TRIP_PASS\",\"TRIP_PASS\",\"STORED_VALUE\",\"STORED_VALUE\",\"TRIP_PASS\",\"TRANSFER\",\"TRANSFER\",\"TRANSFER\",\"TRIP_PASS\",\"TRANSFER\",\"STORED_VALUE\",\"TRANSFER\",\"TRIP_PASS\",\"TRIP_PASS\",\"TRIP_PASS\",\"TRANSFER\",\"TRANSFER\",\"TRIP_PASS\",\"STORED_VALUE\",\"TRANSFER\",\"STORED_VALUE\",\"STORED_VALUE\",\"STORED_VALUE\",\"TRANSFER\",\"TRIP_PASS\",\"STORED_VALUE\",\"TRANSFER\",\"TRANSFER\",\"STORED_VALUE\",\"STORED_VALUE\",\"TRANSFER\",\"STORED_VALUE\",\"TRIP_PASS\",\"TRANSFER\",\"STORED_VALUE\",\"TRIP_PASS\",\"TRIP_PASS\",\"STORED_VALUE\",\"STORED_VALUE\",\"TRANSFER\",\"STORED_VALUE\",\"TRANSFER\",\"TRIP_PASS\",\"TRIP_PASS\",\"STORED_VALUE\",\"TRIP_PASS\",\"TRIP_PASS\",\"TRIP_PASS\",\"TRANSFER\",\"TRANSFER\",\"TRANSFER\",\"TRIP_PASS\",\"TRANSFER\",\"STORED_VALUE\",\"TRANSFER\",\"TRIP_PASS\",\"TRIP_PASS\",\"TRANSFER\",\"STORED_VALUE\",\"TRANSFER\",\"TRIP_PASS\",\"STORED_VALUE\",\"STORED_VALUE\",\"STORED_VALUE\",\"TRANSFER\",\"TRANSFER\",\"STORED_VALUE\",\"STORED_VALUE\",\"TRANSFER\",\"STORED_VALUE\",\"TRIP_PASS\",\"STORED_VALUE\",\"TRANSFER\",\"STORED_VALUE\",\"TRANSFER\",\"TRANSFER\",\"TRIP_PASS\",\"TRANSFER\",\"TRANSFER\",\"TRIP_PASS\",\"TRIP_PASS\",\"TRIP_PASS\",\"TRIP_PASS\",\"TRANSFER\",\"TRANSFER\",\"TRANSFER\",\"TRIP_PASS\",\"STORED_VALUE\",\"TRANSFER\",\"TRANSFER\",\"STORED_VALUE\",\"TRIP_PASS\",\"TRANSFER\",\"TRANSFER\",\"STORED_VALUE\",\"TRANSFER\",\"TRIP_PASS\",\"STORED_VALUE\",\"TRANSFER\",\"STORED_VALUE\",\"TRANSFER\",\"STORED_VALUE\",\"TRIP_PASS\",\"TRANSFER\",\"TRANSFER\",\"TRIP_PASS\",\"STORED_VALUE\",\"TRANSFER\",\"STORED_VALUE\",\"TRANSFER\",\"STORED_VALUE\",\"TRIP_PASS\",\"STORED_VALUE\",\"TRIP_PASS\",\"TRIP_PASS\",\"TRANSFER\",\"TRANSFER\",\"TRANSFER\",\"TRANSFER\",\"STORED_VALUE\",\"TRANSFER\",\"TRIP_PASS\",\"TRIP_PASS\",\"TRIP_PASS\",\"STORED_VALUE\",\"TRIP_PASS\",\"TRIP_PASS\",\"TRANSFER\",\"TRANSFER\",\"TRANSFER\",\"STORED_VALUE\",\"TRANSFER\",\"TRIP_PASS\",\"TRIP_PASS\",\"TRANSFER\",\"TRANSFER\",\"TRIP_PASS\",\"TRANSFER\",\"TRIP_PASS\",\"TRANSFER\",\"TRIP_PASS\",\"STORED_VALUE\",\"TRANSFER\",\"TRANSFER\",\"STORED_VALUE\",\"TRIP_PASS\",\"TRANSFER\",\"TRANSFER\",\"STORED_VALUE\",\"TRANSFER\",\"TRIP_PASS\",\"TRIP_PASS\",\"STORED_VALUE\",\"STORED_VALUE\",\"TRANSFER\",\"TRANSFER\",\"STORED_VALUE\",\"STORED_VALUE\",\"TRANSFER\",\"STORED_VALUE\",\"TRIP_PASS\",\"TRANSFER\",\"TRANSFER\",\"TRIP_PASS\",\"TRANSFER\",\"TRIP_PASS\",\"STORED_VALUE\",\"TRIP_PASS\",\"TRANSFER\",\"TRANSFER\",\"TRANSFER\",\"TRANSFER\",\"TRIP_PASS\",\"TRANSFER\",\"STORED_VALUE\",\"TRANSFER\",\"STORED_VALUE\",\"TRIP_PASS\",\"TRANSFER\",\"STORED_VALUE\",\"TRIP_PASS\",\"STORED_VALUE\",\"STORED_VALUE\",\"TRANSFER\",\"STORED_VALUE\",\"TRIP_PASS\",\"TRIP_PASS\",\"TRANSFER\",\"STORED_VALUE\",\"TRANSFER\",\"TRANSFER\",\"TRANSFER\",\"TRIP_PASS\",\"TRANSFER\",\"STORED_VALUE\",\"TRIP_PASS\",\"TRIP_PASS\",\"TRANSFER\",\"TRANSFER\",\"STORED_VALUE\",\"STORED_VALUE\",\"TRANSFER\",\"STORED_VALUE\",\"STORED_VALUE\",\"STORED_VALUE\",\"TRANSFER\",\"STORED_VALUE\",\"TRANSFER\",\"STORED_VALUE\",\"STORED_VALUE\",\"TRANSFER\",\"TRANSFER\",\"TRANSFER\",\"TRIP_PASS\",\"STORED_VALUE\",\"STORED_VALUE\",\"STORED_VALUE\",\"TRANSFER\",\"STORED_VALUE\",\"TRANSFER\",\"TRIP_PASS\",\"STORED_VALUE\",\"STORED_VALUE\",\"TRANSFER\",\"TRIP_PASS\",\"TRANSFER\",\"TRIP_PASS\",\"TRANSFER\",\"TRANSFER\",\"STORED_VALUE\",\"TRANSFER\",\"STORED_VALUE\",\"TRIP_PASS\",\"STORED_VALUE\",\"TRANSFER\",\"TRIP_PASS\",\"TRANSFER\",\"STORED_VALUE\",\"STORED_VALUE\",\"TRANSFER\",\"STORED_VALUE\",\"TRANSFER\",\"TRIP_PASS\",\"TRANSFER\",\"TRIP_PASS\",\"STORED_VALUE\",\"STORED_VALUE\",\"TRIP_PASS\",\"STORED_VALUE\",\"TRANSFER\",\"TRANSFER\",\"STORED_VALUE\",\"TRIP_PASS\",\"TRIP_PASS\",\"TRANSFER\",\"TRANSFER\",\"TRIP_PASS\",\"TRANSFER\",\"STORED_VALUE\",\"TRIP_PASS\",\"TRIP_PASS\",\"STORED_VALUE\",\"TRANSFER\",\"TRANSFER\",\"STORED_VALUE\",\"TRANSFER\",\"STORED_VALUE\",\"TRANSFER\",\"TRIP_PASS\",\"STORED_VALUE\",\"STORED_VALUE\",\"TRANSFER\",\"STORED_VALUE\",\"TRIP_PASS\",\"STORED_VALUE\",\"STORED_VALUE\",\"TRANSFER\",\"STORED_VALUE\",\"TRANSFER\",\"STORED_VALUE\",\"TRIP_PASS\",\"STORED_VALUE\",\"TRIP_PASS\",\"STORED_VALUE\",\"TRANSFER\",\"TRANSFER\",\"STORED_VALUE\",\"STORED_VALUE\",\"STORED_VALUE\",\"TRANSFER\",\"TRANSFER\",\"TRIP_PASS\",\"TRANSFER\",\"STORED_VALUE\",\"TRANSFER\",\"TRIP_PASS\",\"TRIP_PASS\",\"STORED_VALUE\",\"STORED_VALUE\",\"TRANSFER\",\"TRANSFER\",\"TRANSFER\",\"TRANSFER\",\"TRIP_PASS\",\"TRANSFER\",\"TRIP_PASS\",\"TRANSFER\",\"STORED_VALUE\",\"TRIP_PASS\",\"TRANSFER\",\"STORED_VALUE\",\"TRANSFER\",\"TRIP_PASS\",\"TRIP_PASS\",\"STORED_VALUE\",\"TRIP_PASS\",\"TRANSFER\",\"TRANSFER\",\"STORED_VALUE\",\"STORED_VALUE\",\"STORED_VALUE\",\"TRANSFER\",\"STORED_VALUE\",\"TRANSFER\",\"TRANSFER\",\"STORED_VALUE\",\"TRIP_PASS\",\"STORED_VALUE\",\"TRANSFER\",\"TRIP_PASS\",\"STORED_VALUE\",\"STORED_VALUE\",\"TRANSFER\",\"TRIP_PASS\",\"STORED_VALUE\",\"STORED_VALUE\",\"TRANSFER\",\"STORED_VALUE\",\"STORED_VALUE\",\"TRIP_PASS\",\"TRANSFER\",\"TRANSFER\",\"TRANSFER\",\"TRANSFER\",\"STORED_VALUE\",\"TRIP_PASS\",\"TRANSFER\",\"TRIP_PASS\",\"TRIP_PASS\",\"TRANSFER\",\"TRANSFER\",\"STORED_VALUE\",\"STORED_VALUE\",\"TRANSFER\",\"TRIP_PASS\",\"TRIP_PASS\",\"TRANSFER\",\"TRANSFER\",\"STORED_VALUE\",\"TRIP_PASS\",\"STORED_VALUE\",\"STORED_VALUE\",\"TRANSFER\",\"TRANSFER\",\"TRIP_PASS\",\"STORED_VALUE\",\"STORED_VALUE\",\"TRANSFER\",\"TRANSFER\",\"TRANSFER\",\"STORED_VALUE\",\"STORED_VALUE\",\"STORED_VALUE\",\"TRANSFER\",\"TRANSFER\",\"STORED_VALUE\",\"TRANSFER\",\"STORED_VALUE\",\"STORED_VALUE\",\"TRIP_PASS\",\"TRIP_PASS\",\"TRANSFER\",\"STORED_VALUE\",\"STORED_VALUE\",\"TRANSFER\",\"TRIP_PASS\",\"TRIP_PASS\",\"STORED_VALUE\",\"TRIP_PASS\",\"TRANSFER\",\"TRANSFER\",\"TRANSFER\",\"STORED_VALUE\",\"TRANSFER\",\"STORED_VALUE\",\"TRIP_PASS\",\"TRANSFER\",\"TRIP_PASS\",\"TRIP_PASS\",\"STORED_VALUE\",\"STORED_VALUE\",\"STORED_VALUE\",\"TRANSFER\",\"TRANSFER\",\"STORED_VALUE\",\"STORED_VALUE\",\"TRANSFER\",\"STORED_VALUE\",\"STORED_VALUE\",\"TRANSFER\",\"TRANSFER\",\"TRIP_PASS\",\"STORED_VALUE\",\"TRANSFER\",\"TRANSFER\",\"TRIP_PASS\",\"STORED_VALUE\",\"STORED_VALUE\",\"TRANSFER\",\"TRIP_PASS\",\"TRIP_PASS\",\"STORED_VALUE\",\"TRANSFER\",\"TRANSFER\",\"TRIP_PASS\",\"TRANSFER\",\"STORED_VALUE\",\"TRIP_PASS\",\"TRANSFER\",\"TRIP_PASS\",\"TRANSFER\",\"STORED_VALUE\",\"STORED_VALUE\",\"TRANSFER\",\"STORED_VALUE\",\"TRANSFER\",\"TRIP_PASS\",\"TRANSFER\",\"STORED_VALUE\",\"STORED_VALUE\",\"TRANSFER\",\"TRIP_PASS\",\"TRANSFER\",\"STORED_VALUE\",\"TRIP_PASS\",\"TRIP_PASS\",\"TRANSFER\",\"STORED_VALUE\",\"TRANSFER\",\"STORED_VALUE\",\"STORED_VALUE\",\"TRANSFER\",\"TRANSFER\",\"TRIP_PASS\",\"STORED_VALUE\",\"TRANSFER\",\"STORED_VALUE\",\"STORED_VALUE\",\"TRIP_PASS\",\"STORED_VALUE\",\"TRANSFER\",\"TRANSFER\",\"STORED_VALUE\",\"STORED_VALUE\",\"STORED_VALUE\",\"STORED_VALUE\",\"TRANSFER\",\"TRANSFER\",\"TRIP_PASS\",\"STORED_VALUE\"]},\"selected\":{\"id\":\"7791\"},\"selection_policy\":{\"id\":\"7804\"}},\"id\":\"7790\",\"type\":\"ColumnDataSource\"},{\"attributes\":{\"end\":4378112.024537508,\"min_interval\":5,\"reset_end\":4378112.024537508,\"reset_start\":4244198.506021951,\"start\":4244198.506021951,\"tags\":[[[\"Latitude\",\"Latitude\",null]]]},\"id\":\"7720\",\"type\":\"Range1d\"},{\"attributes\":{\"source\":{\"id\":\"7790\"}},\"id\":\"7799\",\"type\":\"CDSView\"},{\"attributes\":{},\"id\":\"7764\",\"type\":\"AllLabels\"},{\"attributes\":{\"click_policy\":\"mute\",\"items\":[{\"id\":\"7807\"}],\"location\":[0,0]},\"id\":\"7806\",\"type\":\"Legend\"},{\"attributes\":{\"code\":\"\\n        var projections = Bokeh.require(\\\"core/util/projections\\\");\\n        var x = special_vars.data_x\\n        var y = special_vars.data_y\\n        if (projections.wgs84_mercator.invert == null) {\\n          var coords = projections.wgs84_mercator.inverse([x, y])\\n        } else {\\n          var coords = projections.wgs84_mercator.invert(x, y)\\n        }\\n        return \\\"\\\" + (coords[0]).toFixed(4)\\n    \"},\"id\":\"7808\",\"type\":\"CustomJSHover\"},{\"attributes\":{},\"id\":\"7771\",\"type\":\"AllLabels\"},{\"attributes\":{\"fill_color\":{\"field\":\"color\",\"transform\":{\"id\":\"7789\"}},\"line_color\":{\"field\":\"color\",\"transform\":{\"id\":\"7789\"}},\"size\":{\"value\":7.0710678118654755},\"x\":{\"field\":\"Longitude\"},\"y\":{\"field\":\"Latitude\"}},\"id\":\"7796\",\"type\":\"Scatter\"},{\"attributes\":{},\"id\":\"7791\",\"type\":\"Selection\"},{\"attributes\":{\"bottom_units\":\"screen\",\"fill_alpha\":0.5,\"fill_color\":\"lightgrey\",\"left_units\":\"screen\",\"level\":\"overlay\",\"line_alpha\":1.0,\"line_color\":\"black\",\"line_dash\":[4,4],\"line_width\":2,\"right_units\":\"screen\",\"syncable\":false,\"top_units\":\"screen\"},\"id\":\"7748\",\"type\":\"BoxAnnotation\"},{\"attributes\":{\"fill_color\":{\"field\":\"color\",\"transform\":{\"id\":\"7789\"}},\"line_color\":{\"field\":\"color\",\"transform\":{\"id\":\"7789\"}},\"size\":{\"value\":7.0710678118654755},\"x\":{\"field\":\"Longitude\"},\"y\":{\"field\":\"Latitude\"}},\"id\":\"7793\",\"type\":\"Scatter\"},{\"attributes\":{\"axis\":{\"id\":\"7735\"},\"grid_line_color\":null,\"ticker\":null},\"id\":\"7738\",\"type\":\"Grid\"},{\"attributes\":{\"margin\":[5,5,5,5],\"name\":\"HSpacer18851\",\"sizing_mode\":\"stretch_width\"},\"id\":\"7864\",\"type\":\"Spacer\"},{\"attributes\":{\"callback\":null,\"formatters\":{\"$x\":{\"id\":\"7808\"},\"$y\":{\"id\":\"7809\"},\"@{date}\":\"datetime\"},\"renderers\":[{\"id\":\"7798\"}],\"tags\":[\"hv_created\"],\"tooltips\":[[\"Longitude\",\"$x{custom}\"],[\"Latitude\",\"$y{custom}\"],[\"type\",\"@{type}\"],[\"date\",\"@{date}{%F %T}\"],[\"routeName\",\"@{routeName}\"]]},\"id\":\"7723\",\"type\":\"HoverTool\"},{\"attributes\":{\"label\":{\"field\":\"color\"},\"renderers\":[{\"id\":\"7798\"}]},\"id\":\"7807\",\"type\":\"LegendItem\"},{\"attributes\":{},\"id\":\"7733\",\"type\":\"LinearScale\"},{\"attributes\":{\"code\":\"\\n        var projections = Bokeh.require(\\\"core/util/projections\\\");\\n        var x = special_vars.data_x\\n        var y = special_vars.data_y\\n        if (projections.wgs84_mercator.invert == null) {\\n          var coords = projections.wgs84_mercator.inverse([x, y])\\n        } else {\\n          var coords = projections.wgs84_mercator.invert(x, y)\\n        }\\n        return \\\"\\\" + (coords[1]).toFixed(4)\\n    \"},\"id\":\"7809\",\"type\":\"CustomJSHover\"},{\"attributes\":{\"text_color\":\"black\",\"text_font_size\":\"12pt\"},\"id\":\"7727\",\"type\":\"Title\"},{\"attributes\":{\"axis_label\":\"x\",\"formatter\":{\"id\":\"7759\"},\"major_label_policy\":{\"id\":\"7764\"},\"ticker\":{\"id\":\"7758\"}},\"id\":\"7735\",\"type\":\"LinearAxis\"},{\"attributes\":{},\"id\":\"7731\",\"type\":\"LinearScale\"},{\"attributes\":{\"attribution\":\"&copy; <a href=\\\"https://www.openstreetmap.org/copyright\\\">OpenStreetMap</a> contributors\",\"url\":\"https://c.tile.openstreetmap.org/{Z}/{X}/{Y}.png\"},\"id\":\"7784\",\"type\":\"WMTSTileSource\"},{\"attributes\":{\"data_source\":{\"id\":\"7790\"},\"glyph\":{\"id\":\"7793\"},\"hover_glyph\":{\"id\":\"7796\"},\"muted_glyph\":{\"id\":\"7797\"},\"nonselection_glyph\":{\"id\":\"7794\"},\"selection_glyph\":{\"id\":\"7795\"},\"view\":{\"id\":\"7799\"}},\"id\":\"7798\",\"type\":\"GlyphRenderer\"},{\"attributes\":{},\"id\":\"7804\",\"type\":\"UnionRenderers\"},{\"attributes\":{\"zoom_on_axis\":false},\"id\":\"7745\",\"type\":\"WheelZoomTool\"},{\"attributes\":{\"level\":\"glyph\",\"tile_source\":{\"id\":\"7784\"}},\"id\":\"7787\",\"type\":\"TileRenderer\"},{\"attributes\":{},\"id\":\"7744\",\"type\":\"PanTool\"},{\"attributes\":{\"factors\":[\"TRIP_PASS\",\"TRANSFER\",\"STORED_VALUE\"],\"palette\":[\"#1f77b3\",\"#ff7e0e\",\"#2ba02b\"]},\"id\":\"7789\",\"type\":\"CategoricalColorMapper\"},{\"attributes\":{\"axis_label\":\"y\",\"formatter\":{\"id\":\"7761\"},\"major_label_policy\":{\"id\":\"7771\"},\"ticker\":{\"id\":\"7760\"}},\"id\":\"7739\",\"type\":\"LinearAxis\"},{\"attributes\":{\"axis\":{\"id\":\"7739\"},\"dimension\":1,\"grid_line_color\":null,\"ticker\":null},\"id\":\"7742\",\"type\":\"Grid\"},{\"attributes\":{\"active_multi\":null,\"tools\":[{\"id\":\"7723\"},{\"id\":\"7743\"},{\"id\":\"7744\"},{\"id\":\"7745\"},{\"id\":\"7746\"},{\"id\":\"7747\"}]},\"id\":\"7749\",\"type\":\"Toolbar\"},{\"attributes\":{},\"id\":\"7743\",\"type\":\"SaveTool\"},{\"attributes\":{\"match_aspect\":true,\"overlay\":{\"id\":\"7748\"}},\"id\":\"7746\",\"type\":\"BoxZoomTool\"},{\"attributes\":{},\"id\":\"7747\",\"type\":\"ResetTool\"},{\"attributes\":{\"dimension\":\"lon\"},\"id\":\"7759\",\"type\":\"MercatorTickFormatter\"},{\"attributes\":{\"fill_alpha\":{\"value\":0.2},\"fill_color\":{\"field\":\"color\",\"transform\":{\"id\":\"7789\"}},\"line_alpha\":{\"value\":0.2},\"line_color\":{\"field\":\"color\",\"transform\":{\"id\":\"7789\"}},\"size\":{\"value\":7.0710678118654755},\"x\":{\"field\":\"Longitude\"},\"y\":{\"field\":\"Latitude\"}},\"id\":\"7797\",\"type\":\"Scatter\"},{\"attributes\":{\"dimension\":\"lon\"},\"id\":\"7758\",\"type\":\"MercatorTicker\"},{\"attributes\":{\"fill_color\":{\"field\":\"color\",\"transform\":{\"id\":\"7789\"}},\"line_color\":{\"field\":\"color\",\"transform\":{\"id\":\"7789\"}},\"size\":{\"value\":7.0710678118654755},\"x\":{\"field\":\"Longitude\"},\"y\":{\"field\":\"Latitude\"}},\"id\":\"7795\",\"type\":\"Scatter\"},{\"attributes\":{\"below\":[{\"id\":\"7735\"}],\"center\":[{\"id\":\"7738\"},{\"id\":\"7742\"}],\"frame_height\":450,\"frame_width\":650,\"height\":null,\"left\":[{\"id\":\"7739\"}],\"margin\":[5,5,5,5],\"match_aspect\":true,\"min_border_bottom\":10,\"min_border_left\":10,\"min_border_right\":10,\"min_border_top\":10,\"renderers\":[{\"id\":\"7787\"},{\"id\":\"7798\"}],\"right\":[{\"id\":\"7806\"}],\"sizing_mode\":\"fixed\",\"title\":{\"id\":\"7727\"},\"toolbar\":{\"id\":\"7749\"},\"width\":null,\"x_range\":{\"id\":\"7719\"},\"x_scale\":{\"id\":\"7731\"},\"y_range\":{\"id\":\"7720\"},\"y_scale\":{\"id\":\"7733\"}},\"id\":\"7726\",\"subtype\":\"Figure\",\"type\":\"Plot\"},{\"attributes\":{\"margin\":[5,5,5,5],\"name\":\"HSpacer18850\",\"sizing_mode\":\"stretch_width\"},\"id\":\"7714\",\"type\":\"Spacer\"},{\"attributes\":{\"dimension\":\"lat\"},\"id\":\"7760\",\"type\":\"MercatorTicker\"},{\"attributes\":{\"children\":[{\"id\":\"7714\"},{\"id\":\"7726\"},{\"id\":\"7864\"}],\"margin\":[0,0,0,0],\"name\":\"Row18846\",\"tags\":[\"embedded\"]},\"id\":\"7713\",\"type\":\"Row\"},{\"attributes\":{\"fill_alpha\":{\"value\":0.1},\"fill_color\":{\"field\":\"color\",\"transform\":{\"id\":\"7789\"}},\"line_alpha\":{\"value\":0.1},\"line_color\":{\"field\":\"color\",\"transform\":{\"id\":\"7789\"}},\"size\":{\"value\":7.0710678118654755},\"x\":{\"field\":\"Longitude\"},\"y\":{\"field\":\"Latitude\"}},\"id\":\"7794\",\"type\":\"Scatter\"}],\"root_ids\":[\"7713\"]},\"title\":\"Bokeh Application\",\"version\":\"2.3.2\"}};\n",
       "    var render_items = [{\"docid\":\"7f7bcadc-b1bd-465d-bcde-fa25389c4a43\",\"root_ids\":[\"7713\"],\"roots\":{\"7713\":\"f18e23cd-31fd-4383-bc02-5b93c20fee6e\"}}];\n",
       "    root.Bokeh.embed.embed_items_notebook(docs_json, render_items);\n",
       "  }\n",
       "  if (root.Bokeh !== undefined && root.Bokeh.Panel !== undefined) {\n",
       "    embed_document(root);\n",
       "  } else {\n",
       "    var attempts = 0;\n",
       "    var timer = setInterval(function(root) {\n",
       "      if (root.Bokeh !== undefined && root.Bokeh.Panel !== undefined) {\n",
       "        clearInterval(timer);\n",
       "        embed_document(root);\n",
       "      } else if (document.readyState == \"complete\") {\n",
       "        attempts++;\n",
       "        if (attempts > 100) {\n",
       "          clearInterval(timer);\n",
       "          console.log(\"Bokeh: ERROR: Unable to run BokehJS code because BokehJS library is missing\");\n",
       "        }\n",
       "      }\n",
       "    }, 10, root)\n",
       "  }\n",
       "})(window);</script>"
      ],
      "text/plain": [
       ":Overlay\n",
       "   .Tiles.I  :Tiles   [x,y]\n",
       "   .Points.I :Points   [Longitude,Latitude]   (type,date,routeName)"
      ]
     },
     "execution_count": 109,
     "metadata": {
      "application/vnd.holoviews_exec.v0+json": {
       "id": "7713"
      }
     },
     "output_type": "execute_result"
    }
   ],
   "source": [
    "# create variable to remove any observations with invalid coordinates\n",
    "bad_coord = Point(0, 0)\n",
    "\n",
    "# plot the transactions for those who never reached their daily fare cap\n",
    "never_daily_cap_user_trips[~never_daily_cap_user_trips['geometry'].contains(bad_coord)].hvplot(\n",
    "    geo=True,\n",
    "    tiles='OSM',\n",
    "    hover=True,\n",
    "    hover_cols=[\n",
    "        'date',\n",
    "        'routeName',\n",
    "        'type'\n",
    "    ],\n",
    "    c='type',\n",
    "    size=50,\n",
    "    frame_width=650,\n",
    "    frame_height=450\n",
    ")"
   ]
  },
  {
   "cell_type": "markdown",
   "id": "94c08a2c",
   "metadata": {},
   "source": [
    "Looking at the plot above, we can see that passengers who do not take advantage of daily fare capping access the PART system across the entire Piedmont region. There are passengers on Routes 1, 2, 3, 4, 6, 9, 10, 17, and all the shuttles. If we zoom in on the CTC, we can see a majority of the transactions are transfers while most of the transactions at the other transit centers are stored value transactions or some kind of pass."
   ]
  },
  {
   "cell_type": "code",
   "execution_count": null,
   "id": "755da14f",
   "metadata": {},
   "outputs": [],
   "source": []
  },
  {
   "cell_type": "code",
   "execution_count": null,
   "id": "897f9fda",
   "metadata": {},
   "outputs": [],
   "source": []
  },
  {
   "cell_type": "code",
   "execution_count": null,
   "id": "440368b2",
   "metadata": {},
   "outputs": [],
   "source": []
  },
  {
   "cell_type": "code",
   "execution_count": null,
   "id": "33bc5f8c",
   "metadata": {},
   "outputs": [],
   "source": []
  },
  {
   "cell_type": "code",
   "execution_count": null,
   "id": "6a5cd5f3",
   "metadata": {},
   "outputs": [],
   "source": []
  },
  {
   "cell_type": "code",
   "execution_count": null,
   "id": "ef18ddfd",
   "metadata": {},
   "outputs": [],
   "source": []
  },
  {
   "cell_type": "code",
   "execution_count": null,
   "id": "451b1843",
   "metadata": {},
   "outputs": [],
   "source": []
  },
  {
   "cell_type": "code",
   "execution_count": null,
   "id": "d89d8ff7",
   "metadata": {},
   "outputs": [],
   "source": []
  },
  {
   "cell_type": "code",
   "execution_count": null,
   "id": "6c6f4f4c",
   "metadata": {},
   "outputs": [],
   "source": []
  },
  {
   "cell_type": "markdown",
   "id": "0a44ee3d",
   "metadata": {},
   "source": [
    "### Other things I need to do\n",
    "\n",
    "Get number of folks who never transfer\n",
    "\n",
    "unique passengers per route"
   ]
  },
  {
   "cell_type": "code",
   "execution_count": null,
   "id": "a56393da",
   "metadata": {},
   "outputs": [],
   "source": []
  },
  {
   "cell_type": "code",
   "execution_count": null,
   "id": "4ad6aa63",
   "metadata": {},
   "outputs": [],
   "source": []
  },
  {
   "cell_type": "code",
   "execution_count": null,
   "id": "32230693",
   "metadata": {},
   "outputs": [],
   "source": []
  },
  {
   "cell_type": "code",
   "execution_count": null,
   "id": "1a1f0b0c",
   "metadata": {},
   "outputs": [],
   "source": []
  },
  {
   "cell_type": "code",
   "execution_count": null,
   "id": "5b0f3036",
   "metadata": {},
   "outputs": [],
   "source": []
  },
  {
   "cell_type": "code",
   "execution_count": null,
   "id": "f32e8995",
   "metadata": {},
   "outputs": [],
   "source": []
  },
  {
   "cell_type": "code",
   "execution_count": null,
   "id": "157a76f2",
   "metadata": {},
   "outputs": [],
   "source": []
  },
  {
   "cell_type": "code",
   "execution_count": null,
   "id": "adb04b86",
   "metadata": {},
   "outputs": [],
   "source": []
  },
  {
   "cell_type": "code",
   "execution_count": null,
   "id": "d8c477db",
   "metadata": {},
   "outputs": [],
   "source": []
  },
  {
   "cell_type": "code",
   "execution_count": null,
   "id": "0d1d95ff",
   "metadata": {},
   "outputs": [],
   "source": []
  },
  {
   "cell_type": "code",
   "execution_count": null,
   "id": "4d76a12d",
   "metadata": {},
   "outputs": [],
   "source": []
  },
  {
   "cell_type": "code",
   "execution_count": null,
   "id": "312ea556",
   "metadata": {},
   "outputs": [],
   "source": []
  },
  {
   "cell_type": "code",
   "execution_count": null,
   "id": "85fb6e6e",
   "metadata": {},
   "outputs": [],
   "source": []
  },
  {
   "cell_type": "code",
   "execution_count": null,
   "id": "5894e644",
   "metadata": {},
   "outputs": [],
   "source": []
  },
  {
   "cell_type": "code",
   "execution_count": null,
   "id": "853b77bd",
   "metadata": {},
   "outputs": [],
   "source": []
  },
  {
   "cell_type": "code",
   "execution_count": null,
   "id": "86ba3d54",
   "metadata": {},
   "outputs": [],
   "source": []
  }
 ],
 "metadata": {
  "kernelspec": {
   "display_name": "Python 3",
   "language": "python",
   "name": "python3"
  },
  "language_info": {
   "codemirror_mode": {
    "name": "ipython",
    "version": 3
   },
   "file_extension": ".py",
   "mimetype": "text/x-python",
   "name": "python",
   "nbconvert_exporter": "python",
   "pygments_lexer": "ipython3",
   "version": "3.8.10"
  }
 },
 "nbformat": 4,
 "nbformat_minor": 5
}
