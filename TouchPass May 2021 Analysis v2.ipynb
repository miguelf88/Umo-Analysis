{
 "cells": [
  {
   "cell_type": "markdown",
   "id": "8886ad26",
   "metadata": {},
   "source": [
    "# TouchPass Analysis"
   ]
  },
  {
   "cell_type": "markdown",
   "id": "4ce6ee13",
   "metadata": {},
   "source": [
    "The data for this analysis is from May 2021 and comes from the TouchPass API. The first half of the analysis will be a basic exploratory analysis and will generate some statistics and figures for the overall usage of the TouchPass system. The second half of the analysis will look at the utilization of the daily fare capping feature that is possible through the TouchPass system. Fare capping is an equitable practice in public transit whereby passengers who pay their fares using 'stored value' will ride for free once their usage reaches the amount spent for a daily or monthly pass. For example, a daily pass is \\\\$5.00. Once a passenger pays \\\\$5.00 using stored value, whatever trips they take beyond that are free."
   ]
  },
  {
   "cell_type": "code",
   "execution_count": 2,
   "id": "045899b8",
   "metadata": {},
   "outputs": [],
   "source": [
    "# Import libraries\n",
    "import os\n",
    "import json\n",
    "import requests\n",
    "import numpy as np\n",
    "import pandas as pd\n",
    "import geopandas as gpd\n",
    "# import movingpandas as mpd\n",
    "\n",
    "import datetime as dt\n",
    "import seaborn as sns\n",
    "import matplotlib.pyplot as plt\n",
    "\n",
    "import warnings\n",
    "warnings.simplefilter(\"ignore\")\n",
    "\n",
    "pd.options.display.max_columns = 999"
   ]
  },
  {
   "cell_type": "markdown",
   "id": "9a9391b5",
   "metadata": {},
   "source": [
    "Next, we'll pass in the parameters to the TouchPass API and then make the call to the API."
   ]
  },
  {
   "cell_type": "code",
   "execution_count": 3,
   "id": "7a8ba25e",
   "metadata": {},
   "outputs": [],
   "source": [
    "# define parameters\n",
    "url = 'https://touchpass.com/ams/rest/v1/reporting/faretx/'\n",
    "api_key = os.environ.get('TOUCHPASS_API_KEY')\n",
    "\n",
    "start = '2021-05-01T10:00:00Z'\n",
    "end = '2021-06-01T04:00:00Z'\n",
    "\n",
    "headers = {\n",
    "    'accept': 'application/json',\n",
    "    'Api-Token': api_key,\n",
    "    'Agency-ID': '9K7A4H9JHRVQ'\n",
    "}"
   ]
  },
  {
   "cell_type": "code",
   "execution_count": 4,
   "id": "99c108cc",
   "metadata": {
    "scrolled": true
   },
   "outputs": [
    {
     "name": "stdout",
     "output_type": "stream",
     "text": [
      "Finished reading 8,643 transactions\n",
      "Wall time: 2.81 s\n"
     ]
    }
   ],
   "source": [
    "%%time\n",
    "\n",
    "# call api and save to variable\n",
    "response = requests.get(url + start + '/' + end, headers=headers).json()\n",
    "\n",
    "# write response to dataframe\n",
    "df = pd.DataFrame(response)\n",
    "\n",
    "print('Finished reading {:,} transactions'.format(len(df)))"
   ]
  },
  {
   "cell_type": "code",
   "execution_count": 5,
   "id": "41d8bd87",
   "metadata": {},
   "outputs": [
    {
     "data": {
      "text/html": [
       "<div>\n",
       "<style scoped>\n",
       "    .dataframe tbody tr th:only-of-type {\n",
       "        vertical-align: middle;\n",
       "    }\n",
       "\n",
       "    .dataframe tbody tr th {\n",
       "        vertical-align: top;\n",
       "    }\n",
       "\n",
       "    .dataframe thead th {\n",
       "        text-align: right;\n",
       "    }\n",
       "</style>\n",
       "<table border=\"1\" class=\"dataframe\">\n",
       "  <thead>\n",
       "    <tr style=\"text-align: right;\">\n",
       "      <th></th>\n",
       "      <th>txId</th>\n",
       "      <th>ts</th>\n",
       "      <th>type</th>\n",
       "      <th>mediaUsed</th>\n",
       "      <th>mediaType</th>\n",
       "      <th>cardNumber</th>\n",
       "      <th>fareType</th>\n",
       "      <th>accountId</th>\n",
       "      <th>routeName</th>\n",
       "      <th>latitude</th>\n",
       "      <th>longitude</th>\n",
       "      <th>reader</th>\n",
       "      <th>readerPosition</th>\n",
       "      <th>fare</th>\n",
       "      <th>stopName</th>\n",
       "      <th>stopId</th>\n",
       "      <th>passUsed</th>\n",
       "      <th>vehicle</th>\n",
       "    </tr>\n",
       "  </thead>\n",
       "  <tbody>\n",
       "    <tr>\n",
       "      <th>0</th>\n",
       "      <td>4900000000007651</td>\n",
       "      <td>2021-05-01T10:27:12.607Z</td>\n",
       "      <td>MONTHLY_CAP_REACHED</td>\n",
       "      <td>HOUSE</td>\n",
       "      <td>HOUSE_CARD</td>\n",
       "      <td>8028816339076671</td>\n",
       "      <td>Employee</td>\n",
       "      <td>3164081</td>\n",
       "      <td>DEFAULT</td>\n",
       "      <td>36.093978</td>\n",
       "      <td>-79.959275</td>\n",
       "      <td>H2R217</td>\n",
       "      <td>0</td>\n",
       "      <td>0</td>\n",
       "      <td>NaN</td>\n",
       "      <td>NaN</td>\n",
       "      <td>NaN</td>\n",
       "      <td>NaN</td>\n",
       "    </tr>\n",
       "    <tr>\n",
       "      <th>1</th>\n",
       "      <td>4990000000004544</td>\n",
       "      <td>2021-05-01T10:57:07.240Z</td>\n",
       "      <td>TRIP_PASS</td>\n",
       "      <td>HOUSE</td>\n",
       "      <td>HOUSE_CARD</td>\n",
       "      <td>8002762949719302</td>\n",
       "      <td>Full Fare</td>\n",
       "      <td>3175928</td>\n",
       "      <td>2</td>\n",
       "      <td>36.069205</td>\n",
       "      <td>-79.786919</td>\n",
       "      <td>H2R252</td>\n",
       "      <td>0</td>\n",
       "      <td>0</td>\n",
       "      <td>Greensboro Depot</td>\n",
       "      <td>142</td>\n",
       "      <td>Full Fare 10 Ride</td>\n",
       "      <td>NaN</td>\n",
       "    </tr>\n",
       "    <tr>\n",
       "      <th>2</th>\n",
       "      <td>5230000000005269</td>\n",
       "      <td>2021-05-01T10:57:55.861Z</td>\n",
       "      <td>TRIP_PASS</td>\n",
       "      <td>HOUSE</td>\n",
       "      <td>HOUSE_CARD</td>\n",
       "      <td>8084343859045235</td>\n",
       "      <td>Half Priced</td>\n",
       "      <td>3142217</td>\n",
       "      <td>3</td>\n",
       "      <td>35.957476</td>\n",
       "      <td>-80.007037</td>\n",
       "      <td>H2R263</td>\n",
       "      <td>0</td>\n",
       "      <td>0</td>\n",
       "      <td>High Point Terminal (Outer Slip)</td>\n",
       "      <td>225</td>\n",
       "      <td>Half Fare 10 Ride</td>\n",
       "      <td>NaN</td>\n",
       "    </tr>\n",
       "  </tbody>\n",
       "</table>\n",
       "</div>"
      ],
      "text/plain": [
       "               txId                        ts                 type mediaUsed  \\\n",
       "0  4900000000007651  2021-05-01T10:27:12.607Z  MONTHLY_CAP_REACHED     HOUSE   \n",
       "1  4990000000004544  2021-05-01T10:57:07.240Z            TRIP_PASS     HOUSE   \n",
       "2  5230000000005269  2021-05-01T10:57:55.861Z            TRIP_PASS     HOUSE   \n",
       "\n",
       "    mediaType        cardNumber     fareType  accountId routeName   latitude  \\\n",
       "0  HOUSE_CARD  8028816339076671     Employee    3164081   DEFAULT  36.093978   \n",
       "1  HOUSE_CARD  8002762949719302    Full Fare    3175928         2  36.069205   \n",
       "2  HOUSE_CARD  8084343859045235  Half Priced    3142217         3  35.957476   \n",
       "\n",
       "   longitude  reader  readerPosition  fare                          stopName  \\\n",
       "0 -79.959275  H2R217               0     0                               NaN   \n",
       "1 -79.786919  H2R252               0     0                  Greensboro Depot   \n",
       "2 -80.007037  H2R263               0     0  High Point Terminal (Outer Slip)   \n",
       "\n",
       "  stopId           passUsed vehicle  \n",
       "0    NaN                NaN     NaN  \n",
       "1    142  Full Fare 10 Ride     NaN  \n",
       "2    225  Half Fare 10 Ride     NaN  "
      ]
     },
     "execution_count": 5,
     "metadata": {},
     "output_type": "execute_result"
    }
   ],
   "source": [
    "# preview data\n",
    "df.head(3)"
   ]
  },
  {
   "cell_type": "markdown",
   "id": "acdb4432",
   "metadata": {},
   "source": [
    "The dataframe above gives us a preview of what the data looks like. Let's take another look at it before we start to process it."
   ]
  },
  {
   "cell_type": "code",
   "execution_count": 6,
   "id": "befb0806",
   "metadata": {},
   "outputs": [
    {
     "name": "stdout",
     "output_type": "stream",
     "text": [
      "<class 'pandas.core.frame.DataFrame'>\n",
      "RangeIndex: 8643 entries, 0 to 8642\n",
      "Data columns (total 18 columns):\n",
      " #   Column          Non-Null Count  Dtype  \n",
      "---  ------          --------------  -----  \n",
      " 0   txId            8643 non-null   int64  \n",
      " 1   ts              8643 non-null   object \n",
      " 2   type            8643 non-null   object \n",
      " 3   mediaUsed       8643 non-null   object \n",
      " 4   mediaType       8643 non-null   object \n",
      " 5   cardNumber      8643 non-null   object \n",
      " 6   fareType        8643 non-null   object \n",
      " 7   accountId       8643 non-null   int64  \n",
      " 8   routeName       8643 non-null   object \n",
      " 9   latitude        8643 non-null   float64\n",
      " 10  longitude       8643 non-null   float64\n",
      " 11  reader          8643 non-null   object \n",
      " 12  readerPosition  8643 non-null   int64  \n",
      " 13  fare            8643 non-null   int64  \n",
      " 14  stopName        7829 non-null   object \n",
      " 15  stopId          7829 non-null   object \n",
      " 16  passUsed        3377 non-null   object \n",
      " 17  vehicle         1059 non-null   object \n",
      "dtypes: float64(2), int64(4), object(12)\n",
      "memory usage: 1.2+ MB\n"
     ]
    }
   ],
   "source": [
    "df.info()"
   ]
  },
  {
   "cell_type": "markdown",
   "id": "f3ca0a20",
   "metadata": {},
   "source": [
    "We need to convert `ts` or timestamp to a datetime object. We'll also convert the time to Eastern Standard time and create a few attributes for date and time. Then we'll drop a few columns that are of no interest to the analysis."
   ]
  },
  {
   "cell_type": "code",
   "execution_count": 7,
   "id": "ce461395",
   "metadata": {},
   "outputs": [],
   "source": [
    "# Convert ts to a datetime object\n",
    "df['ts'] = pd.to_datetime(df['ts'])\n",
    "# Create new Date field and convert ts from UTC to local time\n",
    "df['date'] = df['ts'].dt.tz_convert('US/Eastern')\n",
    "# Create date only field\n",
    "df['date_only'] = df['date'].dt.date\n",
    "df['time_only'] = [dt.datetime.time(d) for d in df['date']]"
   ]
  },
  {
   "cell_type": "code",
   "execution_count": 8,
   "id": "8af08537",
   "metadata": {},
   "outputs": [],
   "source": [
    "sdf = gpd.GeoDataFrame(df, geometry=gpd.points_from_xy(df['longitude'], df['latitude']))"
   ]
  },
  {
   "cell_type": "code",
   "execution_count": 9,
   "id": "30e0146e",
   "metadata": {},
   "outputs": [],
   "source": [
    "cols_to_drop = ['txId', 'ts', 'mediaUsed', 'accountId', 'reader', 'readerPosition', 'vehicle', 'latitude', 'longitude']"
   ]
  },
  {
   "cell_type": "code",
   "execution_count": 10,
   "id": "5a62f5bf",
   "metadata": {},
   "outputs": [],
   "source": [
    "sdf.drop(cols_to_drop, axis=1, inplace=True)"
   ]
  },
  {
   "cell_type": "markdown",
   "id": "2221a0c2",
   "metadata": {},
   "source": [
    "With our data set converted, we will visualize any missing data."
   ]
  },
  {
   "cell_type": "code",
   "execution_count": 11,
   "id": "e445998d",
   "metadata": {},
   "outputs": [
    {
     "data": {
      "image/png": "[encoded data removed]",
      "text/plain": [
       "<Figure size 1080x576 with 1 Axes>"
      ]
     },
     "metadata": {
      "needs_background": "light"
     },
     "output_type": "display_data"
    }
   ],
   "source": [
    "plt.figure(figsize=(15,8))\n",
    "ax = sns.heatmap(sdf.isnull(), cbar=False, cmap='magma')\n",
    "plt.yticks([])\n",
    "plt.title('Missing data by attribute', fontsize=15)\n",
    "plt.show()"
   ]
  },
  {
   "cell_type": "markdown",
   "id": "b4add4df",
   "metadata": {},
   "source": [
    "We can see that there are a few missing values in the `stopName` and `stopId` attributes. There are even more missing values in the `passUsed` attributes. What this tells us is that most transactions have been completed using stored value which acts as cash and there is no pass used.\n",
    "\n",
    "Let's learn a little more about which passes have been used."
   ]
  },
  {
   "cell_type": "code",
   "execution_count": 12,
   "id": "c33c0f1f",
   "metadata": {},
   "outputs": [
    {
     "data": {
      "text/html": [
       "<div>\n",
       "<style scoped>\n",
       "    .dataframe tbody tr th:only-of-type {\n",
       "        vertical-align: middle;\n",
       "    }\n",
       "\n",
       "    .dataframe tbody tr th {\n",
       "        vertical-align: top;\n",
       "    }\n",
       "\n",
       "    .dataframe thead th {\n",
       "        text-align: right;\n",
       "    }\n",
       "</style>\n",
       "<table border=\"1\" class=\"dataframe\">\n",
       "  <thead>\n",
       "    <tr style=\"text-align: right;\">\n",
       "      <th></th>\n",
       "      <th>passUsed</th>\n",
       "    </tr>\n",
       "  </thead>\n",
       "  <tbody>\n",
       "    <tr>\n",
       "      <th>Full Fare 10 Ride</th>\n",
       "      <td>1060</td>\n",
       "    </tr>\n",
       "    <tr>\n",
       "      <th>UNC XPass 2020-21</th>\n",
       "      <td>673</td>\n",
       "    </tr>\n",
       "    <tr>\n",
       "      <th>Half Fare 10 Ride</th>\n",
       "      <td>647</td>\n",
       "    </tr>\n",
       "    <tr>\n",
       "      <th>Half Fare 31 Day</th>\n",
       "      <td>215</td>\n",
       "    </tr>\n",
       "    <tr>\n",
       "      <th>Student 31 Day</th>\n",
       "      <td>169</td>\n",
       "    </tr>\n",
       "    <tr>\n",
       "      <th>Free One Way PT</th>\n",
       "      <td>139</td>\n",
       "    </tr>\n",
       "    <tr>\n",
       "      <th>One Way PT</th>\n",
       "      <td>135</td>\n",
       "    </tr>\n",
       "    <tr>\n",
       "      <th>Triad XPass 10 Ride</th>\n",
       "      <td>114</td>\n",
       "    </tr>\n",
       "    <tr>\n",
       "      <th>Full Fare 31 Day</th>\n",
       "      <td>83</td>\n",
       "    </tr>\n",
       "    <tr>\n",
       "      <th>Student 10 Ride</th>\n",
       "      <td>57</td>\n",
       "    </tr>\n",
       "    <tr>\n",
       "      <th>10-Ride Accomm</th>\n",
       "      <td>28</td>\n",
       "    </tr>\n",
       "    <tr>\n",
       "      <th>XPass 31 Day</th>\n",
       "      <td>20</td>\n",
       "    </tr>\n",
       "    <tr>\n",
       "      <th>Free One Way Accom</th>\n",
       "      <td>18</td>\n",
       "    </tr>\n",
       "    <tr>\n",
       "      <th>PTI Airport Connector</th>\n",
       "      <td>12</td>\n",
       "    </tr>\n",
       "    <tr>\n",
       "      <th>Free Round-Trip</th>\n",
       "      <td>4</td>\n",
       "    </tr>\n",
       "    <tr>\n",
       "      <th>Triad XPass 31 Day</th>\n",
       "      <td>3</td>\n",
       "    </tr>\n",
       "  </tbody>\n",
       "</table>\n",
       "</div>"
      ],
      "text/plain": [
       "                       passUsed\n",
       "Full Fare 10 Ride          1060\n",
       "UNC XPass 2020-21           673\n",
       "Half Fare 10 Ride           647\n",
       "Half Fare 31 Day            215\n",
       "Student 31 Day              169\n",
       "Free One Way PT             139\n",
       "One Way PT                  135\n",
       "Triad XPass 10 Ride         114\n",
       "Full Fare 31 Day             83\n",
       "Student 10 Ride              57\n",
       "10-Ride Accomm               28\n",
       "XPass 31 Day                 20\n",
       "Free One Way Accom           18\n",
       "PTI Airport Connector        12\n",
       "Free Round-Trip               4\n",
       "Triad XPass 31 Day            3"
      ]
     },
     "execution_count": 12,
     "metadata": {},
     "output_type": "execute_result"
    }
   ],
   "source": [
    "sdf['passUsed'].value_counts().to_frame()"
   ]
  },
  {
   "cell_type": "markdown",
   "id": "9522c169",
   "metadata": {},
   "source": [
    "We can see that there are a variety of passes used on PART Express but the most common pass is the `Full Fare 10 Ride`. There also appears to be an equal number of `UNC XPass` and `Half Fare 10 Ride` passes used in the month of May. We also see that the `Triad XPass 10 Ride` is more popular than the `XPass 31 Day` pass."
   ]
  },
  {
   "cell_type": "markdown",
   "id": "05a42f83",
   "metadata": {},
   "source": [
    "Let's see how many unique `cardNumber`s there are in the data set. We might assume this number represents the unique passengers in the system."
   ]
  },
  {
   "cell_type": "code",
   "execution_count": 13,
   "id": "8a082a3f",
   "metadata": {},
   "outputs": [
    {
     "data": {
      "text/plain": [
       "836"
      ]
     },
     "execution_count": 13,
     "metadata": {},
     "output_type": "execute_result"
    }
   ],
   "source": [
    "# unique users in data set\n",
    "len(sdf['cardNumber'].unique())"
   ]
  },
  {
   "cell_type": "markdown",
   "id": "730e2a6c",
   "metadata": {},
   "source": [
    "We can see that there are 836 unique card numbers in the data set. \n",
    "\n",
    "Let's look at the types of transactions..."
   ]
  },
  {
   "cell_type": "code",
   "execution_count": 14,
   "id": "4a2889e8",
   "metadata": {},
   "outputs": [
    {
     "data": {
      "text/html": [
       "<div>\n",
       "<style scoped>\n",
       "    .dataframe tbody tr th:only-of-type {\n",
       "        vertical-align: middle;\n",
       "    }\n",
       "\n",
       "    .dataframe tbody tr th {\n",
       "        vertical-align: top;\n",
       "    }\n",
       "\n",
       "    .dataframe thead th {\n",
       "        text-align: right;\n",
       "    }\n",
       "</style>\n",
       "<table border=\"1\" class=\"dataframe\">\n",
       "  <thead>\n",
       "    <tr style=\"text-align: right;\">\n",
       "      <th></th>\n",
       "      <th>type</th>\n",
       "    </tr>\n",
       "  </thead>\n",
       "  <tbody>\n",
       "    <tr>\n",
       "      <th>TRANSFER</th>\n",
       "      <td>2378</td>\n",
       "    </tr>\n",
       "    <tr>\n",
       "      <th>TRIP_PASS</th>\n",
       "      <td>2206</td>\n",
       "    </tr>\n",
       "    <tr>\n",
       "      <th>STORED_VALUE</th>\n",
       "      <td>1238</td>\n",
       "    </tr>\n",
       "    <tr>\n",
       "      <th>DAILY_CAP_REACHED</th>\n",
       "      <td>959</td>\n",
       "    </tr>\n",
       "    <tr>\n",
       "      <th>MONTHLY_CAP_REACHED</th>\n",
       "      <td>699</td>\n",
       "    </tr>\n",
       "    <tr>\n",
       "      <th>CALENDAR_PASS</th>\n",
       "      <td>673</td>\n",
       "    </tr>\n",
       "    <tr>\n",
       "      <th>TIME_PASS</th>\n",
       "      <td>490</td>\n",
       "    </tr>\n",
       "  </tbody>\n",
       "</table>\n",
       "</div>"
      ],
      "text/plain": [
       "                     type\n",
       "TRANSFER             2378\n",
       "TRIP_PASS            2206\n",
       "STORED_VALUE         1238\n",
       "DAILY_CAP_REACHED     959\n",
       "MONTHLY_CAP_REACHED   699\n",
       "CALENDAR_PASS         673\n",
       "TIME_PASS             490"
      ]
     },
     "execution_count": 14,
     "metadata": {},
     "output_type": "execute_result"
    }
   ],
   "source": [
    "sdf['type'].value_counts().to_frame()"
   ]
  },
  {
   "cell_type": "code",
   "execution_count": 15,
   "id": "20402e21",
   "metadata": {},
   "outputs": [
    {
     "data": {
      "text/html": [
       "<div>\n",
       "<style scoped>\n",
       "    .dataframe tbody tr th:only-of-type {\n",
       "        vertical-align: middle;\n",
       "    }\n",
       "\n",
       "    .dataframe tbody tr th {\n",
       "        vertical-align: top;\n",
       "    }\n",
       "\n",
       "    .dataframe thead th {\n",
       "        text-align: right;\n",
       "    }\n",
       "</style>\n",
       "<table border=\"1\" class=\"dataframe\">\n",
       "  <thead>\n",
       "    <tr style=\"text-align: right;\">\n",
       "      <th></th>\n",
       "      <th>type</th>\n",
       "    </tr>\n",
       "  </thead>\n",
       "  <tbody>\n",
       "    <tr>\n",
       "      <th>TRANSFER</th>\n",
       "      <td>27.513595</td>\n",
       "    </tr>\n",
       "    <tr>\n",
       "      <th>TRIP_PASS</th>\n",
       "      <td>25.523545</td>\n",
       "    </tr>\n",
       "    <tr>\n",
       "      <th>STORED_VALUE</th>\n",
       "      <td>14.323730</td>\n",
       "    </tr>\n",
       "    <tr>\n",
       "      <th>DAILY_CAP_REACHED</th>\n",
       "      <td>11.095684</td>\n",
       "    </tr>\n",
       "    <tr>\n",
       "      <th>MONTHLY_CAP_REACHED</th>\n",
       "      <td>8.087470</td>\n",
       "    </tr>\n",
       "    <tr>\n",
       "      <th>CALENDAR_PASS</th>\n",
       "      <td>7.786648</td>\n",
       "    </tr>\n",
       "    <tr>\n",
       "      <th>TIME_PASS</th>\n",
       "      <td>5.669328</td>\n",
       "    </tr>\n",
       "  </tbody>\n",
       "</table>\n",
       "</div>"
      ],
      "text/plain": [
       "                          type\n",
       "TRANSFER             27.513595\n",
       "TRIP_PASS            25.523545\n",
       "STORED_VALUE         14.323730\n",
       "DAILY_CAP_REACHED    11.095684\n",
       "MONTHLY_CAP_REACHED   8.087470\n",
       "CALENDAR_PASS         7.786648\n",
       "TIME_PASS             5.669328"
      ]
     },
     "execution_count": 15,
     "metadata": {},
     "output_type": "execute_result"
    }
   ],
   "source": [
    "sdf['type'].value_counts(normalize=True).to_frame()*100"
   ]
  },
  {
   "cell_type": "markdown",
   "id": "0132d42d",
   "metadata": {},
   "source": [
    "Looking at the types of transactions, we can see that `TRANSFER` is the most common. The second table shows that transfers account for about 27% of transactions in May in the TouchPass system. Only about 14% or 1,238 transactions used `STORED VALUE`."
   ]
  },
  {
   "cell_type": "code",
   "execution_count": 16,
   "id": "4018dd0d",
   "metadata": {},
   "outputs": [],
   "source": [
    "# group by cardNumber and date\n",
    "all_cards_by_date = sdf.groupby(['cardNumber', 'date_only']).size().to_frame()\n",
    "\n",
    "# rename column\n",
    "all_cards_by_date.rename(columns={0: 'Count'}, inplace=True)"
   ]
  },
  {
   "cell_type": "code",
   "execution_count": 17,
   "id": "2dc6bf7d",
   "metadata": {},
   "outputs": [
    {
     "data": {
      "text/html": [
       "<div>\n",
       "<style scoped>\n",
       "    .dataframe tbody tr th:only-of-type {\n",
       "        vertical-align: middle;\n",
       "    }\n",
       "\n",
       "    .dataframe tbody tr th {\n",
       "        vertical-align: top;\n",
       "    }\n",
       "\n",
       "    .dataframe thead th {\n",
       "        text-align: right;\n",
       "    }\n",
       "</style>\n",
       "<table border=\"1\" class=\"dataframe\">\n",
       "  <thead>\n",
       "    <tr style=\"text-align: right;\">\n",
       "      <th></th>\n",
       "      <th>Count</th>\n",
       "    </tr>\n",
       "    <tr>\n",
       "      <th>cardNumber</th>\n",
       "      <th></th>\n",
       "    </tr>\n",
       "  </thead>\n",
       "  <tbody>\n",
       "    <tr>\n",
       "      <th>8043099273812846</th>\n",
       "      <td>94</td>\n",
       "    </tr>\n",
       "    <tr>\n",
       "      <th>8002762949719302</th>\n",
       "      <td>86</td>\n",
       "    </tr>\n",
       "    <tr>\n",
       "      <th>7836721698662976</th>\n",
       "      <td>81</td>\n",
       "    </tr>\n",
       "    <tr>\n",
       "      <th>8084965856722984</th>\n",
       "      <td>80</td>\n",
       "    </tr>\n",
       "    <tr>\n",
       "      <th>8040448200289326</th>\n",
       "      <td>78</td>\n",
       "    </tr>\n",
       "  </tbody>\n",
       "</table>\n",
       "</div>"
      ],
      "text/plain": [
       "                  Count\n",
       "cardNumber             \n",
       "8043099273812846     94\n",
       "8002762949719302     86\n",
       "7836721698662976     81\n",
       "8084965856722984     80\n",
       "8040448200289326     78"
      ]
     },
     "execution_count": 17,
     "metadata": {},
     "output_type": "execute_result"
    }
   ],
   "source": [
    "all_cards_by_date.sum(level='cardNumber').sort_values(by='Count', ascending=False)[0:5]"
   ]
  },
  {
   "cell_type": "markdown",
   "id": "7f1ecfba",
   "metadata": {},
   "source": [
    "The table above shows the top 5 card numbers by number of transactions. We can see that one passenger had 94 transactions in the month of May. Let's take a look at the average number of transactions by card number."
   ]
  },
  {
   "cell_type": "code",
   "execution_count": 18,
   "id": "6be0030f",
   "metadata": {},
   "outputs": [
    {
     "data": {
      "text/html": [
       "<div>\n",
       "<style scoped>\n",
       "    .dataframe tbody tr th:only-of-type {\n",
       "        vertical-align: middle;\n",
       "    }\n",
       "\n",
       "    .dataframe tbody tr th {\n",
       "        vertical-align: top;\n",
       "    }\n",
       "\n",
       "    .dataframe thead th {\n",
       "        text-align: right;\n",
       "    }\n",
       "</style>\n",
       "<table border=\"1\" class=\"dataframe\">\n",
       "  <thead>\n",
       "    <tr style=\"text-align: right;\">\n",
       "      <th></th>\n",
       "      <th>Count</th>\n",
       "    </tr>\n",
       "    <tr>\n",
       "      <th>cardNumber</th>\n",
       "      <th></th>\n",
       "    </tr>\n",
       "  </thead>\n",
       "  <tbody>\n",
       "    <tr>\n",
       "      <th>8085476407283467</th>\n",
       "      <td>6.000000</td>\n",
       "    </tr>\n",
       "    <tr>\n",
       "      <th>7096424500002979</th>\n",
       "      <td>5.916667</td>\n",
       "    </tr>\n",
       "    <tr>\n",
       "      <th>8005074717035789</th>\n",
       "      <td>5.428571</td>\n",
       "    </tr>\n",
       "    <tr>\n",
       "      <th>8079064859863347</th>\n",
       "      <td>5.000000</td>\n",
       "    </tr>\n",
       "    <tr>\n",
       "      <th>8059132773694942</th>\n",
       "      <td>5.000000</td>\n",
       "    </tr>\n",
       "  </tbody>\n",
       "</table>\n",
       "</div>"
      ],
      "text/plain": [
       "                     Count\n",
       "cardNumber                \n",
       "8085476407283467  6.000000\n",
       "7096424500002979  5.916667\n",
       "8005074717035789  5.428571\n",
       "8079064859863347  5.000000\n",
       "8059132773694942  5.000000"
      ]
     },
     "execution_count": 18,
     "metadata": {},
     "output_type": "execute_result"
    }
   ],
   "source": [
    "all_cards_by_date.mean(level='cardNumber').sort_values(by='Count', ascending=False)[0:5]"
   ]
  },
  {
   "cell_type": "markdown",
   "id": "ba5732b3",
   "metadata": {},
   "source": [
    "We can see that the highest daily average is 6.0 transactions. \n",
    "\n",
    "Let's see how many stops passengers utilize."
   ]
  },
  {
   "cell_type": "code",
   "execution_count": 19,
   "id": "cfeb2dce",
   "metadata": {},
   "outputs": [],
   "source": [
    "all_cards_by_stop = sdf.groupby('cardNumber')['stopName'].nunique().sort_values(ascending=False)"
   ]
  },
  {
   "cell_type": "code",
   "execution_count": 20,
   "id": "d6159250",
   "metadata": {},
   "outputs": [
    {
     "data": {
      "text/html": [
       "<div>\n",
       "<style scoped>\n",
       "    .dataframe tbody tr th:only-of-type {\n",
       "        vertical-align: middle;\n",
       "    }\n",
       "\n",
       "    .dataframe tbody tr th {\n",
       "        vertical-align: top;\n",
       "    }\n",
       "\n",
       "    .dataframe thead th {\n",
       "        text-align: right;\n",
       "    }\n",
       "</style>\n",
       "<table border=\"1\" class=\"dataframe\">\n",
       "  <thead>\n",
       "    <tr style=\"text-align: right;\">\n",
       "      <th></th>\n",
       "      <th>stopName</th>\n",
       "    </tr>\n",
       "    <tr>\n",
       "      <th>cardNumber</th>\n",
       "      <th></th>\n",
       "    </tr>\n",
       "  </thead>\n",
       "  <tbody>\n",
       "    <tr>\n",
       "      <th>8052921885342607</th>\n",
       "      <td>8</td>\n",
       "    </tr>\n",
       "    <tr>\n",
       "      <th>8015331484731141</th>\n",
       "      <td>8</td>\n",
       "    </tr>\n",
       "    <tr>\n",
       "      <th>8002150993129240</th>\n",
       "      <td>8</td>\n",
       "    </tr>\n",
       "    <tr>\n",
       "      <th>8084182476520810</th>\n",
       "      <td>7</td>\n",
       "    </tr>\n",
       "    <tr>\n",
       "      <th>8066038346750072</th>\n",
       "      <td>7</td>\n",
       "    </tr>\n",
       "  </tbody>\n",
       "</table>\n",
       "</div>"
      ],
      "text/plain": [
       "                  stopName\n",
       "cardNumber                \n",
       "8052921885342607         8\n",
       "8015331484731141         8\n",
       "8002150993129240         8\n",
       "8084182476520810         7\n",
       "8066038346750072         7"
      ]
     },
     "execution_count": 20,
     "metadata": {},
     "output_type": "execute_result"
    }
   ],
   "source": [
    "all_cards_by_stop.to_frame()[0:5]"
   ]
  },
  {
   "cell_type": "markdown",
   "id": "f2577bf7",
   "metadata": {},
   "source": [
    "The table shows the top five card numbers with the most unique stop activity. We can see that three passengers utilized as many as 8 stops while at least two passengers accessed the system from 7 different stops in the month of May."
   ]
  },
  {
   "cell_type": "code",
   "execution_count": 21,
   "id": "539fdb28",
   "metadata": {},
   "outputs": [],
   "source": [
    "bar_order = [\n",
    "    '1', '2', '3', '4', '5', '6', '9', '10', '17',\n",
    "    '20', '21', '22', '23', '24', '20/21', '22/23',\n",
    "    'North Shuttle', 'South Shuttle', 'DEFAULT'\n",
    "]"
   ]
  },
  {
   "cell_type": "code",
   "execution_count": 22,
   "id": "17839a6e",
   "metadata": {},
   "outputs": [
    {
     "data": {
      "image/png": "[encoded data removed]",
      "text/plain": [
       "<Figure size 1080x504 with 1 Axes>"
      ]
     },
     "metadata": {
      "needs_background": "light"
     },
     "output_type": "display_data"
    }
   ],
   "source": [
    "plt.figure(figsize=(15,7))\n",
    "ax = sns.countplot(x=sdf['routeName'], order=bar_order, palette='Set2')\n",
    "plt.title('Umo Transactions by Route for May 2021', fontsize=15)\n",
    "plt.xticks(rotation=45, rotation_mode='anchor', horizontalalignment='right', fontsize=12)\n",
    "plt.yticks(fontsize=12)\n",
    "plt.xlabel('')\n",
    "plt.ylabel('Count', fontsize=13)\n",
    "plt.show()"
   ]
  },
  {
   "cell_type": "markdown",
   "id": "fbb6ed65",
   "metadata": {},
   "source": [
    "The bar plot above shows the number of transactions by route for the month of May. We can see that the majority of Umo transactions occurred on Route 2. The transactions appear to be evenly split among Routes 1 and 3. There are also slightly less transactions on Route 4. The remaining routes seem to have low utilization."
   ]
  },
  {
   "cell_type": "markdown",
   "id": "f2c2c800",
   "metadata": {},
   "source": [
    "### Daily Fare Cap Utilization"
   ]
  },
  {
   "cell_type": "markdown",
   "id": "c2a7ab99",
   "metadata": {},
   "source": [
    "Let's take a look at the utilization of the daily fare capping. We'll first need to filter for passengers who use stored value and do not use some sort of pass. We'll also remove any employees."
   ]
  },
  {
   "cell_type": "code",
   "execution_count": 23,
   "id": "6a63a2bf",
   "metadata": {},
   "outputs": [],
   "source": [
    "# create array of card numbers who use stored value and are not employees\n",
    "sv_users = sdf.loc[(sdf['type'] == 'STORED_VALUE') & (sdf['fareType'] != 'Employee'), 'cardNumber'].unique()"
   ]
  },
  {
   "cell_type": "code",
   "execution_count": 24,
   "id": "d7f61117",
   "metadata": {},
   "outputs": [],
   "source": [
    "# create data set of trips of those users who used store value\n",
    "sv_user_trips = sdf[sdf['cardNumber'].isin(sv_users)]"
   ]
  },
  {
   "cell_type": "code",
   "execution_count": 25,
   "id": "39dc67ef",
   "metadata": {},
   "outputs": [],
   "source": [
    "# create index for days in May and create list for day of week name\n",
    "may_days = pd.date_range(start='2021-05-01', end='2021-05-31')\n",
    "dow_names = may_days.day_name()\n",
    "\n",
    "daily_cap_reached = []\n",
    "daily_passengers = []\n",
    "\n",
    "for day in may_days:\n",
    "    # create dataframe for each day\n",
    "    x = sv_user_trips[sv_user_trips['date_only'] == day]\n",
    "    \n",
    "    # get number of unique card numbers who reached their daily fare cap\n",
    "    x_cap = x[x['type'] == 'DAILY_CAP_REACHED']['cardNumber'].nunique()\n",
    "    daily_cap_reached.append(x_cap)\n",
    "    \n",
    "    # get number of unique card numbers who had\n",
    "    # at least one transaction that day\n",
    "    x_passengers = x['cardNumber'].nunique()\n",
    "    daily_passengers.append(x_passengers)"
   ]
  },
  {
   "cell_type": "code",
   "execution_count": 26,
   "id": "57623c8d",
   "metadata": {},
   "outputs": [
    {
     "data": {
      "text/html": [
       "<div>\n",
       "<style scoped>\n",
       "    .dataframe tbody tr th:only-of-type {\n",
       "        vertical-align: middle;\n",
       "    }\n",
       "\n",
       "    .dataframe tbody tr th {\n",
       "        vertical-align: top;\n",
       "    }\n",
       "\n",
       "    .dataframe thead th {\n",
       "        text-align: right;\n",
       "    }\n",
       "</style>\n",
       "<table border=\"1\" class=\"dataframe\">\n",
       "  <thead>\n",
       "    <tr style=\"text-align: right;\">\n",
       "      <th></th>\n",
       "      <th>Day of Week</th>\n",
       "      <th>Reached Daily Cap</th>\n",
       "      <th>SV Unique Passengers</th>\n",
       "      <th>Daily Cap Percent</th>\n",
       "    </tr>\n",
       "  </thead>\n",
       "  <tbody>\n",
       "    <tr>\n",
       "      <th>2021-05-01</th>\n",
       "      <td>Saturday</td>\n",
       "      <td>8</td>\n",
       "      <td>30</td>\n",
       "      <td>26.67</td>\n",
       "    </tr>\n",
       "    <tr>\n",
       "      <th>2021-05-03</th>\n",
       "      <td>Monday</td>\n",
       "      <td>26</td>\n",
       "      <td>71</td>\n",
       "      <td>36.62</td>\n",
       "    </tr>\n",
       "    <tr>\n",
       "      <th>2021-05-04</th>\n",
       "      <td>Tuesday</td>\n",
       "      <td>21</td>\n",
       "      <td>66</td>\n",
       "      <td>31.82</td>\n",
       "    </tr>\n",
       "    <tr>\n",
       "      <th>2021-05-05</th>\n",
       "      <td>Wednesday</td>\n",
       "      <td>23</td>\n",
       "      <td>70</td>\n",
       "      <td>32.86</td>\n",
       "    </tr>\n",
       "    <tr>\n",
       "      <th>2021-05-06</th>\n",
       "      <td>Thursday</td>\n",
       "      <td>33</td>\n",
       "      <td>75</td>\n",
       "      <td>44.00</td>\n",
       "    </tr>\n",
       "    <tr>\n",
       "      <th>2021-05-07</th>\n",
       "      <td>Friday</td>\n",
       "      <td>22</td>\n",
       "      <td>72</td>\n",
       "      <td>30.56</td>\n",
       "    </tr>\n",
       "    <tr>\n",
       "      <th>2021-05-08</th>\n",
       "      <td>Saturday</td>\n",
       "      <td>7</td>\n",
       "      <td>35</td>\n",
       "      <td>20.00</td>\n",
       "    </tr>\n",
       "    <tr>\n",
       "      <th>2021-05-10</th>\n",
       "      <td>Monday</td>\n",
       "      <td>13</td>\n",
       "      <td>70</td>\n",
       "      <td>18.57</td>\n",
       "    </tr>\n",
       "    <tr>\n",
       "      <th>2021-05-11</th>\n",
       "      <td>Tuesday</td>\n",
       "      <td>21</td>\n",
       "      <td>62</td>\n",
       "      <td>33.87</td>\n",
       "    </tr>\n",
       "    <tr>\n",
       "      <th>2021-05-12</th>\n",
       "      <td>Wednesday</td>\n",
       "      <td>24</td>\n",
       "      <td>71</td>\n",
       "      <td>33.80</td>\n",
       "    </tr>\n",
       "    <tr>\n",
       "      <th>2021-05-13</th>\n",
       "      <td>Thursday</td>\n",
       "      <td>32</td>\n",
       "      <td>77</td>\n",
       "      <td>41.56</td>\n",
       "    </tr>\n",
       "    <tr>\n",
       "      <th>2021-05-14</th>\n",
       "      <td>Friday</td>\n",
       "      <td>20</td>\n",
       "      <td>61</td>\n",
       "      <td>32.79</td>\n",
       "    </tr>\n",
       "    <tr>\n",
       "      <th>2021-05-15</th>\n",
       "      <td>Saturday</td>\n",
       "      <td>10</td>\n",
       "      <td>29</td>\n",
       "      <td>34.48</td>\n",
       "    </tr>\n",
       "    <tr>\n",
       "      <th>2021-05-17</th>\n",
       "      <td>Monday</td>\n",
       "      <td>19</td>\n",
       "      <td>71</td>\n",
       "      <td>26.76</td>\n",
       "    </tr>\n",
       "    <tr>\n",
       "      <th>2021-05-18</th>\n",
       "      <td>Tuesday</td>\n",
       "      <td>29</td>\n",
       "      <td>74</td>\n",
       "      <td>39.19</td>\n",
       "    </tr>\n",
       "    <tr>\n",
       "      <th>2021-05-19</th>\n",
       "      <td>Wednesday</td>\n",
       "      <td>22</td>\n",
       "      <td>69</td>\n",
       "      <td>31.88</td>\n",
       "    </tr>\n",
       "    <tr>\n",
       "      <th>2021-05-20</th>\n",
       "      <td>Thursday</td>\n",
       "      <td>27</td>\n",
       "      <td>78</td>\n",
       "      <td>34.62</td>\n",
       "    </tr>\n",
       "    <tr>\n",
       "      <th>2021-05-21</th>\n",
       "      <td>Friday</td>\n",
       "      <td>21</td>\n",
       "      <td>79</td>\n",
       "      <td>26.58</td>\n",
       "    </tr>\n",
       "    <tr>\n",
       "      <th>2021-05-22</th>\n",
       "      <td>Saturday</td>\n",
       "      <td>11</td>\n",
       "      <td>30</td>\n",
       "      <td>36.67</td>\n",
       "    </tr>\n",
       "    <tr>\n",
       "      <th>2021-05-24</th>\n",
       "      <td>Monday</td>\n",
       "      <td>15</td>\n",
       "      <td>75</td>\n",
       "      <td>20.00</td>\n",
       "    </tr>\n",
       "    <tr>\n",
       "      <th>2021-05-25</th>\n",
       "      <td>Tuesday</td>\n",
       "      <td>27</td>\n",
       "      <td>76</td>\n",
       "      <td>35.53</td>\n",
       "    </tr>\n",
       "    <tr>\n",
       "      <th>2021-05-26</th>\n",
       "      <td>Wednesday</td>\n",
       "      <td>22</td>\n",
       "      <td>67</td>\n",
       "      <td>32.84</td>\n",
       "    </tr>\n",
       "    <tr>\n",
       "      <th>2021-05-27</th>\n",
       "      <td>Thursday</td>\n",
       "      <td>19</td>\n",
       "      <td>73</td>\n",
       "      <td>26.03</td>\n",
       "    </tr>\n",
       "    <tr>\n",
       "      <th>2021-05-28</th>\n",
       "      <td>Friday</td>\n",
       "      <td>27</td>\n",
       "      <td>73</td>\n",
       "      <td>36.99</td>\n",
       "    </tr>\n",
       "    <tr>\n",
       "      <th>2021-05-29</th>\n",
       "      <td>Saturday</td>\n",
       "      <td>12</td>\n",
       "      <td>26</td>\n",
       "      <td>46.15</td>\n",
       "    </tr>\n",
       "  </tbody>\n",
       "</table>\n",
       "</div>"
      ],
      "text/plain": [
       "           Day of Week  Reached Daily Cap  SV Unique Passengers  \\\n",
       "2021-05-01    Saturday                  8                    30   \n",
       "2021-05-03      Monday                 26                    71   \n",
       "2021-05-04     Tuesday                 21                    66   \n",
       "2021-05-05   Wednesday                 23                    70   \n",
       "2021-05-06    Thursday                 33                    75   \n",
       "2021-05-07      Friday                 22                    72   \n",
       "2021-05-08    Saturday                  7                    35   \n",
       "2021-05-10      Monday                 13                    70   \n",
       "2021-05-11     Tuesday                 21                    62   \n",
       "2021-05-12   Wednesday                 24                    71   \n",
       "2021-05-13    Thursday                 32                    77   \n",
       "2021-05-14      Friday                 20                    61   \n",
       "2021-05-15    Saturday                 10                    29   \n",
       "2021-05-17      Monday                 19                    71   \n",
       "2021-05-18     Tuesday                 29                    74   \n",
       "2021-05-19   Wednesday                 22                    69   \n",
       "2021-05-20    Thursday                 27                    78   \n",
       "2021-05-21      Friday                 21                    79   \n",
       "2021-05-22    Saturday                 11                    30   \n",
       "2021-05-24      Monday                 15                    75   \n",
       "2021-05-25     Tuesday                 27                    76   \n",
       "2021-05-26   Wednesday                 22                    67   \n",
       "2021-05-27    Thursday                 19                    73   \n",
       "2021-05-28      Friday                 27                    73   \n",
       "2021-05-29    Saturday                 12                    26   \n",
       "\n",
       "            Daily Cap Percent  \n",
       "2021-05-01              26.67  \n",
       "2021-05-03              36.62  \n",
       "2021-05-04              31.82  \n",
       "2021-05-05              32.86  \n",
       "2021-05-06              44.00  \n",
       "2021-05-07              30.56  \n",
       "2021-05-08              20.00  \n",
       "2021-05-10              18.57  \n",
       "2021-05-11              33.87  \n",
       "2021-05-12              33.80  \n",
       "2021-05-13              41.56  \n",
       "2021-05-14              32.79  \n",
       "2021-05-15              34.48  \n",
       "2021-05-17              26.76  \n",
       "2021-05-18              39.19  \n",
       "2021-05-19              31.88  \n",
       "2021-05-20              34.62  \n",
       "2021-05-21              26.58  \n",
       "2021-05-22              36.67  \n",
       "2021-05-24              20.00  \n",
       "2021-05-25              35.53  \n",
       "2021-05-26              32.84  \n",
       "2021-05-27              26.03  \n",
       "2021-05-28              36.99  \n",
       "2021-05-29              46.15  "
      ]
     },
     "execution_count": 26,
     "metadata": {},
     "output_type": "execute_result"
    }
   ],
   "source": [
    "# create dataframe from data above\n",
    "daily_cap_sample = pd.DataFrame(list(zip(dow_names, daily_cap_reached, daily_passengers)),\n",
    "                               columns=['Day of Week', 'Reached Daily Cap', 'SV Unique Passengers'],\n",
    "                               index=may_days)\n",
    "\n",
    "# create daily cap percent column\n",
    "daily_cap_sample['Daily Cap Percent'] = round(\n",
    "    daily_cap_sample['Reached Daily Cap'] / daily_cap_sample['SV Unique Passengers'] * 100, 2\n",
    ")\n",
    "\n",
    "# show table and remove days with no trips\n",
    "daily_cap_sample[daily_cap_sample['SV Unique Passengers'] > 0]"
   ]
  },
  {
   "cell_type": "code",
   "execution_count": 27,
   "id": "5c1f27c3",
   "metadata": {},
   "outputs": [
    {
     "data": {
      "image/png": "[encoded data removed]",
      "text/plain": [
       "<Figure size 1080x504 with 1 Axes>"
      ]
     },
     "metadata": {
      "needs_background": "light"
     },
     "output_type": "display_data"
    }
   ],
   "source": [
    "# create line chart for percentage daily cap reached\n",
    "plt.figure(figsize=(15,7))\n",
    "ax = sns.lineplot(\n",
    "    data=daily_cap_sample,\n",
    "    x=daily_cap_sample.index,\n",
    "    y='Daily Cap Percent',\n",
    "    marker='o',\n",
    "    markersize=8.75,\n",
    "    linewidth=3,\n",
    "    color='#2B5877'\n",
    ")\n",
    "sns.despine()\n",
    "plt.title('Percentage of Daily Cap Reached by Day, May 2021', fontsize=15)\n",
    "plt.xticks(fontsize=12)\n",
    "plt.yticks(fontsize=12)\n",
    "plt.xlabel('')\n",
    "plt.ylabel('Percentage', fontsize=13)\n",
    "plt.ylim(0, 50)\n",
    "plt.show()"
   ]
  },
  {
   "cell_type": "code",
   "execution_count": 28,
   "id": "ee3f175c",
   "metadata": {},
   "outputs": [
    {
     "name": "stdout",
     "output_type": "stream",
     "text": [
      "Of passengers who use stored value, the average percentage of passengers who reached their daily cap during the week is 32.34, while the average percentage for Saturday is 32.79\n"
     ]
    }
   ],
   "source": [
    "avg_wkdy_cap_per = daily_cap_sample[daily_cap_sample['Day of Week'] != 'Saturday']['Daily Cap Percent'].mean()\n",
    "avg_sat_cap_per = daily_cap_sample[daily_cap_sample['Day of Week'] == 'Saturday']['Daily Cap Percent'].mean()\n",
    "\n",
    "print('Of passengers who use stored value, the average percentage of passengers who reached their daily cap during the week is {:.2f}, while the average percentage for Saturday is {:.2f}'.format(avg_wkdy_cap_per, avg_sat_cap_per))"
   ]
  },
  {
   "cell_type": "markdown",
   "id": "ef059aee",
   "metadata": {},
   "source": [
    "It appears that daily fare capping is equally utilized on Saturdays and during the week. At least in the month of May. The 32 percent utilization is really interesting because say a passenger uses their TouchPass/Umo account to board a bus in the morning and they pay their fare using stored value. Then in the afternoon, they board a bus paying with their stored value. Because this second transaction meets the daily fare cap limit, this transaction is recorded as having reached their daily fare cap. With this information, it is surprising to see such low utilization of the daily fare capping benefits. "
   ]
  },
  {
   "cell_type": "markdown",
   "id": "46dda844",
   "metadata": {},
   "source": [
    "To demonstrate that last point, let's sample the data set and confirm that is how the system behaves."
   ]
  },
  {
   "cell_type": "code",
   "execution_count": 29,
   "id": "9fee6b8d",
   "metadata": {},
   "outputs": [
    {
     "data": {
      "text/html": [
       "<div>\n",
       "<style scoped>\n",
       "    .dataframe tbody tr th:only-of-type {\n",
       "        vertical-align: middle;\n",
       "    }\n",
       "\n",
       "    .dataframe tbody tr th {\n",
       "        vertical-align: top;\n",
       "    }\n",
       "\n",
       "    .dataframe thead th {\n",
       "        text-align: right;\n",
       "    }\n",
       "</style>\n",
       "<table border=\"1\" class=\"dataframe\">\n",
       "  <thead>\n",
       "    <tr style=\"text-align: right;\">\n",
       "      <th></th>\n",
       "      <th>cardNumber</th>\n",
       "      <th>date_only</th>\n",
       "    </tr>\n",
       "  </thead>\n",
       "  <tbody>\n",
       "    <tr>\n",
       "      <th>8088</th>\n",
       "      <td>8034118865554789</td>\n",
       "      <td>2021-05-27</td>\n",
       "    </tr>\n",
       "  </tbody>\n",
       "</table>\n",
       "</div>"
      ],
      "text/plain": [
       "            cardNumber   date_only\n",
       "8088  8034118865554789  2021-05-27"
      ]
     },
     "execution_count": 29,
     "metadata": {},
     "output_type": "execute_result"
    }
   ],
   "source": [
    "sdf[sdf['type'] == 'DAILY_CAP_REACHED'][['cardNumber', 'date_only']].sample(1, random_state=999)"
   ]
  },
  {
   "cell_type": "code",
   "execution_count": 30,
   "id": "0b9c6507",
   "metadata": {},
   "outputs": [
    {
     "data": {
      "text/html": [
       "<div>\n",
       "<style scoped>\n",
       "    .dataframe tbody tr th:only-of-type {\n",
       "        vertical-align: middle;\n",
       "    }\n",
       "\n",
       "    .dataframe tbody tr th {\n",
       "        vertical-align: top;\n",
       "    }\n",
       "\n",
       "    .dataframe thead th {\n",
       "        text-align: right;\n",
       "    }\n",
       "</style>\n",
       "<table border=\"1\" class=\"dataframe\">\n",
       "  <thead>\n",
       "    <tr style=\"text-align: right;\">\n",
       "      <th></th>\n",
       "      <th>type</th>\n",
       "      <th>mediaType</th>\n",
       "      <th>cardNumber</th>\n",
       "      <th>fareType</th>\n",
       "      <th>routeName</th>\n",
       "      <th>fare</th>\n",
       "      <th>stopName</th>\n",
       "      <th>stopId</th>\n",
       "      <th>passUsed</th>\n",
       "      <th>date</th>\n",
       "      <th>date_only</th>\n",
       "      <th>time_only</th>\n",
       "      <th>geometry</th>\n",
       "    </tr>\n",
       "  </thead>\n",
       "  <tbody>\n",
       "    <tr>\n",
       "      <th>7928</th>\n",
       "      <td>STORED_VALUE</td>\n",
       "      <td>HOUSE_CARD</td>\n",
       "      <td>8034118865554789</td>\n",
       "      <td>Full Fare</td>\n",
       "      <td>3</td>\n",
       "      <td>250</td>\n",
       "      <td>High Point Terminal (Outer Slip)</td>\n",
       "      <td>225</td>\n",
       "      <td>NaN</td>\n",
       "      <td>2021-05-27 13:21:12.206000-04:00</td>\n",
       "      <td>2021-05-27</td>\n",
       "      <td>13:21:12.206000</td>\n",
       "      <td>POINT (-80.00729 35.95728)</td>\n",
       "    </tr>\n",
       "    <tr>\n",
       "      <th>7948</th>\n",
       "      <td>TRANSFER</td>\n",
       "      <td>HOUSE_CARD</td>\n",
       "      <td>8034118865554789</td>\n",
       "      <td>Full Fare</td>\n",
       "      <td>2</td>\n",
       "      <td>0</td>\n",
       "      <td>Coble Transportation Center</td>\n",
       "      <td>100</td>\n",
       "      <td>NaN</td>\n",
       "      <td>2021-05-27 14:44:08.967000-04:00</td>\n",
       "      <td>2021-05-27</td>\n",
       "      <td>14:44:08.967000</td>\n",
       "      <td>POINT (-79.95934 36.09366)</td>\n",
       "    </tr>\n",
       "    <tr>\n",
       "      <th>8088</th>\n",
       "      <td>DAILY_CAP_REACHED</td>\n",
       "      <td>HOUSE_CARD</td>\n",
       "      <td>8034118865554789</td>\n",
       "      <td>Full Fare</td>\n",
       "      <td>2</td>\n",
       "      <td>250</td>\n",
       "      <td>Greensboro Depot</td>\n",
       "      <td>142</td>\n",
       "      <td>NaN</td>\n",
       "      <td>2021-05-27 18:14:16.818000-04:00</td>\n",
       "      <td>2021-05-27</td>\n",
       "      <td>18:14:16.818000</td>\n",
       "      <td>POINT (-79.78680 36.06929)</td>\n",
       "    </tr>\n",
       "    <tr>\n",
       "      <th>8102</th>\n",
       "      <td>DAILY_CAP_REACHED</td>\n",
       "      <td>HOUSE_CARD</td>\n",
       "      <td>8034118865554789</td>\n",
       "      <td>Full Fare</td>\n",
       "      <td>3</td>\n",
       "      <td>0</td>\n",
       "      <td>Coble Transportation Center</td>\n",
       "      <td>100</td>\n",
       "      <td>NaN</td>\n",
       "      <td>2021-05-27 18:44:17.441000-04:00</td>\n",
       "      <td>2021-05-27</td>\n",
       "      <td>18:44:17.441000</td>\n",
       "      <td>POINT (-79.95913 36.09392)</td>\n",
       "    </tr>\n",
       "  </tbody>\n",
       "</table>\n",
       "</div>"
      ],
      "text/plain": [
       "                   type   mediaType        cardNumber   fareType routeName  \\\n",
       "7928       STORED_VALUE  HOUSE_CARD  8034118865554789  Full Fare         3   \n",
       "7948           TRANSFER  HOUSE_CARD  8034118865554789  Full Fare         2   \n",
       "8088  DAILY_CAP_REACHED  HOUSE_CARD  8034118865554789  Full Fare         2   \n",
       "8102  DAILY_CAP_REACHED  HOUSE_CARD  8034118865554789  Full Fare         3   \n",
       "\n",
       "      fare                          stopName stopId passUsed  \\\n",
       "7928   250  High Point Terminal (Outer Slip)    225      NaN   \n",
       "7948     0       Coble Transportation Center    100      NaN   \n",
       "8088   250                  Greensboro Depot    142      NaN   \n",
       "8102     0       Coble Transportation Center    100      NaN   \n",
       "\n",
       "                                 date   date_only        time_only  \\\n",
       "7928 2021-05-27 13:21:12.206000-04:00  2021-05-27  13:21:12.206000   \n",
       "7948 2021-05-27 14:44:08.967000-04:00  2021-05-27  14:44:08.967000   \n",
       "8088 2021-05-27 18:14:16.818000-04:00  2021-05-27  18:14:16.818000   \n",
       "8102 2021-05-27 18:44:17.441000-04:00  2021-05-27  18:44:17.441000   \n",
       "\n",
       "                        geometry  \n",
       "7928  POINT (-80.00729 35.95728)  \n",
       "7948  POINT (-79.95934 36.09366)  \n",
       "8088  POINT (-79.78680 36.06929)  \n",
       "8102  POINT (-79.95913 36.09392)  "
      ]
     },
     "execution_count": 30,
     "metadata": {},
     "output_type": "execute_result"
    }
   ],
   "source": [
    "sdf.loc[(sdf['cardNumber'] == '8034118865554789') & (sdf['date_only'] == pd.to_datetime('2021-05-27'))].sort_values(by='time_only')"
   ]
  },
  {
   "cell_type": "markdown",
   "id": "94174963",
   "metadata": {},
   "source": [
    "The table above confirms our understanding of the TouchPass system. We can see this passenger boarded Route 3 at the High Point Terminal around 1:21 PM. They used their free transfer to board Route 2 at the CTC at 2:45 PM. Then their next transaction occurred around 6:15 PM and is recorded as having reached their daily fare cap. Any subsequent transactions will be recorded as such."
   ]
  },
  {
   "cell_type": "markdown",
   "id": "3ef4c772",
   "metadata": {},
   "source": [
    "Let's examine how passengers who reach their daily fare cap behave versus those passengers who do not. To do this, we will create two data sets. One will contain transactions for days where passengers reached their daily fare cap and the second will contain transactions on days where the passenger did not reach their daily fare cap."
   ]
  },
  {
   "cell_type": "code",
   "execution_count": 70,
   "id": "12f7eb41",
   "metadata": {},
   "outputs": [
    {
     "name": "stdout",
     "output_type": "stream",
     "text": [
      "Wall time: 169 ms\n"
     ]
    }
   ],
   "source": [
    "%%time\n",
    "# create empty list to store matching records\n",
    "cap_data = []\n",
    "noncap_data = []\n",
    "\n",
    "for day in may_days:\n",
    "    # create dataframe for each day\n",
    "    x = sv_user_trips[sv_user_trips['date_only'] == day]\n",
    "    \n",
    "    # get number of unique card numbers who reached their daily fare cap\n",
    "    daily_cap_reached_cards = x[x['type'] == 'DAILY_CAP_REACHED']['cardNumber'].unique()\n",
    "    \n",
    "    # create data set of daily transactions of those users who reached daily fare cap\n",
    "    daily_cap_trx = (x[x['cardNumber'].isin(daily_cap_reached_cards)])\n",
    "    nondaily_cap_trx = (x[~x['cardNumber'].isin(daily_cap_reached_cards)])\n",
    "    \n",
    "    # append data to list \n",
    "    cap_data.append(daily_cap_trx)\n",
    "    noncap_data.append(nondaily_cap_trx)\n",
    "\n",
    "# merge data\n",
    "daily_cap_trx_df = pd.concat(cap_data)\n",
    "non_daily_cap_trx_df = pd.concat(noncap_data)"
   ]
  },
  {
   "cell_type": "markdown",
   "id": "0b6106ba",
   "metadata": {},
   "source": [
    "Let's check to make sure the data was successfully split."
   ]
  },
  {
   "cell_type": "code",
   "execution_count": 76,
   "id": "273a98fd",
   "metadata": {},
   "outputs": [
    {
     "data": {
      "text/html": [
       "<div>\n",
       "<style scoped>\n",
       "    .dataframe tbody tr th:only-of-type {\n",
       "        vertical-align: middle;\n",
       "    }\n",
       "\n",
       "    .dataframe tbody tr th {\n",
       "        vertical-align: top;\n",
       "    }\n",
       "\n",
       "    .dataframe thead th {\n",
       "        text-align: right;\n",
       "    }\n",
       "</style>\n",
       "<table border=\"1\" class=\"dataframe\">\n",
       "  <thead>\n",
       "    <tr style=\"text-align: right;\">\n",
       "      <th></th>\n",
       "      <th>type</th>\n",
       "      <th>mediaType</th>\n",
       "      <th>cardNumber</th>\n",
       "      <th>fareType</th>\n",
       "      <th>routeName</th>\n",
       "      <th>fare</th>\n",
       "      <th>stopName</th>\n",
       "      <th>stopId</th>\n",
       "      <th>passUsed</th>\n",
       "      <th>date</th>\n",
       "      <th>date_only</th>\n",
       "      <th>time_only</th>\n",
       "      <th>geometry</th>\n",
       "    </tr>\n",
       "  </thead>\n",
       "  <tbody>\n",
       "  </tbody>\n",
       "</table>\n",
       "</div>"
      ],
      "text/plain": [
       "Empty GeoDataFrame\n",
       "Columns: [type, mediaType, cardNumber, fareType, routeName, fare, stopName, stopId, passUsed, date, date_only, time_only, geometry]\n",
       "Index: []"
      ]
     },
     "execution_count": 76,
     "metadata": {},
     "output_type": "execute_result"
    }
   ],
   "source": [
    "non_daily_cap_trx_df[non_daily_cap_trx_df['type'] == 'DAILY_CAP_REACHED']"
   ]
  },
  {
   "cell_type": "code",
   "execution_count": 77,
   "id": "3e2ce04a",
   "metadata": {},
   "outputs": [
    {
     "data": {
      "text/plain": [
       "4089"
      ]
     },
     "execution_count": 77,
     "metadata": {},
     "output_type": "execute_result"
    }
   ],
   "source": [
    "len(sv_user_trips)"
   ]
  },
  {
   "cell_type": "code",
   "execution_count": 78,
   "id": "23ee70be",
   "metadata": {},
   "outputs": [
    {
     "data": {
      "text/plain": [
       "4089"
      ]
     },
     "execution_count": 78,
     "metadata": {},
     "output_type": "execute_result"
    }
   ],
   "source": [
    "len(daily_cap_trx_df) + len(non_daily_cap_trx_df)"
   ]
  },
  {
   "cell_type": "markdown",
   "id": "e38cf338",
   "metadata": {},
   "source": [
    "Awesome. We can see that there are no transactions in the non daily fare cap data frame where daily fare cap was reached the the length of the stored value data frame matches the length of the two data frames we just created.\n",
    "\n",
    "Let's take a look at how these two groups of passengers access the system."
   ]
  },
  {
   "cell_type": "code",
   "execution_count": 80,
   "id": "b34fd8b0",
   "metadata": {},
   "outputs": [
    {
     "data": {
      "image/png": "[encoded data removed]",
      "text/plain": [
       "<Figure size 1080x432 with 2 Axes>"
      ]
     },
     "metadata": {
      "needs_background": "light"
     },
     "output_type": "display_data"
    }
   ],
   "source": [
    "df1 = daily_cap_trx_df['stopName'].value_counts(normalize=True)[0:5]\n",
    "df2 = non_daily_cap_trx_df['stopName'].value_counts(normalize=True)[0:5]\n",
    "\n",
    "fig, axes = plt.subplots(nrows=1, ncols=2, sharey=True, figsize=(15,6))\n",
    "\n",
    "df1.plot(kind='bar', color='#F0584A', ax=axes[0])\n",
    "df2.plot(kind='bar', color='#2B5877', ax=axes[1])\n",
    "\n",
    "axes[0].set_title('Most Used Stops for Passegers who Reached Daily Cap', fontsize=15)\n",
    "axes[1].set_title('Most Used Stops for Passengers who did not Reach Daily Cap', fontsize=15)\n",
    "\n",
    "axes[0].set_ylabel('Percentage', fontsize=13)\n",
    "\n",
    "axes[0].set_xticklabels(labels=df1.index, rotation=45, rotation_mode='anchor', horizontalalignment='right', fontsize=12)\n",
    "axes[1].set_xticklabels(labels=df2.index, rotation=45, rotation_mode='anchor', horizontalalignment='right', fontsize=12)\n",
    "\n",
    "plt.show()"
   ]
  },
  {
   "cell_type": "markdown",
   "id": "73cedf8c",
   "metadata": {},
   "source": [
    "The two plots above show the top 5 stops for passengers who utilize daily fare capping and for those passengers who use stored value but have not taken advantage of daily fare capping. The counts have been normalized, or converted to percentages, so they can be easily compared. The plots reveal an almost identical distribution. The same five stops appear in both categories of passengers. The majority of activity is centered on the CTC and the other transportation centers. \n",
    "\n",
    "Let's take a look at time of day."
   ]
  },
  {
   "cell_type": "code",
   "execution_count": 81,
   "id": "db340879",
   "metadata": {},
   "outputs": [],
   "source": [
    "# create hour attribute in the two dataframes\n",
    "daily_cap_trx_df['HOUR'] = pd.to_datetime(daily_cap_trx_df['date'], format='%Y-%m-%d %H:%M:%S.%f').dt.hour\n",
    "non_daily_cap_trx_df['HOUR'] = pd.to_datetime(non_daily_cap_trx_df['date'], format='%Y-%m-%d %H:%M:%S.%f').dt.hour"
   ]
  },
  {
   "cell_type": "code",
   "execution_count": 82,
   "id": "0535f0bb",
   "metadata": {},
   "outputs": [],
   "source": [
    "# group by hour and get a count\n",
    "daily_cap_users_by_hour = daily_cap_trx_df.groupby('HOUR').size() / 25 # number of weekdays/Saturdays in May\n",
    "nondaily_cap_users_by_hour = non_daily_cap_trx_df.groupby('HOUR').size() / 25 # number of weekdays/Saturdays in May"
   ]
  },
  {
   "cell_type": "code",
   "execution_count": 84,
   "id": "95f179cf",
   "metadata": {},
   "outputs": [
    {
     "data": {
      "image/png": "[encoded data removed]",
      "text/plain": [
       "<Figure size 1152x576 with 2 Axes>"
      ]
     },
     "metadata": {
      "needs_background": "light"
     },
     "output_type": "display_data"
    }
   ],
   "source": [
    "# create subplots to show activity throughout the day\n",
    "fig, axes = plt.subplots(nrows=2, ncols=1, sharex=True, figsize=(16,8))\n",
    "\n",
    "daily_cap_users_by_hour.plot(kind='line', marker='o', markersize=8.75, linewidth=3, color='#F0584A', ax=axes[0])\n",
    "nondaily_cap_users_by_hour.plot(kind='line', marker='o', markersize=8.75, linewidth=3, color='#2B5877', ax=axes[1])\n",
    "\n",
    "axes[0].set_title('Average Daily Transactions by Hour for Passengers who Reached Daily Fare Cap', fontsize=15)\n",
    "axes[1].set_title('Average Daily Transactions by Hour for Passengers who did not Reach Daily Fare Cap', fontsize=15)\n",
    "\n",
    "axes[0].set_ylabel('Avg. Daily Transactions', fontsize=13)\n",
    "axes[1].set_ylabel('Avg. Daily Transactions', fontsize=13)\n",
    "\n",
    "plt.show()"
   ]
  },
  {
   "cell_type": "markdown",
   "id": "e20c6dff",
   "metadata": {},
   "source": [
    "The two plots above show the average number of transactions by hour for the two groups we have been analyzing. Both distributions are bimodal with peaks during the morning and afternoon with a mid-day slump. This is not really the expected output. We would have thought that the passengers who did not reach their daily fare cap would utilize the system differently than those who did reach their daily fare cap. "
   ]
  },
  {
   "cell_type": "markdown",
   "id": "974f6f3c",
   "metadata": {},
   "source": [
    "Let's take a look at how often individuals are taking advantage of daily fare capping."
   ]
  },
  {
   "cell_type": "code",
   "execution_count": 111,
   "id": "32230693",
   "metadata": {},
   "outputs": [],
   "source": [
    "# sv_user_trips_by_card_type_date = sv_user_trips.groupby(['cardNumber', 'type', 'date_only']).size()"
   ]
  },
  {
   "cell_type": "code",
   "execution_count": null,
   "id": "1a1f0b0c",
   "metadata": {},
   "outputs": [],
   "source": []
  },
  {
   "cell_type": "code",
   "execution_count": null,
   "id": "5b0f3036",
   "metadata": {},
   "outputs": [],
   "source": []
  },
  {
   "cell_type": "code",
   "execution_count": null,
   "id": "f32e8995",
   "metadata": {},
   "outputs": [],
   "source": []
  },
  {
   "cell_type": "code",
   "execution_count": null,
   "id": "157a76f2",
   "metadata": {},
   "outputs": [],
   "source": []
  },
  {
   "cell_type": "code",
   "execution_count": null,
   "id": "adb04b86",
   "metadata": {},
   "outputs": [],
   "source": []
  },
  {
   "cell_type": "code",
   "execution_count": null,
   "id": "d8c477db",
   "metadata": {},
   "outputs": [],
   "source": []
  },
  {
   "cell_type": "code",
   "execution_count": null,
   "id": "0d1d95ff",
   "metadata": {},
   "outputs": [],
   "source": []
  },
  {
   "cell_type": "code",
   "execution_count": null,
   "id": "4d76a12d",
   "metadata": {},
   "outputs": [],
   "source": []
  },
  {
   "cell_type": "code",
   "execution_count": null,
   "id": "312ea556",
   "metadata": {},
   "outputs": [],
   "source": []
  },
  {
   "cell_type": "code",
   "execution_count": null,
   "id": "85fb6e6e",
   "metadata": {},
   "outputs": [],
   "source": []
  },
  {
   "cell_type": "code",
   "execution_count": null,
   "id": "5894e644",
   "metadata": {},
   "outputs": [],
   "source": []
  },
  {
   "cell_type": "code",
   "execution_count": null,
   "id": "853b77bd",
   "metadata": {},
   "outputs": [],
   "source": []
  },
  {
   "cell_type": "code",
   "execution_count": null,
   "id": "86ba3d54",
   "metadata": {},
   "outputs": [],
   "source": []
  }
 ],
 "metadata": {
  "kernelspec": {
   "display_name": "Python 3",
   "language": "python",
   "name": "python3"
  },
  "language_info": {
   "codemirror_mode": {
    "name": "ipython",
    "version": 3
   },
   "file_extension": ".py",
   "mimetype": "text/x-python",
   "name": "python",
   "nbconvert_exporter": "python",
   "pygments_lexer": "ipython3",
   "version": "3.9.2"
  }
 },
 "nbformat": 4,
 "nbformat_minor": 5
}
