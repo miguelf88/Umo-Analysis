{
 "cells": [
  {
   "cell_type": "markdown",
   "id": "22f7a520",
   "metadata": {},
   "source": [
    "# TouchPass 2019 to 2021 Comparison"
   ]
  },
  {
   "cell_type": "markdown",
   "id": "988e2416",
   "metadata": {},
   "source": [
    "There have been many changes in public transit ridership since 2019. There was a global pandemic beginning in March 2020 that tanked public transit ridership. Even now in the later summer of 2021, those effects can still be seen. \n",
    "\n",
    "The following analysis will look at mobile faring data for the PART Express system in 2019, which we'll call our baseline ridership trends and in 2021, which will be post-pandemic trends. We will try to understand how passenger's behaviors have changed over the last few years."
   ]
  },
  {
   "cell_type": "markdown",
   "id": "56250e78",
   "metadata": {},
   "source": [
    "We'll begin by importing the necessary libraries and getting the data."
   ]
  },
  {
   "cell_type": "code",
   "execution_count": 153,
   "id": "3efc0bb4",
   "metadata": {},
   "outputs": [],
   "source": [
    "# Import libraries\n",
    "import os\n",
    "import json\n",
    "import requests\n",
    "import numpy as np\n",
    "import pandas as pd\n",
    "import geopandas as gpd\n",
    "\n",
    "import datetime as dt\n",
    "import seaborn as sns\n",
    "import matplotlib.pyplot as plt\n",
    "\n",
    "import warnings\n",
    "warnings.simplefilter(\"ignore\")\n",
    "\n",
    "pd.options.display.max_columns = 999"
   ]
  },
  {
   "cell_type": "code",
   "execution_count": 105,
   "id": "d5c4352e",
   "metadata": {},
   "outputs": [],
   "source": [
    "# define parameters\n",
    "url = 'https://touchpass.com/ams/rest/v1/reporting/faretx/'\n",
    "api_key = os.environ.get('TOUCHPASS_API_KEY')\n",
    "\n",
    "start2019 = '2019-08-01T10:00:00Z'\n",
    "end2019 = '2019-11-01T04:00:00Z'\n",
    "\n",
    "start2021 = '2021-05-01T10:00:00Z'\n",
    "end2021 = '2021-08-01T04:00:00Z'\n",
    "\n",
    "headers = {\n",
    "    'accept': 'application/json',\n",
    "    'Api-Token': api_key,\n",
    "    'Agency-ID': '9K7A4H9JHRVQ'\n",
    "}"
   ]
  },
  {
   "cell_type": "code",
   "execution_count": 134,
   "id": "2ddc97df",
   "metadata": {},
   "outputs": [
    {
     "name": "stdout",
     "output_type": "stream",
     "text": [
      "Finished reading 40,451 transactions from 2019, \n",
      "and 28,592 transactions from 2021...\n",
      "Wall time: 9.13 s\n"
     ]
    }
   ],
   "source": [
    "%%time\n",
    "\n",
    "# call api and save to variable\n",
    "response2019 = requests.get(url + start2019 + '/' + end2019, headers=headers).json()\n",
    "response2021 = requests.get(url + start2021 + '/' + end2021, headers=headers).json()\n",
    "\n",
    "# write response to dataframe\n",
    "df2019 = pd.DataFrame(response2019)\n",
    "df2021 = pd.DataFrame(response2021)\n",
    "\n",
    "\n",
    "print('Finished reading {:,} transactions from 2019, \\nand {:,} transactions from 2021...'.format(len(df2019), len(df2021)))"
   ]
  },
  {
   "cell_type": "code",
   "execution_count": 135,
   "id": "5d8cea25",
   "metadata": {},
   "outputs": [
    {
     "name": "stdout",
     "output_type": "stream",
     "text": [
      "<class 'pandas.core.frame.DataFrame'>\n",
      "RangeIndex: 40451 entries, 0 to 40450\n",
      "Data columns (total 18 columns):\n",
      " #   Column          Non-Null Count  Dtype  \n",
      "---  ------          --------------  -----  \n",
      " 0   txId            40451 non-null  int64  \n",
      " 1   ts              40451 non-null  object \n",
      " 2   type            40451 non-null  object \n",
      " 3   mediaUsed       40451 non-null  object \n",
      " 4   mediaType       40450 non-null  object \n",
      " 5   cardNumber      40450 non-null  object \n",
      " 6   fareType        40451 non-null  object \n",
      " 7   accountId       40450 non-null  float64\n",
      " 8   stopName        35442 non-null  object \n",
      " 9   stopId          35442 non-null  object \n",
      " 10  routeName       40450 non-null  object \n",
      " 11  latitude        40451 non-null  float64\n",
      " 12  longitude       40451 non-null  float64\n",
      " 13  reader          40451 non-null  object \n",
      " 14  vehicle         40450 non-null  object \n",
      " 15  readerPosition  40451 non-null  int64  \n",
      " 16  fare            40451 non-null  int64  \n",
      " 17  passUsed        24450 non-null  object \n",
      "dtypes: float64(3), int64(3), object(12)\n",
      "memory usage: 5.6+ MB\n",
      "<class 'pandas.core.frame.DataFrame'>\n",
      "RangeIndex: 28592 entries, 0 to 28591\n",
      "Data columns (total 18 columns):\n",
      " #   Column          Non-Null Count  Dtype  \n",
      "---  ------          --------------  -----  \n",
      " 0   txId            28592 non-null  int64  \n",
      " 1   ts              28592 non-null  object \n",
      " 2   type            28592 non-null  object \n",
      " 3   mediaUsed       28592 non-null  object \n",
      " 4   mediaType       28590 non-null  object \n",
      " 5   cardNumber      28590 non-null  object \n",
      " 6   fareType        28592 non-null  object \n",
      " 7   accountId       28590 non-null  float64\n",
      " 8   routeName       28592 non-null  object \n",
      " 9   latitude        28592 non-null  float64\n",
      " 10  longitude       28592 non-null  float64\n",
      " 11  reader          28592 non-null  object \n",
      " 12  readerPosition  28592 non-null  int64  \n",
      " 13  fare            28592 non-null  int64  \n",
      " 14  stopName        26177 non-null  object \n",
      " 15  stopId          26177 non-null  object \n",
      " 16  passUsed        11248 non-null  object \n",
      " 17  vehicle         5216 non-null   object \n",
      "dtypes: float64(3), int64(3), object(12)\n",
      "memory usage: 3.9+ MB\n"
     ]
    }
   ],
   "source": [
    "df2019.info()\n",
    "df2021.info()"
   ]
  },
  {
   "cell_type": "code",
   "execution_count": 136,
   "id": "18cf44c0",
   "metadata": {},
   "outputs": [],
   "source": [
    "def data_processing(df):\n",
    "    # remove rows with no cardNumber\n",
    "    df.dropna(subset=['cardNumber'], inplace=True)\n",
    "    \n",
    "    # get and remove employee transactions\n",
    "    emp_cards = df.loc[df['fareType'] == 'Employee', 'cardNumber'].unique()\n",
    "    df = df[~df['cardNumber'].isin(emp_cards)]\n",
    "    \n",
    "    # Convert ts to a datetime object\n",
    "    df['ts'] = pd.to_datetime(df['ts'])\n",
    "    \n",
    "    # Create new Date field and convert ts from UTC to local time\n",
    "    df['date'] = df['ts'].dt.tz_convert('US/Eastern')\n",
    "    \n",
    "    # Create date only and time only fields\n",
    "    df['date_only'] = df['date'].dt.date\n",
    "    df['time_only'] = [dt.datetime.time(d) for d in df['date']]\n",
    "    \n",
    "    # create transfer attribute in data\n",
    "    df['transfer'] = np.where(df.groupby('cardNumber')['date'].diff() <= pd.Timedelta(minutes=95), 'Y', 'N')"
   ]
  },
  {
   "cell_type": "code",
   "execution_count": 137,
   "id": "60e7c27b",
   "metadata": {},
   "outputs": [],
   "source": [
    "# apply function to both dataframes\n",
    "data_processing(df2019)\n",
    "data_processing(df2021)"
   ]
  },
  {
   "cell_type": "markdown",
   "id": "b82e8b5c",
   "metadata": {},
   "source": [
    "Now that we have cleaned up the data a bit and added a few new attributes, let's dig into the data sets. First, let's see how many unique passengers are in the two data sets."
   ]
  },
  {
   "cell_type": "code",
   "execution_count": 178,
   "id": "60fe839e",
   "metadata": {},
   "outputs": [
    {
     "data": {
      "image/png": "[encoded data removed]",
      "text/plain": [
       "<Figure size 720x360 with 1 Axes>"
      ]
     },
     "metadata": {
      "needs_background": "light"
     },
     "output_type": "display_data"
    }
   ],
   "source": [
    "num_uniq_cards_2019 = df2019['cardNumber'].nunique()\n",
    "num_uniq_cards_2021 = df2021['cardNumber'].nunique()\n",
    "\n",
    "labels = ('Unique Accounts 2019', 'Unique Accounts 2021')\n",
    "count = [num_uniq_cards_2019, num_uniq_cards_2021]\n",
    "y_pos = np.arange(len(labels))\n",
    "\n",
    "fig, ax  = plt.subplots(figsize=(10,5))\n",
    "\n",
    "hbars = ax.barh(y_pos, count, align='center', color='#E66F51')\n",
    "ax.set_yticks(y_pos)\n",
    "ax.set_yticklabels(labels, fontsize=14)\n",
    "ax.invert_yaxis()\n",
    "ax.bar_label(hbars, fontsize=18, padding=-55, color='white')\n",
    "\n",
    "plt.title('Number of Unique Accounts', fontsize=20)\n",
    "plt.xticks(fontsize=12)\n",
    "plt.xlabel('Count', fontsize=14)\n",
    "\n",
    "sns.despine()\n",
    "plt.show()"
   ]
  },
  {
   "cell_type": "markdown",
   "id": "f98cf2d8",
   "metadata": {},
   "source": [
    "We can see that there are more active accounts in 2021 than there were in 2019, but not by many."
   ]
  },
  {
   "cell_type": "code",
   "execution_count": 157,
   "id": "a4c7e3f2",
   "metadata": {},
   "outputs": [
    {
     "name": "stdout",
     "output_type": "stream",
     "text": [
      "There are 117 more cards in 2021 than in 2019. This is a 6.18% difference\n"
     ]
    }
   ],
   "source": [
    "cards_diff = num_uniq_cards_2021 - num_uniq_cards_2019\n",
    "per_diff_cards = (num_uniq_cards_2021 - num_uniq_cards_2019) / num_uniq_cards_2019\n",
    "\n",
    "print('There are {} more cards in 2021 than in 2019. This is a {:.2%} difference'.format(cards_diff, per_diff_cards))"
   ]
  },
  {
   "cell_type": "markdown",
   "id": "64d2774f",
   "metadata": {},
   "source": [
    "Let's find out how many cards exist in both data sets. This means that the passenger utilized TouchPass in 2019 and continues to use TouchPass in 2021."
   ]
  },
  {
   "cell_type": "code",
   "execution_count": 158,
   "id": "b55f7e17",
   "metadata": {},
   "outputs": [],
   "source": [
    "# get list of unique cardnumbers for both data sets\n",
    "uniq_cards_2019 = df2019['cardNumber'].unique()\n",
    "uniq_cards_2021 = df2021['cardNumber'].unique()"
   ]
  },
  {
   "cell_type": "code",
   "execution_count": 166,
   "id": "fd3385c9",
   "metadata": {},
   "outputs": [],
   "source": [
    "# get overlapping cardnumbers\n",
    "longterm_pass = [card for card in uniq_cards_2021 if card in uniq_cards_2019]"
   ]
  },
  {
   "cell_type": "code",
   "execution_count": 167,
   "id": "76afdc95",
   "metadata": {},
   "outputs": [
    {
     "name": "stdout",
     "output_type": "stream",
     "text": [
      "There are 84 passengers who are present in both data sets\n"
     ]
    }
   ],
   "source": [
    "print('There are {} passengers who are present in both data sets'.format(len(longterm_pass)))"
   ]
  },
  {
   "cell_type": "code",
   "execution_count": 184,
   "id": "31973f68",
   "metadata": {},
   "outputs": [
    {
     "name": "stdout",
     "output_type": "stream",
     "text": [
      "Those 84 passengers represent approximately 4.18% of the 2021 data set\n"
     ]
    }
   ],
   "source": [
    "per_overlap = len(longterm_pass) / num_uniq_cards_2021\n",
    "\n",
    "print('Those 84 passengers represent approximately {:.2%} of the 2021 data set'.format(per_overlap))"
   ]
  },
  {
   "cell_type": "markdown",
   "id": "9c6781e5",
   "metadata": {},
   "source": [
    "This tells us that most of our current passengers are new to PART or new to TouchPass."
   ]
  },
  {
   "cell_type": "code",
   "execution_count": null,
   "id": "f52b5d0c",
   "metadata": {},
   "outputs": [],
   "source": []
  },
  {
   "cell_type": "markdown",
   "id": "1edbe44f",
   "metadata": {},
   "source": [
    "### Other questions to ask of the data\n",
    "- How many transfers a day are there?\n",
    "- How many routes are passengers using?\n",
    "- How many stops are passengers using?\n",
    "- How many days are passengers riding?"
   ]
  },
  {
   "cell_type": "code",
   "execution_count": 185,
   "id": "adf037b4",
   "metadata": {},
   "outputs": [
    {
     "data": {
      "text/plain": [
       "4                8752\n",
       "2                8353\n",
       "1                5670\n",
       "DEFAULT          3422\n",
       "6                3077\n",
       "3                2974\n",
       "23               1440\n",
       "17               1040\n",
       "22                994\n",
       "20                986\n",
       "North Shuttle     702\n",
       "21                694\n",
       "South Shuttle     678\n",
       "27                429\n",
       "28                417\n",
       "10                357\n",
       "9                 183\n",
       "19                147\n",
       "5                 135\n",
       "Name: routeName, dtype: int64"
      ]
     },
     "execution_count": 185,
     "metadata": {},
     "output_type": "execute_result"
    }
   ],
   "source": [
    "df2019['routeName'].value_counts()"
   ]
  },
  {
   "cell_type": "code",
   "execution_count": 186,
   "id": "901b9617",
   "metadata": {},
   "outputs": [
    {
     "data": {
      "text/plain": [
       "2                9104\n",
       "3                4297\n",
       "1                4086\n",
       "4                2665\n",
       "DEFAULT          1321\n",
       "17               1150\n",
       "22                956\n",
       "21                822\n",
       "24                808\n",
       "6                 709\n",
       "23                616\n",
       "20                546\n",
       "20/21             445\n",
       "22/23             361\n",
       "10                310\n",
       "9                 192\n",
       "South Shuttle     108\n",
       "North Shuttle      82\n",
       "ID: 4014720         4\n",
       "ID: 4014724         4\n",
       "5                   3\n",
       "ID: 4014708         1\n",
       "Name: routeName, dtype: int64"
      ]
     },
     "execution_count": 186,
     "metadata": {},
     "output_type": "execute_result"
    }
   ],
   "source": [
    "df2021['routeName'].value_counts()"
   ]
  },
  {
   "cell_type": "code",
   "execution_count": null,
   "id": "256c7aff",
   "metadata": {},
   "outputs": [],
   "source": []
  },
  {
   "cell_type": "code",
   "execution_count": null,
   "id": "c8286458",
   "metadata": {},
   "outputs": [],
   "source": []
  },
  {
   "cell_type": "code",
   "execution_count": null,
   "id": "341d4d37",
   "metadata": {},
   "outputs": [],
   "source": []
  },
  {
   "cell_type": "code",
   "execution_count": null,
   "id": "172fc1a2",
   "metadata": {},
   "outputs": [],
   "source": []
  }
 ],
 "metadata": {
  "kernelspec": {
   "display_name": "Python 3",
   "language": "python",
   "name": "python3"
  },
  "language_info": {
   "codemirror_mode": {
    "name": "ipython",
    "version": 3
   },
   "file_extension": ".py",
   "mimetype": "text/x-python",
   "name": "python",
   "nbconvert_exporter": "python",
   "pygments_lexer": "ipython3",
   "version": "3.8.10"
  }
 },
 "nbformat": 4,
 "nbformat_minor": 5
}
